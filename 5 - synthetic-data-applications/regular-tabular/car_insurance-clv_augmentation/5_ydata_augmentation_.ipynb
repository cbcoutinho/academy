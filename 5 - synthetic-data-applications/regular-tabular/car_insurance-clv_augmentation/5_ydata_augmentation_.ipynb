{
 "cells": [
  {
   "cell_type": "markdown",
   "id": "cfa2e00e-cd59-487b-ae37-2c39aa94c8a9",
   "metadata": {
    "jupyter": {
     "outputs_hidden": true
    },
    "papermill": {
     "duration": 0.038657,
     "end_time": "2022-03-30T14:05:31.903072",
     "exception": false,
     "start_time": "2022-03-30T14:05:31.864415",
     "status": "completed"
    },
    "tags": []
   },
   "source": [
    "# YData Augmentation \n",
    "\n",
    "Data Augmentation through YData's Synthesizer. "
   ]
  },
  {
   "cell_type": "markdown",
   "id": "bc9357c7-6096-4d2b-a900-289c40a0f7e8",
   "metadata": {
    "papermill": {
     "duration": 0.018382,
     "end_time": "2022-03-30T14:05:31.951500",
     "exception": false,
     "start_time": "2022-03-30T14:05:31.933118",
     "status": "completed"
    },
    "tags": []
   },
   "source": [
    "## 0 - Imports"
   ]
  },
  {
   "cell_type": "code",
   "execution_count": 42,
   "id": "3f31dbd9-ec9c-43b6-a095-6c879a5b9a6b",
   "metadata": {},
   "outputs": [],
   "source": [
    "%%capture\n",
    "!pip install imblearn"
   ]
  },
  {
   "cell_type": "code",
   "execution_count": 43,
   "id": "2c91cd08-1e11-41b0-a637-983568d0ff87",
   "metadata": {
    "papermill": {
     "duration": 6.081183,
     "end_time": "2022-03-30T14:05:46.783624",
     "exception": false,
     "start_time": "2022-03-30T14:05:40.702441",
     "status": "completed"
    },
    "tags": []
   },
   "outputs": [],
   "source": [
    "%%capture \n",
    "import json \n",
    "from ydata.connectors import LocalConnector\n",
    "from ydata.connectors.filetype import FileType\n",
    "from ydata.synthesizers.regular import RegularSynthesizer \n",
    "from ydata.dataset import Dataset\n",
    "\n",
    "from pandas import DataFrame, concat \n",
    "from sklearn.model_selection import train_test_split\n",
    "from sklearn.metrics import f1_score, accuracy_score, precision_score, recall_score\n",
    "from sklearn.ensemble import AdaBoostClassifier\n",
    "\n",
    "from imblearn.over_sampling import SMOTE, ADASYN, BorderlineSMOTE, SVMSMOTE"
   ]
  },
  {
   "cell_type": "markdown",
   "id": "d8603474-66f8-4794-b820-5baabaec1a93",
   "metadata": {
    "papermill": {
     "duration": 0.020601,
     "end_time": "2022-03-30T14:05:46.829307",
     "exception": false,
     "start_time": "2022-03-30T14:05:46.808706",
     "status": "completed"
    },
    "tags": []
   },
   "source": [
    "## 1 - Load Data"
   ]
  },
  {
   "cell_type": "code",
   "execution_count": 44,
   "id": "cb790447-79e9-49bd-9584-72e034b6808e",
   "metadata": {
    "papermill": {
     "duration": 14.036724,
     "end_time": "2022-03-30T14:06:00.888650",
     "exception": false,
     "start_time": "2022-03-30T14:05:46.851926",
     "status": "completed"
    },
    "tags": []
   },
   "outputs": [],
   "source": [
    "# Initialize the YData's connector and load the data\n",
    "connector = LocalConnector()\n",
    "\n",
    "preprocessed_data = connector.read_file('preprocessed_data.csv').to_pandas()"
   ]
  },
  {
   "cell_type": "markdown",
   "id": "8c155609-0c4b-41fa-9af9-253bde932bdf",
   "metadata": {
    "papermill": {
     "duration": 0.018632,
     "end_time": "2022-03-30T14:06:00.924493",
     "exception": false,
     "start_time": "2022-03-30T14:06:00.905861",
     "status": "completed"
    },
    "tags": []
   },
   "source": [
    "## 2 - YData Augmentation"
   ]
  },
  {
   "cell_type": "markdown",
   "id": "f85bc32e-0801-4647-882f-e811f0fa64bf",
   "metadata": {},
   "source": [
    "### 2.1 - Split Data"
   ]
  },
  {
   "cell_type": "code",
   "execution_count": 45,
   "id": "df392b86-2976-40b3-86eb-5f8178adffed",
   "metadata": {
    "papermill": {
     "duration": 6.613693,
     "end_time": "2022-03-30T14:06:07.552982",
     "exception": false,
     "start_time": "2022-03-30T14:06:00.939289",
     "status": "completed"
    },
    "tags": []
   },
   "outputs": [],
   "source": [
    "# Taking the same test set used in the first one. \n",
    "test_data = connector.read_file('test_data.csv').to_pandas()\n",
    "test_data.set_index('index', inplace=True)\n",
    "train_data = preprocessed_data[~preprocessed_data.index.isin(test_data.index)]"
   ]
  },
  {
   "cell_type": "markdown",
   "id": "4e850141-c05d-414d-beee-4b2c73160be7",
   "metadata": {},
   "source": [
    "### 2.2 - Augment with YData Synthesizer"
   ]
  },
  {
   "cell_type": "code",
   "execution_count": 46,
   "id": "80e24b7b-0632-44ab-a9bd-7ba234b78431",
   "metadata": {},
   "outputs": [
    {
     "name": "stdout",
     "output_type": "stream",
     "text": [
      "INFO: 2022-04-04 14:21:39,405 [SYNTHESIZER] - Calculating metadata\n",
      "INFO: 2022-04-04 14:21:40,917 [SYNTHESIZER] - Number columns considered for synth: 11\n",
      "INFO: 2022-04-04 14:21:41,026 [SYNTHESIZER] - Synthesizer init.\n",
      "INFO: 2022-04-04 14:21:41,028 [SYNTHESIZER] - Processing the data prior fitting the synthesizer.\n"
     ]
    }
   ],
   "source": [
    "%%capture \n",
    "synth = RegularSynthesizer()\n",
    "synth.fit(Dataset(preprocessed_data))\n",
    "\n",
    "#generated_data = synth.sample(20000).to_pandas()"
   ]
  },
  {
   "cell_type": "code",
   "execution_count": 55,
   "id": "5100c490-8bab-412c-ae6b-d284e6625fe8",
   "metadata": {},
   "outputs": [],
   "source": [
    "generated_data = LocalConnector().read_file('generated_data.csv').to_pandas()"
   ]
  },
  {
   "cell_type": "code",
   "execution_count": 54,
   "id": "5de27439-7ea2-4d42-afb0-1e07be6d1fc1",
   "metadata": {},
   "outputs": [],
   "source": [
    "train_data_augmented = concat([generated_data, train_data])"
   ]
  },
  {
   "cell_type": "markdown",
   "id": "306ebbe5-029c-4628-953f-60b210a7aa36",
   "metadata": {},
   "source": [
    "### 2.3 - Train and Predict "
   ]
  },
  {
   "cell_type": "code",
   "execution_count": 48,
   "id": "afebdb4d-a554-4ce5-995b-39d0a850b915",
   "metadata": {
    "tags": []
   },
   "outputs": [],
   "source": [
    "classifier = AdaBoostClassifier(random_state=30)\n",
    "classifier.fit(train_data_augmented.drop('customer_lifetime_value', axis=1), train_data_augmented.customer_lifetime_value)\n",
    "y_preds = classifier.predict(test_data.drop('customer_lifetime_value', axis=1))"
   ]
  },
  {
   "cell_type": "markdown",
   "id": "3672f581-c081-4aad-9234-32952758e427",
   "metadata": {},
   "source": [
    "### 2.3 - Metrics "
   ]
  },
  {
   "cell_type": "code",
   "execution_count": 49,
   "id": "8f9e30c0-cbc0-4465-ba8f-284deab3c11d",
   "metadata": {},
   "outputs": [
    {
     "data": {
      "text/html": [
       "<div>\n",
       "<style scoped>\n",
       "    .dataframe tbody tr th:only-of-type {\n",
       "        vertical-align: middle;\n",
       "    }\n",
       "\n",
       "    .dataframe tbody tr th {\n",
       "        vertical-align: top;\n",
       "    }\n",
       "\n",
       "    .dataframe thead th {\n",
       "        text-align: right;\n",
       "    }\n",
       "</style>\n",
       "<table border=\"1\" class=\"dataframe\">\n",
       "  <thead>\n",
       "    <tr style=\"text-align: right;\">\n",
       "      <th></th>\n",
       "      <th>technique</th>\n",
       "      <th>f1_score</th>\n",
       "      <th>accuracy</th>\n",
       "      <th>precision</th>\n",
       "      <th>recall</th>\n",
       "    </tr>\n",
       "  </thead>\n",
       "  <tbody>\n",
       "    <tr>\n",
       "      <th>0</th>\n",
       "      <td>YData</td>\n",
       "      <td>0.87037</td>\n",
       "      <td>0.953333</td>\n",
       "      <td>0.94</td>\n",
       "      <td>0.810345</td>\n",
       "    </tr>\n",
       "  </tbody>\n",
       "</table>\n",
       "</div>"
      ],
      "text/plain": [
       "  technique  f1_score  accuracy  precision    recall\n",
       "0     YData   0.87037  0.953333       0.94  0.810345"
      ]
     },
     "execution_count": 49,
     "metadata": {},
     "output_type": "execute_result"
    }
   ],
   "source": [
    "results = DataFrame(columns=['technique','f1_score','accuracy','precision','recall'])\n",
    "results = results.append({'technique': 'YData',\n",
    "                     'f1_score': f1_score(test_data.customer_lifetime_value, y_preds),\n",
    "                    'accuracy': accuracy_score(test_data.customer_lifetime_value, y_preds),\n",
    "                    'precision': precision_score(test_data.customer_lifetime_value, y_preds),\n",
    "                    'recall': recall_score(test_data.customer_lifetime_value, y_preds)} ,ignore_index=True)\n",
    "results "
   ]
  },
  {
   "cell_type": "markdown",
   "id": "7816874e-f881-442f-95fd-76f64422fa1f",
   "metadata": {},
   "source": [
    "## 3 - Artifacts "
   ]
  },
  {
   "cell_type": "code",
   "execution_count": 50,
   "id": "61ef9cca-21e0-462a-a68e-7aacdebd9031",
   "metadata": {},
   "outputs": [],
   "source": [
    "# Create Artifact. The table with the metrics will be shown on the \\\"Run Output\\\"  section of the \\\"Runs\\\". \\n\",\n",
    "metrics = {\n",
    "        'metrics': [\n",
    "            {\n",
    "                'name': 'F1_Score',\n",
    "                'numberValue': results.f1_score.values[0],\n",
    "                'format': 'PERCENTAGE',\n",
    "            },\n",
    "             {\n",
    "                'name': 'Accuracy_Score',\n",
    "                'numberValue': results.accuracy.values[0],\n",
    "                'format': 'PERCENTAGE',\n",
    "            },\n",
    "             {\n",
    "                'name': 'Precision_Score',\n",
    "                'numberValue':  results.precision.values[0],\n",
    "                'format': 'PERCENTAGE',\n",
    "            },\n",
    "             {\n",
    "                'name': 'Recall_Score',\n",
    "                'numberValue':  results.recall.values[0],\n",
    "                'format': 'PERCENTAGE',\n",
    "            }]}\n",
    "\n",
    "\n",
    "with open(\"mlpipeline-metrics.json\", 'w') as f:\n",
    "        json.dump(metrics, f)"
   ]
  }
 ],
 "metadata": {
  "kernelspec": {
   "display_name": "Python 3 (ipykernel)",
   "language": "python",
   "name": "python3"
  },
  "language_info": {
   "codemirror_mode": {
    "name": "ipython",
    "version": 3
   },
   "file_extension": ".py",
   "mimetype": "text/x-python",
   "name": "python",
   "nbconvert_exporter": "python",
   "pygments_lexer": "ipython3",
   "version": "3.7.11"
  },
  "papermill": {
   "default_parameters": {},
   "duration": 38.709895,
   "end_time": "2022-03-30T14:06:08.528969",
   "environment_variables": {},
   "exception": null,
   "input_path": "/home/ydata/3_check_data_quality.ipynb",
   "output_path": "/home/ydata/3_check_data_quality.ipynb",
   "parameters": {},
   "start_time": "2022-03-30T14:05:29.819074",
   "version": "2.3.4"
  }
 },
 "nbformat": 4,
 "nbformat_minor": 5
}
