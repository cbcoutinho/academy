{
 "cells": [
  {
   "cell_type": "markdown",
   "id": "fec0aca2-d195-45f3-9555-b236b6c1e6dc",
   "metadata": {
    "jupyter": {
     "outputs_hidden": true
    },
    "papermill": {
     "duration": 0.01593,
     "end_time": "2022-03-30T14:03:46.561936",
     "exception": false,
     "start_time": "2022-03-30T14:03:46.546006",
     "status": "completed"
    },
    "tags": []
   },
   "source": [
    "# PreProcess Data \n",
    "\n",
    "Data Profiling through YData's Pandas Profiling. "
   ]
  },
  {
   "cell_type": "markdown",
   "id": "79c5a7ad-eee7-49f8-a44d-56bfc5195a84",
   "metadata": {
    "papermill": {
     "duration": 0.014446,
     "end_time": "2022-03-30T14:03:46.589438",
     "exception": false,
     "start_time": "2022-03-30T14:03:46.574992",
     "status": "completed"
    },
    "tags": []
   },
   "source": [
    "## 0 - Imports"
   ]
  },
  {
   "cell_type": "code",
   "execution_count": 3,
   "id": "850f9298-4466-4098-b9e7-ba0ef5db465f",
   "metadata": {
    "papermill": {
     "duration": 3.514984,
     "end_time": "2022-03-30T14:03:57.711920",
     "exception": false,
     "start_time": "2022-03-30T14:03:54.196936",
     "status": "completed"
    },
    "tags": []
   },
   "outputs": [
    {
     "name": "stderr",
     "output_type": "stream",
     "text": [
      "/opt/conda/lib/python3.7/site-packages/dask_gateway/client.py:21: FutureWarning: format_bytes is deprecated and will be removed in a future release. Please use dask.utils.format_bytes instead.\n",
      "  from distributed.utils import LoopRunner, format_bytes\n"
     ]
    }
   ],
   "source": [
    "from pandas import cut, DataFrame\n",
    "from numpy import array \n",
    "from sklearn.preprocessing import OrdinalEncoder\n",
    "from sklearn.feature_selection import SelectKBest\n",
    "from ydata.connectors import LocalConnector\n",
    "from ydata.connectors.filetype import FileType\n",
    "from ydata.utils.formats import read_json"
   ]
  },
  {
   "cell_type": "markdown",
   "id": "b7972c4e-8860-438c-a950-aa3c2138f348",
   "metadata": {
    "papermill": {
     "duration": 0.017678,
     "end_time": "2022-03-30T14:03:57.747372",
     "exception": false,
     "start_time": "2022-03-30T14:03:57.729694",
     "status": "completed"
    },
    "tags": []
   },
   "source": [
    "## 1 - Load Data"
   ]
  },
  {
   "cell_type": "code",
   "execution_count": 4,
   "id": "fed0d3f4-2c07-4373-8e54-8706158538f5",
   "metadata": {
    "papermill": {
     "duration": 14.583672,
     "end_time": "2022-03-30T14:04:12.351453",
     "exception": false,
     "start_time": "2022-03-30T14:03:57.767781",
     "status": "completed"
    },
    "tags": []
   },
   "outputs": [],
   "source": [
    "# Read data\n",
    "connector = LocalConnector()\n",
    "\n",
    "data = connector.read_file('data.csv').to_pandas()"
   ]
  },
  {
   "cell_type": "markdown",
   "id": "f79063fc-fc80-45ef-86ac-ec1520cfaa3f",
   "metadata": {
    "papermill": {
     "duration": 0.041702,
     "end_time": "2022-03-30T14:04:12.423930",
     "exception": false,
     "start_time": "2022-03-30T14:04:12.382228",
     "status": "completed"
    },
    "tags": []
   },
   "source": [
    "## 2 - Problem Setup and Preprocessing"
   ]
  },
  {
   "cell_type": "markdown",
   "id": "6dfead54-09c9-4f88-bfdc-bc11dc3ea73c",
   "metadata": {},
   "source": [
    "### 2.1 - Columns"
   ]
  },
  {
   "cell_type": "code",
   "execution_count": 5,
   "id": "3c788bac-d400-426e-8008-cb60398d4de7",
   "metadata": {
    "papermill": {
     "duration": 0.26942,
     "end_time": "2022-03-30T14:04:12.778304",
     "exception": false,
     "start_time": "2022-03-30T14:04:12.508884",
     "status": "completed"
    },
    "tags": []
   },
   "outputs": [],
   "source": [
    "x = data.columns.str.lower()\n",
    "x = x.str.replace(' ', '_')\n",
    "data.columns = x\n",
    "data.drop(['customer', 'effective_to_date'], axis=1, inplace=True)"
   ]
  },
  {
   "cell_type": "markdown",
   "id": "249e0773-1a6f-4c5a-a514-e1c0f4b15907",
   "metadata": {},
   "source": [
    "### 2.2 - Creation of Label"
   ]
  },
  {
   "cell_type": "code",
   "execution_count": 6,
   "id": "621aa470-5e85-4eb9-9450-ccb378043e3d",
   "metadata": {},
   "outputs": [],
   "source": [
    "label_cus = cut(data.customer_lifetime_value,\n",
    "                   [0, data.customer_lifetime_value.quantile(0.80), data.customer_lifetime_value.max()],\n",
    "                   labels=[0, 1], include_lowest=True)\n",
    "\n",
    "data.customer_lifetime_value = array(label_cus)"
   ]
  },
  {
   "cell_type": "markdown",
   "id": "cb6aa043-419c-4dab-9de2-946a0bd47ab8",
   "metadata": {},
   "source": [
    "### 2.3 - Categorical Encoding"
   ]
  },
  {
   "cell_type": "code",
   "execution_count": 13,
   "id": "7b5c1ae8-c825-46ed-8738-eeedbe06d204",
   "metadata": {},
   "outputs": [],
   "source": [
    "encoder = OrdinalEncoder()\n",
    "encoded_data = encoder.fit_transform(data)\n",
    "encoded_data = DataFrame(encoded_data, columns=data.columns)"
   ]
  },
  {
   "cell_type": "markdown",
   "id": "d63eb4e0-44d0-4aa1-8f6b-cb82a176f3ad",
   "metadata": {},
   "source": [
    "### 2.4 - Feature Selection"
   ]
  },
  {
   "cell_type": "code",
   "execution_count": 14,
   "id": "f09628ac-26a1-428f-bd9f-e35cd3ae2fd2",
   "metadata": {},
   "outputs": [],
   "source": [
    "feat_select = SelectKBest()\n",
    "temp = feat_select.fit_transform(encoded_data.drop('customer_lifetime_value', axis=1), encoded_data.customer_lifetime_value)\n",
    "scores = {k: v for v, k in zip(feat_select.scores_, encoded_data.drop('customer_lifetime_value', axis=1).columns)}\n",
    "scores = sorted(scores.items(), key=lambda x: x[1])\n",
    "columns_selected = [x for x, y in scores[-10:]]\n",
    "columns_selected.append('customer_lifetime_value')\n",
    "preprocessed_data = encoded_data[columns_selected]"
   ]
  },
  {
   "cell_type": "markdown",
   "id": "4975c0d8-5896-4e90-b404-b21333036f17",
   "metadata": {
    "papermill": {
     "duration": 0.047583,
     "end_time": "2022-03-30T14:04:12.857009",
     "exception": false,
     "start_time": "2022-03-30T14:04:12.809426",
     "status": "completed"
    },
    "tags": []
   },
   "source": [
    "## 3 - Create Artifacts "
   ]
  },
  {
   "cell_type": "code",
   "execution_count": 16,
   "id": "b95330e6-e81d-4cad-b015-041f5ac205c2",
   "metadata": {
    "papermill": {
     "duration": 74.155909,
     "end_time": "2022-03-30T14:05:27.042102",
     "exception": false,
     "start_time": "2022-03-30T14:04:12.886193",
     "status": "completed"
    },
    "tags": []
   },
   "outputs": [],
   "source": [
    "# Here we create the visualization of the table. This is the metadata that kubeflows need to show some lines of the dataset.\n",
    "import json\n",
    "\n",
    "metadata = {\n",
    "    'outputs' : [{\n",
    "      'type': 'table',\n",
    "      'storage': 'inline',\n",
    "      'format': 'csv',\n",
    "      'header': list(preprocessed_data.columns),\n",
    "      'source': preprocessed_data.to_csv(header=False, index=False)\n",
    "    }]\n",
    "  }\n",
    "\n",
    "with open(\"mlpipeline-ui-metadata.json\", 'w') as metadata_file:\n",
    "    json.dump(metadata, metadata_file)"
   ]
  },
  {
   "cell_type": "markdown",
   "id": "25dcf230-461f-4b9c-939d-8fdd9dd0214a",
   "metadata": {},
   "source": [
    "## 4 - Store Data"
   ]
  },
  {
   "cell_type": "code",
   "execution_count": 17,
   "id": "6c1ebf0d-a807-4275-97d1-54a571816c34",
   "metadata": {},
   "outputs": [],
   "source": [
    "connector.write_file(preprocessed_data, 'preprocessed_data.csv')"
   ]
  }
 ],
 "metadata": {
  "kernelspec": {
   "display_name": "Python 3 (ipykernel)",
   "language": "python",
   "name": "python3"
  },
  "language_info": {
   "codemirror_mode": {
    "name": "ipython",
    "version": 3
   },
   "file_extension": ".py",
   "mimetype": "text/x-python",
   "name": "python",
   "nbconvert_exporter": "python",
   "pygments_lexer": "ipython3",
   "version": "3.7.11"
  },
  "papermill": {
   "default_parameters": {},
   "duration": 104.673478,
   "end_time": "2022-03-30T14:05:29.612541",
   "environment_variables": {},
   "exception": null,
   "input_path": "/home/ydata/2_profile_data.ipynb",
   "output_path": "/home/ydata/2_profile_data.ipynb",
   "parameters": {},
   "start_time": "2022-03-30T14:03:44.939063",
   "version": "2.3.4"
  },
  "widgets": {
   "application/vnd.jupyter.widget-state+json": {
    "state": {
     "149ebd6a6e6448acb6a2a28178be43de": {
      "model_module": "@jupyter-widgets/controls",
      "model_module_version": "1.5.0",
      "model_name": "FloatProgressModel",
      "state": {
       "_dom_classes": [],
       "_model_module": "@jupyter-widgets/controls",
       "_model_module_version": "1.5.0",
       "_model_name": "FloatProgressModel",
       "_view_count": null,
       "_view_module": "@jupyter-widgets/controls",
       "_view_module_version": "1.5.0",
       "_view_name": "ProgressView",
       "bar_style": "success",
       "description": "Render HTML: 100%",
       "description_tooltip": null,
       "layout": "IPY_MODEL_84128bf37b794658a7b5d05eb86873d5",
       "max": 1,
       "min": 0,
       "orientation": "horizontal",
       "style": "IPY_MODEL_8c97e850dfa74bb8af74ba4c463f13c7",
       "value": 1
      }
     },
     "1abbd6b6cb854bc19f5785b489e8348d": {
      "model_module": "@jupyter-widgets/controls",
      "model_module_version": "1.5.0",
      "model_name": "DescriptionStyleModel",
      "state": {
       "_model_module": "@jupyter-widgets/controls",
       "_model_module_version": "1.5.0",
       "_model_name": "DescriptionStyleModel",
       "_view_count": null,
       "_view_module": "@jupyter-widgets/base",
       "_view_module_version": "1.2.0",
       "_view_name": "StyleView",
       "description_width": ""
      }
     },
     "1d0c3cae48f548cea6349d6319b519b4": {
      "model_module": "@jupyter-widgets/controls",
      "model_module_version": "1.5.0",
      "model_name": "HBoxModel",
      "state": {
       "_dom_classes": [],
       "_model_module": "@jupyter-widgets/controls",
       "_model_module_version": "1.5.0",
       "_model_name": "HBoxModel",
       "_view_count": null,
       "_view_module": "@jupyter-widgets/controls",
       "_view_module_version": "1.5.0",
       "_view_name": "HBoxView",
       "box_style": "",
       "children": [
        "IPY_MODEL_149ebd6a6e6448acb6a2a28178be43de",
        "IPY_MODEL_53660aff4808475fb6dcd7b43d4d895e"
       ],
       "layout": "IPY_MODEL_731615ada6d64f94b99eec16f90e24a5"
      }
     },
     "264d2adfd7a1482f8006e86ebe6e8605": {
      "model_module": "@jupyter-widgets/controls",
      "model_module_version": "1.5.0",
      "model_name": "FloatProgressModel",
      "state": {
       "_dom_classes": [],
       "_model_module": "@jupyter-widgets/controls",
       "_model_module_version": "1.5.0",
       "_model_name": "FloatProgressModel",
       "_view_count": null,
       "_view_module": "@jupyter-widgets/controls",
       "_view_module_version": "1.5.0",
       "_view_name": "ProgressView",
       "bar_style": "success",
       "description": "Summarize dataset: 100%",
       "description_tooltip": null,
       "layout": "IPY_MODEL_a233ff40f2b9438388cf70c48cd4fde8",
       "max": 24,
       "min": 0,
       "orientation": "horizontal",
       "style": "IPY_MODEL_e1f77c78fc074c24a4944a32a573f38c",
       "value": 24
      }
     },
     "2bceb3c567d94ceb8f59c5181ee499a6": {
      "model_module": "@jupyter-widgets/base",
      "model_module_version": "1.2.0",
      "model_name": "LayoutModel",
      "state": {
       "_model_module": "@jupyter-widgets/base",
       "_model_module_version": "1.2.0",
       "_model_name": "LayoutModel",
       "_view_count": null,
       "_view_module": "@jupyter-widgets/base",
       "_view_module_version": "1.2.0",
       "_view_name": "LayoutView",
       "align_content": null,
       "align_items": null,
       "align_self": null,
       "border": null,
       "bottom": null,
       "display": null,
       "flex": null,
       "flex_flow": null,
       "grid_area": null,
       "grid_auto_columns": null,
       "grid_auto_flow": null,
       "grid_auto_rows": null,
       "grid_column": null,
       "grid_gap": null,
       "grid_row": null,
       "grid_template_areas": null,
       "grid_template_columns": null,
       "grid_template_rows": null,
       "height": null,
       "justify_content": null,
       "justify_items": null,
       "left": null,
       "margin": null,
       "max_height": null,
       "max_width": null,
       "min_height": null,
       "min_width": null,
       "object_fit": null,
       "object_position": null,
       "order": null,
       "overflow": null,
       "overflow_x": null,
       "overflow_y": null,
       "padding": null,
       "right": null,
       "top": null,
       "visibility": null,
       "width": null
      }
     },
     "36c526dcb88a494c91a19ed6281b7651": {
      "model_module": "@jupyter-widgets/base",
      "model_module_version": "1.2.0",
      "model_name": "LayoutModel",
      "state": {
       "_model_module": "@jupyter-widgets/base",
       "_model_module_version": "1.2.0",
       "_model_name": "LayoutModel",
       "_view_count": null,
       "_view_module": "@jupyter-widgets/base",
       "_view_module_version": "1.2.0",
       "_view_name": "LayoutView",
       "align_content": null,
       "align_items": null,
       "align_self": null,
       "border": null,
       "bottom": null,
       "display": null,
       "flex": null,
       "flex_flow": null,
       "grid_area": null,
       "grid_auto_columns": null,
       "grid_auto_flow": null,
       "grid_auto_rows": null,
       "grid_column": null,
       "grid_gap": null,
       "grid_row": null,
       "grid_template_areas": null,
       "grid_template_columns": null,
       "grid_template_rows": null,
       "height": null,
       "justify_content": null,
       "justify_items": null,
       "left": null,
       "margin": null,
       "max_height": null,
       "max_width": null,
       "min_height": null,
       "min_width": null,
       "object_fit": null,
       "object_position": null,
       "order": null,
       "overflow": null,
       "overflow_x": null,
       "overflow_y": null,
       "padding": null,
       "right": null,
       "top": null,
       "visibility": null,
       "width": null
      }
     },
     "38fb69a9f27d443e83d74e2012e788e8": {
      "model_module": "@jupyter-widgets/controls",
      "model_module_version": "1.5.0",
      "model_name": "DescriptionStyleModel",
      "state": {
       "_model_module": "@jupyter-widgets/controls",
       "_model_module_version": "1.5.0",
       "_model_name": "DescriptionStyleModel",
       "_view_count": null,
       "_view_module": "@jupyter-widgets/base",
       "_view_module_version": "1.2.0",
       "_view_name": "StyleView",
       "description_width": ""
      }
     },
     "40202b8a9a144ae0977892bb311b28ec": {
      "model_module": "@jupyter-widgets/controls",
      "model_module_version": "1.5.0",
      "model_name": "HBoxModel",
      "state": {
       "_dom_classes": [],
       "_model_module": "@jupyter-widgets/controls",
       "_model_module_version": "1.5.0",
       "_model_name": "HBoxModel",
       "_view_count": null,
       "_view_module": "@jupyter-widgets/controls",
       "_view_module_version": "1.5.0",
       "_view_name": "HBoxView",
       "box_style": "",
       "children": [
        "IPY_MODEL_98caffb3b194478cb1534ee2f4cd1ba5",
        "IPY_MODEL_415a414d6aff4773af01408701dc4b0e"
       ],
       "layout": "IPY_MODEL_36c526dcb88a494c91a19ed6281b7651"
      }
     },
     "415a414d6aff4773af01408701dc4b0e": {
      "model_module": "@jupyter-widgets/controls",
      "model_module_version": "1.5.0",
      "model_name": "HTMLModel",
      "state": {
       "_dom_classes": [],
       "_model_module": "@jupyter-widgets/controls",
       "_model_module_version": "1.5.0",
       "_model_name": "HTMLModel",
       "_view_count": null,
       "_view_module": "@jupyter-widgets/controls",
       "_view_module_version": "1.5.0",
       "_view_name": "HTMLView",
       "description": "",
       "description_tooltip": null,
       "layout": "IPY_MODEL_fc802a5c7d2845a1832474fb8ef7b4fd",
       "placeholder": "​",
       "style": "IPY_MODEL_38fb69a9f27d443e83d74e2012e788e8",
       "value": " 1/1 [00:13&lt;00:00, 13.56s/it]"
      }
     },
     "53660aff4808475fb6dcd7b43d4d895e": {
      "model_module": "@jupyter-widgets/controls",
      "model_module_version": "1.5.0",
      "model_name": "HTMLModel",
      "state": {
       "_dom_classes": [],
       "_model_module": "@jupyter-widgets/controls",
       "_model_module_version": "1.5.0",
       "_model_name": "HTMLModel",
       "_view_count": null,
       "_view_module": "@jupyter-widgets/controls",
       "_view_module_version": "1.5.0",
       "_view_name": "HTMLView",
       "description": "",
       "description_tooltip": null,
       "layout": "IPY_MODEL_2bceb3c567d94ceb8f59c5181ee499a6",
       "placeholder": "​",
       "style": "IPY_MODEL_e9494f6b120349ec8c136d04c24e7261",
       "value": " 1/1 [00:12&lt;00:00, 12.30s/it]"
      }
     },
     "5540e600649e4e99a3f9e2269d3db7e6": {
      "model_module": "@jupyter-widgets/controls",
      "model_module_version": "1.5.0",
      "model_name": "HBoxModel",
      "state": {
       "_dom_classes": [],
       "_model_module": "@jupyter-widgets/controls",
       "_model_module_version": "1.5.0",
       "_model_name": "HBoxModel",
       "_view_count": null,
       "_view_module": "@jupyter-widgets/controls",
       "_view_module_version": "1.5.0",
       "_view_name": "HBoxView",
       "box_style": "",
       "children": [
        "IPY_MODEL_264d2adfd7a1482f8006e86ebe6e8605",
        "IPY_MODEL_5bf8b4ef8279449087e1ebfcdae86216"
       ],
       "layout": "IPY_MODEL_ed5310e2243e440ea5d23a114b934698"
      }
     },
     "5bf8b4ef8279449087e1ebfcdae86216": {
      "model_module": "@jupyter-widgets/controls",
      "model_module_version": "1.5.0",
      "model_name": "HTMLModel",
      "state": {
       "_dom_classes": [],
       "_model_module": "@jupyter-widgets/controls",
       "_model_module_version": "1.5.0",
       "_model_name": "HTMLModel",
       "_view_count": null,
       "_view_module": "@jupyter-widgets/controls",
       "_view_module_version": "1.5.0",
       "_view_name": "HTMLView",
       "description": "",
       "description_tooltip": null,
       "layout": "IPY_MODEL_8fe1c0dc6fe041a89091d98169a55e08",
       "placeholder": "​",
       "style": "IPY_MODEL_1abbd6b6cb854bc19f5785b489e8348d",
       "value": " 24/24 [01:02&lt;00:00,  2.59s/it, Completed]"
      }
     },
     "731615ada6d64f94b99eec16f90e24a5": {
      "model_module": "@jupyter-widgets/base",
      "model_module_version": "1.2.0",
      "model_name": "LayoutModel",
      "state": {
       "_model_module": "@jupyter-widgets/base",
       "_model_module_version": "1.2.0",
       "_model_name": "LayoutModel",
       "_view_count": null,
       "_view_module": "@jupyter-widgets/base",
       "_view_module_version": "1.2.0",
       "_view_name": "LayoutView",
       "align_content": null,
       "align_items": null,
       "align_self": null,
       "border": null,
       "bottom": null,
       "display": null,
       "flex": null,
       "flex_flow": null,
       "grid_area": null,
       "grid_auto_columns": null,
       "grid_auto_flow": null,
       "grid_auto_rows": null,
       "grid_column": null,
       "grid_gap": null,
       "grid_row": null,
       "grid_template_areas": null,
       "grid_template_columns": null,
       "grid_template_rows": null,
       "height": null,
       "justify_content": null,
       "justify_items": null,
       "left": null,
       "margin": null,
       "max_height": null,
       "max_width": null,
       "min_height": null,
       "min_width": null,
       "object_fit": null,
       "object_position": null,
       "order": null,
       "overflow": null,
       "overflow_x": null,
       "overflow_y": null,
       "padding": null,
       "right": null,
       "top": null,
       "visibility": null,
       "width": null
      }
     },
     "84128bf37b794658a7b5d05eb86873d5": {
      "model_module": "@jupyter-widgets/base",
      "model_module_version": "1.2.0",
      "model_name": "LayoutModel",
      "state": {
       "_model_module": "@jupyter-widgets/base",
       "_model_module_version": "1.2.0",
       "_model_name": "LayoutModel",
       "_view_count": null,
       "_view_module": "@jupyter-widgets/base",
       "_view_module_version": "1.2.0",
       "_view_name": "LayoutView",
       "align_content": null,
       "align_items": null,
       "align_self": null,
       "border": null,
       "bottom": null,
       "display": null,
       "flex": null,
       "flex_flow": null,
       "grid_area": null,
       "grid_auto_columns": null,
       "grid_auto_flow": null,
       "grid_auto_rows": null,
       "grid_column": null,
       "grid_gap": null,
       "grid_row": null,
       "grid_template_areas": null,
       "grid_template_columns": null,
       "grid_template_rows": null,
       "height": null,
       "justify_content": null,
       "justify_items": null,
       "left": null,
       "margin": null,
       "max_height": null,
       "max_width": null,
       "min_height": null,
       "min_width": null,
       "object_fit": null,
       "object_position": null,
       "order": null,
       "overflow": null,
       "overflow_x": null,
       "overflow_y": null,
       "padding": null,
       "right": null,
       "top": null,
       "visibility": null,
       "width": null
      }
     },
     "8c97e850dfa74bb8af74ba4c463f13c7": {
      "model_module": "@jupyter-widgets/controls",
      "model_module_version": "1.5.0",
      "model_name": "ProgressStyleModel",
      "state": {
       "_model_module": "@jupyter-widgets/controls",
       "_model_module_version": "1.5.0",
       "_model_name": "ProgressStyleModel",
       "_view_count": null,
       "_view_module": "@jupyter-widgets/base",
       "_view_module_version": "1.2.0",
       "_view_name": "StyleView",
       "bar_color": null,
       "description_width": "initial"
      }
     },
     "8fe1c0dc6fe041a89091d98169a55e08": {
      "model_module": "@jupyter-widgets/base",
      "model_module_version": "1.2.0",
      "model_name": "LayoutModel",
      "state": {
       "_model_module": "@jupyter-widgets/base",
       "_model_module_version": "1.2.0",
       "_model_name": "LayoutModel",
       "_view_count": null,
       "_view_module": "@jupyter-widgets/base",
       "_view_module_version": "1.2.0",
       "_view_name": "LayoutView",
       "align_content": null,
       "align_items": null,
       "align_self": null,
       "border": null,
       "bottom": null,
       "display": null,
       "flex": null,
       "flex_flow": null,
       "grid_area": null,
       "grid_auto_columns": null,
       "grid_auto_flow": null,
       "grid_auto_rows": null,
       "grid_column": null,
       "grid_gap": null,
       "grid_row": null,
       "grid_template_areas": null,
       "grid_template_columns": null,
       "grid_template_rows": null,
       "height": null,
       "justify_content": null,
       "justify_items": null,
       "left": null,
       "margin": null,
       "max_height": null,
       "max_width": null,
       "min_height": null,
       "min_width": null,
       "object_fit": null,
       "object_position": null,
       "order": null,
       "overflow": null,
       "overflow_x": null,
       "overflow_y": null,
       "padding": null,
       "right": null,
       "top": null,
       "visibility": null,
       "width": null
      }
     },
     "98caffb3b194478cb1534ee2f4cd1ba5": {
      "model_module": "@jupyter-widgets/controls",
      "model_module_version": "1.5.0",
      "model_name": "FloatProgressModel",
      "state": {
       "_dom_classes": [],
       "_model_module": "@jupyter-widgets/controls",
       "_model_module_version": "1.5.0",
       "_model_name": "FloatProgressModel",
       "_view_count": null,
       "_view_module": "@jupyter-widgets/controls",
       "_view_module_version": "1.5.0",
       "_view_name": "ProgressView",
       "bar_style": "success",
       "description": "Generate report structure: 100%",
       "description_tooltip": null,
       "layout": "IPY_MODEL_fecec76d0d89410f91a0fc7db84bfa4f",
       "max": 1,
       "min": 0,
       "orientation": "horizontal",
       "style": "IPY_MODEL_9e7ad04b7b8c4f3991b7237bbce43a0f",
       "value": 1
      }
     },
     "9e7ad04b7b8c4f3991b7237bbce43a0f": {
      "model_module": "@jupyter-widgets/controls",
      "model_module_version": "1.5.0",
      "model_name": "ProgressStyleModel",
      "state": {
       "_model_module": "@jupyter-widgets/controls",
       "_model_module_version": "1.5.0",
       "_model_name": "ProgressStyleModel",
       "_view_count": null,
       "_view_module": "@jupyter-widgets/base",
       "_view_module_version": "1.2.0",
       "_view_name": "StyleView",
       "bar_color": null,
       "description_width": "initial"
      }
     },
     "a233ff40f2b9438388cf70c48cd4fde8": {
      "model_module": "@jupyter-widgets/base",
      "model_module_version": "1.2.0",
      "model_name": "LayoutModel",
      "state": {
       "_model_module": "@jupyter-widgets/base",
       "_model_module_version": "1.2.0",
       "_model_name": "LayoutModel",
       "_view_count": null,
       "_view_module": "@jupyter-widgets/base",
       "_view_module_version": "1.2.0",
       "_view_name": "LayoutView",
       "align_content": null,
       "align_items": null,
       "align_self": null,
       "border": null,
       "bottom": null,
       "display": null,
       "flex": null,
       "flex_flow": null,
       "grid_area": null,
       "grid_auto_columns": null,
       "grid_auto_flow": null,
       "grid_auto_rows": null,
       "grid_column": null,
       "grid_gap": null,
       "grid_row": null,
       "grid_template_areas": null,
       "grid_template_columns": null,
       "grid_template_rows": null,
       "height": null,
       "justify_content": null,
       "justify_items": null,
       "left": null,
       "margin": null,
       "max_height": null,
       "max_width": null,
       "min_height": null,
       "min_width": null,
       "object_fit": null,
       "object_position": null,
       "order": null,
       "overflow": null,
       "overflow_x": null,
       "overflow_y": null,
       "padding": null,
       "right": null,
       "top": null,
       "visibility": null,
       "width": null
      }
     },
     "e1f77c78fc074c24a4944a32a573f38c": {
      "model_module": "@jupyter-widgets/controls",
      "model_module_version": "1.5.0",
      "model_name": "ProgressStyleModel",
      "state": {
       "_model_module": "@jupyter-widgets/controls",
       "_model_module_version": "1.5.0",
       "_model_name": "ProgressStyleModel",
       "_view_count": null,
       "_view_module": "@jupyter-widgets/base",
       "_view_module_version": "1.2.0",
       "_view_name": "StyleView",
       "bar_color": null,
       "description_width": "initial"
      }
     },
     "e9494f6b120349ec8c136d04c24e7261": {
      "model_module": "@jupyter-widgets/controls",
      "model_module_version": "1.5.0",
      "model_name": "DescriptionStyleModel",
      "state": {
       "_model_module": "@jupyter-widgets/controls",
       "_model_module_version": "1.5.0",
       "_model_name": "DescriptionStyleModel",
       "_view_count": null,
       "_view_module": "@jupyter-widgets/base",
       "_view_module_version": "1.2.0",
       "_view_name": "StyleView",
       "description_width": ""
      }
     },
     "ed5310e2243e440ea5d23a114b934698": {
      "model_module": "@jupyter-widgets/base",
      "model_module_version": "1.2.0",
      "model_name": "LayoutModel",
      "state": {
       "_model_module": "@jupyter-widgets/base",
       "_model_module_version": "1.2.0",
       "_model_name": "LayoutModel",
       "_view_count": null,
       "_view_module": "@jupyter-widgets/base",
       "_view_module_version": "1.2.0",
       "_view_name": "LayoutView",
       "align_content": null,
       "align_items": null,
       "align_self": null,
       "border": null,
       "bottom": null,
       "display": null,
       "flex": null,
       "flex_flow": null,
       "grid_area": null,
       "grid_auto_columns": null,
       "grid_auto_flow": null,
       "grid_auto_rows": null,
       "grid_column": null,
       "grid_gap": null,
       "grid_row": null,
       "grid_template_areas": null,
       "grid_template_columns": null,
       "grid_template_rows": null,
       "height": null,
       "justify_content": null,
       "justify_items": null,
       "left": null,
       "margin": null,
       "max_height": null,
       "max_width": null,
       "min_height": null,
       "min_width": null,
       "object_fit": null,
       "object_position": null,
       "order": null,
       "overflow": null,
       "overflow_x": null,
       "overflow_y": null,
       "padding": null,
       "right": null,
       "top": null,
       "visibility": null,
       "width": null
      }
     },
     "fc802a5c7d2845a1832474fb8ef7b4fd": {
      "model_module": "@jupyter-widgets/base",
      "model_module_version": "1.2.0",
      "model_name": "LayoutModel",
      "state": {
       "_model_module": "@jupyter-widgets/base",
       "_model_module_version": "1.2.0",
       "_model_name": "LayoutModel",
       "_view_count": null,
       "_view_module": "@jupyter-widgets/base",
       "_view_module_version": "1.2.0",
       "_view_name": "LayoutView",
       "align_content": null,
       "align_items": null,
       "align_self": null,
       "border": null,
       "bottom": null,
       "display": null,
       "flex": null,
       "flex_flow": null,
       "grid_area": null,
       "grid_auto_columns": null,
       "grid_auto_flow": null,
       "grid_auto_rows": null,
       "grid_column": null,
       "grid_gap": null,
       "grid_row": null,
       "grid_template_areas": null,
       "grid_template_columns": null,
       "grid_template_rows": null,
       "height": null,
       "justify_content": null,
       "justify_items": null,
       "left": null,
       "margin": null,
       "max_height": null,
       "max_width": null,
       "min_height": null,
       "min_width": null,
       "object_fit": null,
       "object_position": null,
       "order": null,
       "overflow": null,
       "overflow_x": null,
       "overflow_y": null,
       "padding": null,
       "right": null,
       "top": null,
       "visibility": null,
       "width": null
      }
     },
     "fecec76d0d89410f91a0fc7db84bfa4f": {
      "model_module": "@jupyter-widgets/base",
      "model_module_version": "1.2.0",
      "model_name": "LayoutModel",
      "state": {
       "_model_module": "@jupyter-widgets/base",
       "_model_module_version": "1.2.0",
       "_model_name": "LayoutModel",
       "_view_count": null,
       "_view_module": "@jupyter-widgets/base",
       "_view_module_version": "1.2.0",
       "_view_name": "LayoutView",
       "align_content": null,
       "align_items": null,
       "align_self": null,
       "border": null,
       "bottom": null,
       "display": null,
       "flex": null,
       "flex_flow": null,
       "grid_area": null,
       "grid_auto_columns": null,
       "grid_auto_flow": null,
       "grid_auto_rows": null,
       "grid_column": null,
       "grid_gap": null,
       "grid_row": null,
       "grid_template_areas": null,
       "grid_template_columns": null,
       "grid_template_rows": null,
       "height": null,
       "justify_content": null,
       "justify_items": null,
       "left": null,
       "margin": null,
       "max_height": null,
       "max_width": null,
       "min_height": null,
       "min_width": null,
       "object_fit": null,
       "object_position": null,
       "order": null,
       "overflow": null,
       "overflow_x": null,
       "overflow_y": null,
       "padding": null,
       "right": null,
       "top": null,
       "visibility": null,
       "width": null
      }
     }
    },
    "version_major": 2,
    "version_minor": 0
   }
  }
 },
 "nbformat": 4,
 "nbformat_minor": 5
}
