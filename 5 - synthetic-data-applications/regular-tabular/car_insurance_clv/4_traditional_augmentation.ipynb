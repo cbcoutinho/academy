{
 "cells": [
  {
   "cell_type": "markdown",
   "id": "cfa2e00e-cd59-487b-ae37-2c39aa94c8a9",
   "metadata": {
    "jupyter": {
     "outputs_hidden": true
    },
    "papermill": {
     "duration": 0.038657,
     "end_time": "2022-03-30T14:05:31.903072",
     "exception": false,
     "start_time": "2022-03-30T14:05:31.864415",
     "status": "completed"
    },
    "tags": []
   },
   "source": [
    "# Data Quality Check \n",
    "\n",
    "Data quality assessment through YData's Quality package. "
   ]
  },
  {
   "cell_type": "markdown",
   "id": "bc9357c7-6096-4d2b-a900-289c40a0f7e8",
   "metadata": {
    "papermill": {
     "duration": 0.018382,
     "end_time": "2022-03-30T14:05:31.951500",
     "exception": false,
     "start_time": "2022-03-30T14:05:31.933118",
     "status": "completed"
    },
    "tags": []
   },
   "source": [
    "## 0 - Imports"
   ]
  },
  {
   "cell_type": "code",
   "execution_count": 1,
   "id": "3f31dbd9-ec9c-43b6-a095-6c879a5b9a6b",
   "metadata": {},
   "outputs": [],
   "source": [
    "%%capture\n",
    "!pip install imblearn"
   ]
  },
  {
   "cell_type": "code",
   "execution_count": 2,
   "id": "2c91cd08-1e11-41b0-a637-983568d0ff87",
   "metadata": {
    "papermill": {
     "duration": 6.081183,
     "end_time": "2022-03-30T14:05:46.783624",
     "exception": false,
     "start_time": "2022-03-30T14:05:40.702441",
     "status": "completed"
    },
    "tags": []
   },
   "outputs": [
    {
     "name": "stderr",
     "output_type": "stream",
     "text": [
      "/opt/conda/lib/python3.7/site-packages/dask_gateway/client.py:21: FutureWarning: format_bytes is deprecated and will be removed in a future release. Please use dask.utils.format_bytes instead.\n",
      "  from distributed.utils import LoopRunner, format_bytes\n"
     ]
    }
   ],
   "source": [
    "import json\n",
    "from ydata.connectors import LocalConnector\n",
    "from ydata.connectors.filetype import FileType\n",
    "\n",
    "from pandas import DataFrame\n",
    "from sklearn.model_selection import train_test_split\n",
    "from sklearn.metrics import f1_score, accuracy_score, precision_score, recall_score\n",
    "from sklearn.ensemble import AdaBoostClassifier\n",
    "\n",
    "from imblearn.over_sampling import SMOTE, ADASYN, BorderlineSMOTE, SVMSMOTE"
   ]
  },
  {
   "cell_type": "markdown",
   "id": "d8603474-66f8-4794-b820-5baabaec1a93",
   "metadata": {
    "papermill": {
     "duration": 0.020601,
     "end_time": "2022-03-30T14:05:46.829307",
     "exception": false,
     "start_time": "2022-03-30T14:05:46.808706",
     "status": "completed"
    },
    "tags": []
   },
   "source": [
    "## 1 - Load Data"
   ]
  },
  {
   "cell_type": "code",
   "execution_count": 3,
   "id": "cb790447-79e9-49bd-9584-72e034b6808e",
   "metadata": {
    "papermill": {
     "duration": 14.036724,
     "end_time": "2022-03-30T14:06:00.888650",
     "exception": false,
     "start_time": "2022-03-30T14:05:46.851926",
     "status": "completed"
    },
    "tags": []
   },
   "outputs": [],
   "source": [
    "# Initialize the YData's connector and load the data\n",
    "connector = LocalConnector()\n",
    "\n",
    "preprocessed_data = connector.read_file('preprocessed_data.csv').to_pandas()"
   ]
  },
  {
   "cell_type": "markdown",
   "id": "8c155609-0c4b-41fa-9af9-253bde932bdf",
   "metadata": {
    "papermill": {
     "duration": 0.018632,
     "end_time": "2022-03-30T14:06:00.924493",
     "exception": false,
     "start_time": "2022-03-30T14:06:00.905861",
     "status": "completed"
    },
    "tags": []
   },
   "source": [
    "## 2 - Test traditional augmentations"
   ]
  },
  {
   "cell_type": "markdown",
   "id": "f85bc32e-0801-4647-882f-e811f0fa64bf",
   "metadata": {},
   "source": [
    "### 2.1 - Split Data"
   ]
  },
  {
   "cell_type": "code",
   "execution_count": 4,
   "id": "4f2cd66d-81d9-4b45-8ca6-09a6bdda692f",
   "metadata": {
    "papermill": {
     "duration": 6.613693,
     "end_time": "2022-03-30T14:06:07.552982",
     "exception": false,
     "start_time": "2022-03-30T14:06:00.939289",
     "status": "completed"
    },
    "tags": []
   },
   "outputs": [],
   "source": [
    "# Taking the same test set used in the first one. \n",
    "test_data = connector.read_file('test_data.csv').to_pandas()\n",
    "test_data.set_index('index', inplace=True)\n",
    "train_data = preprocessed_data[~preprocessed_data.index.isin(test_data.index)]"
   ]
  },
  {
   "cell_type": "markdown",
   "id": "4e850141-c05d-414d-beee-4b2c73160be7",
   "metadata": {},
   "source": [
    "### 2.2 - Augment and Train \n",
    "\n",
    "Train and predict the multiple techniques. (SMOTE and variants, ADASYN) "
   ]
  },
  {
   "cell_type": "code",
   "execution_count": 15,
   "id": "afebdb4d-a554-4ce5-995b-39d0a850b915",
   "metadata": {
    "tags": []
   },
   "outputs": [],
   "source": [
    "%%capture \n",
    "upsampling_techniques = [SMOTE(sampling_strategy={0: 17000, 1: 4000}, random_state = 3), SVMSMOTE(sampling_strategy={0: 17000, 1: 4000}, random_state = 3),\n",
    "                        BorderlineSMOTE(sampling_strategy={0: 17000, 1: 4000}, random_state = 3), ADASYN(sampling_strategy={0: 17000, 1: 4000}, random_state = 3)]\n",
    "\n",
    "results = DataFrame(columns=['technique','f1_score','accuracy','precision','recall'])\n",
    "for samp_tech in upsampling_techniques:\n",
    "    smote_x, smote_y = samp_tech.fit_resample(train_data.drop('customer_lifetime_value', axis=1),\n",
    "                                              train_data.customer_lifetime_value)\n",
    "\n",
    "    classifier = AdaBoostClassifier(random_state=30)\n",
    "    classifier.fit(smote_x, smote_y)\n",
    "    y_preds = classifier.predict(test_data.drop('customer_lifetime_value', axis=1))\n",
    "\n",
    "    results = results.append({'technique': samp_tech.__class__.__name__, \n",
    "                    'f1_score': f1_score(test_data.customer_lifetime_value, y_preds),\n",
    "                    'accuracy': accuracy_score(test_data.customer_lifetime_value, y_preds),\n",
    "                    'precision': precision_score(test_data.customer_lifetime_value, y_preds),\n",
    "                    'recall': recall_score(test_data.customer_lifetime_value, y_preds)}, ignore_index=True)"
   ]
  },
  {
   "cell_type": "markdown",
   "id": "3672f581-c081-4aad-9234-32952758e427",
   "metadata": {},
   "source": [
    "### 2.3 - Metrics "
   ]
  },
  {
   "cell_type": "code",
   "execution_count": 6,
   "id": "8f9e30c0-cbc0-4465-ba8f-284deab3c11d",
   "metadata": {},
   "outputs": [
    {
     "data": {
      "text/html": [
       "<div>\n",
       "<style scoped>\n",
       "    .dataframe tbody tr th:only-of-type {\n",
       "        vertical-align: middle;\n",
       "    }\n",
       "\n",
       "    .dataframe tbody tr th {\n",
       "        vertical-align: top;\n",
       "    }\n",
       "\n",
       "    .dataframe thead th {\n",
       "        text-align: right;\n",
       "    }\n",
       "</style>\n",
       "<table border=\"1\" class=\"dataframe\">\n",
       "  <thead>\n",
       "    <tr style=\"text-align: right;\">\n",
       "      <th></th>\n",
       "      <th>technique</th>\n",
       "      <th>f1_score</th>\n",
       "      <th>accuracy</th>\n",
       "      <th>precision</th>\n",
       "      <th>recall</th>\n",
       "    </tr>\n",
       "  </thead>\n",
       "  <tbody>\n",
       "    <tr>\n",
       "      <th>0</th>\n",
       "      <td>SMOTE</td>\n",
       "      <td>0.785185</td>\n",
       "      <td>0.903333</td>\n",
       "      <td>0.688312</td>\n",
       "      <td>0.913793</td>\n",
       "    </tr>\n",
       "    <tr>\n",
       "      <th>1</th>\n",
       "      <td>SVMSMOTE</td>\n",
       "      <td>0.765957</td>\n",
       "      <td>0.890000</td>\n",
       "      <td>0.650602</td>\n",
       "      <td>0.931034</td>\n",
       "    </tr>\n",
       "    <tr>\n",
       "      <th>2</th>\n",
       "      <td>BorderlineSMOTE</td>\n",
       "      <td>0.773723</td>\n",
       "      <td>0.896667</td>\n",
       "      <td>0.670886</td>\n",
       "      <td>0.913793</td>\n",
       "    </tr>\n",
       "    <tr>\n",
       "      <th>3</th>\n",
       "      <td>ADASYN</td>\n",
       "      <td>0.791367</td>\n",
       "      <td>0.903333</td>\n",
       "      <td>0.679012</td>\n",
       "      <td>0.948276</td>\n",
       "    </tr>\n",
       "  </tbody>\n",
       "</table>\n",
       "</div>"
      ],
      "text/plain": [
       "         technique  f1_score  accuracy  precision    recall\n",
       "0            SMOTE  0.785185  0.903333   0.688312  0.913793\n",
       "1         SVMSMOTE  0.765957  0.890000   0.650602  0.931034\n",
       "2  BorderlineSMOTE  0.773723  0.896667   0.670886  0.913793\n",
       "3           ADASYN  0.791367  0.903333   0.679012  0.948276"
      ]
     },
     "execution_count": 6,
     "metadata": {},
     "output_type": "execute_result"
    }
   ],
   "source": [
    "results"
   ]
  },
  {
   "cell_type": "markdown",
   "id": "7816874e-f881-442f-95fd-76f64422fa1f",
   "metadata": {},
   "source": [
    "## 3 - Artifacts "
   ]
  },
  {
   "cell_type": "code",
   "execution_count": 14,
   "id": "61ef9cca-21e0-462a-a68e-7aacdebd9031",
   "metadata": {},
   "outputs": [],
   "source": [
    "# Create Artifact. The table with the metrics will be shown on the \"Run Output\"  section of the \"Runs\".\n",
    "metrics = {\n",
    "        'metrics': [\n",
    "            {\n",
    "                'name': 'F1_Score',\n",
    "                'numberValue': results.f1_score.mean(),\n",
    "                'format': 'PERCENTAGE',\n",
    "            },\n",
    "             {\n",
    "                'name': 'Accuracy_Score',\n",
    "                'numberValue': results.accuracy.mean(),\n",
    "                'format': 'PERCENTAGE',\n",
    "            },\n",
    "             {\n",
    "                'name': 'Precision_Score',\n",
    "                'numberValue':  results.precision.mean(),\n",
    "                'format': 'PERCENTAGE',\n",
    "            },\n",
    "             {\n",
    "                'name': 'Recall_Score',\n",
    "                'numberValue':  results.recall.mean(),\n",
    "                'format': 'PERCENTAGE',\n",
    "            }]}\n",
    "\n",
    "\n",
    "with open(\"mlpipeline-metrics.json\", 'w') as f:\n",
    "        json.dump(metrics, f)\n"
   ]
  }
 ],
 "metadata": {
  "kernelspec": {
   "display_name": "Python 3 (ipykernel)",
   "language": "python",
   "name": "python3"
  },
  "language_info": {
   "codemirror_mode": {
    "name": "ipython",
    "version": 3
   },
   "file_extension": ".py",
   "mimetype": "text/x-python",
   "name": "python",
   "nbconvert_exporter": "python",
   "pygments_lexer": "ipython3",
   "version": "3.7.11"
  },
  "papermill": {
   "default_parameters": {},
   "duration": 38.709895,
   "end_time": "2022-03-30T14:06:08.528969",
   "environment_variables": {},
   "exception": null,
   "input_path": "/home/ydata/3_check_data_quality.ipynb",
   "output_path": "/home/ydata/3_check_data_quality.ipynb",
   "parameters": {},
   "start_time": "2022-03-30T14:05:29.819074",
   "version": "2.3.4"
  }
 },
 "nbformat": 4,
 "nbformat_minor": 5
}
