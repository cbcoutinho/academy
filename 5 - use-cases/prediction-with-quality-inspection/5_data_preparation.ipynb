{
 "cells": [
  {
   "cell_type": "markdown",
   "id": "a28fa267-53ac-4256-8b88-6a5850b71eca",
   "metadata": {},
   "source": [
    "# Data preparation"
   ]
  },
  {
   "cell_type": "markdown",
   "id": "b929cda4-1650-4619-85e4-2b21b23f388d",
   "metadata": {},
   "source": [
    "## Consume both the metadata and the dataset profiling"
   ]
  },
  {
   "cell_type": "code",
   "execution_count": 99,
   "id": "c41ff15e-29b1-42d5-91fe-4618e12915ab",
   "metadata": {},
   "outputs": [],
   "source": [
    "import os\n",
    "from pickle import load, dump\n",
    "import json \n",
    "\n",
    "import numpy as np\n",
    "import pandas as pd\n",
    "from pandas import DataFrame\n",
    "from ydata.metadata import Metadata\n",
    "\n",
    "from sklearn.preprocessing import LabelEncoder\n",
    "from sklearn.preprocessing import StandardScaler\n",
    "\n",
    "from sklearn.base import BaseEstimator, TransformerMixin\n",
    "\n",
    "class GetDummies(BaseEstimator, TransformerMixin):\n",
    "    def __init__(self):\n",
    "        self.columns = None\n",
    "        \n",
    "    def fit(self, X, y=None):\n",
    "        self.columns = pd.get_dummies(X, drop_first=True).columns\n",
    "        return self\n",
    "\n",
    "    def transform(self, X):\n",
    "        X_new = pd.get_dummies(X, drop_first=True)\n",
    "        return X_new.reindex(columns=self.columns, fill_value=0)"
   ]
  },
  {
   "cell_type": "code",
   "execution_count": 100,
   "id": "931c5673-893a-4d78-9887-25bdb3d8c692",
   "metadata": {},
   "outputs": [],
   "source": [
    "#Function to load the training set\n",
    "def load_sets(path: str):\n",
    "    with open(path, 'rb') as f:\n",
    "        return load(f)\n",
    "    \n",
    "def pickle_sets(df: pd.DataFrame, y: pd.Series, path:str):\n",
    "    dataset = (df, y)\n",
    "    \n",
    "    with open(path, 'wb') as f:\n",
    "        dump(dataset, f)"
   ]
  },
  {
   "cell_type": "code",
   "execution_count": 101,
   "id": "2698dfcc-6a3a-4614-b4c4-792ec542beb1",
   "metadata": {},
   "outputs": [],
   "source": [
    "def profile_json(df: DataFrame):\n",
    "    profile = ProfileReport(df = df)\n",
    "    profile_json = json.loads(profile.json)\n",
    "    \n",
    "    return profile_json\n",
    "\n",
    "def calculate_profile_diff(profiles: list):\n",
    "    return profiles"
   ]
  },
  {
   "cell_type": "code",
   "execution_count": 102,
   "id": "4d142a6f-3f7e-4f78-81dd-4d9a390c616f",
   "metadata": {},
   "outputs": [],
   "source": [
    "metadata = Metadata.load('metadata.pkl')"
   ]
  },
  {
   "cell_type": "markdown",
   "id": "c3055158-7d0b-46ea-95ba-a0d10e41a8ee",
   "metadata": {},
   "source": [
    "## Prepare the data"
   ]
  },
  {
   "cell_type": "code",
   "execution_count": 103,
   "id": "ce8ca63a-79f5-4ee8-936c-3a8a01d0814a",
   "metadata": {},
   "outputs": [],
   "source": [
    "try:\n",
    "    data_split=os.environ['DATA_SPLIT']\n",
    "except:\n",
    "    data_split = 'validation'\n",
    "    \n",
    "data, y = load_sets(f'{data_split}.pkl')"
   ]
  },
  {
   "cell_type": "code",
   "execution_count": 104,
   "id": "897b59c5-2f81-4d89-803e-b6adf68b921b",
   "metadata": {},
   "outputs": [],
   "source": [
    "data.drop(['Unnamed: 0', 'booking_changes'], axis=1, inplace=True)"
   ]
  },
  {
   "cell_type": "markdown",
   "id": "1b5d02dc-3448-43bd-a1dc-69ae944cd18c",
   "metadata": {},
   "source": [
    "### Load the methods and preprocessing pipeline"
   ]
  },
  {
   "cell_type": "code",
   "execution_count": 105,
   "id": "6e4c1f85-38b2-4758-a8ac-a22deeffb9a9",
   "metadata": {},
   "outputs": [],
   "source": [
    "with open('imputers.pkl', 'rb') as f:\n",
    "    imputers = load(f)\n",
    "    \n",
    "with open('encoders.pkl', 'rb') as f:\n",
    "    encoders= load(f)\n",
    "    \n",
    "with open('selected_vars.pkl', 'rb') as f:\n",
    "    selected_vars = load(f)\n",
    "    \n",
    "with open('cols_split.pkl', 'rb') as f:\n",
    "    cols_split = load(f)"
   ]
  },
  {
   "cell_type": "code",
   "execution_count": 106,
   "id": "f17a8d8c-67ea-4993-bf59-1786180fb2d7",
   "metadata": {},
   "outputs": [],
   "source": [
    "## Split Features into numerical and categorical\n",
    "num = data[cols_split['num']]\n",
    "char = data[cols_split['cat']]"
   ]
  },
  {
   "cell_type": "code",
   "execution_count": 108,
   "id": "9bc8857f-5f53-4da6-bc03-2d96ef553807",
   "metadata": {},
   "outputs": [],
   "source": [
    "for k, imputer in imputers.items():\n",
    "    if k=='cat':\n",
    "        char_i = pd.DataFrame(imputer.transform(char), index = char.index, columns=char.columns)\n",
    "    elif k=='num':\n",
    "        num_i = pd.DataFrame(imputer.transform(num), index = num.index, columns=num.columns)"
   ]
  },
  {
   "cell_type": "code",
   "execution_count": 109,
   "id": "65bc7aef-8322-48e8-a80c-9156d3a2c5d6",
   "metadata": {},
   "outputs": [],
   "source": [
    "##Create new features\n",
    "num_i['day_wait_ind'] = np.where(num_i['days_in_waiting_list']>0, 1, 0)\n",
    "num_i['previous_bookings_not_canceled_ind'] = np.where(num_i['previous_bookings_not_canceled']>0, 1, 0)\n",
    "\n",
    "try:\n",
    "    num_i['booking_changes_ind'] = np.where(num_i['booking_changes']<0, 1, 0)\n",
    "except:\n",
    "    print('No booking changes ind')"
   ]
  },
  {
   "cell_type": "code",
   "execution_count": 110,
   "id": "604697f2-5b16-4e3d-8a8e-c171819ef18a",
   "metadata": {},
   "outputs": [],
   "source": [
    "#Encode the categorical features\n",
    "\n",
    "char_encoded = encoders.transform(char_i)"
   ]
  },
  {
   "cell_type": "code",
   "execution_count": 111,
   "id": "98aa8f0a-d2ca-4a1c-bff1-e31028c94631",
   "metadata": {},
   "outputs": [],
   "source": [
    "##Filter by the selected variables\n",
    "\n",
    "num_data = num_i[selected_vars['num']]\n",
    "char_data = char_encoded[selected_vars['cat']]"
   ]
  },
  {
   "cell_type": "code",
   "execution_count": 112,
   "id": "470fb4a0-efd7-40ab-8cdf-1a1c6f2ea3a4",
   "metadata": {},
   "outputs": [],
   "source": [
    "X_validation = pd.concat([char_data, num_data], axis=1, join='inner')"
   ]
  },
  {
   "cell_type": "markdown",
   "id": "f1a7ae1a-348b-49b3-93ba-5bf386bc5d89",
   "metadata": {},
   "source": [
    "## Output data"
   ]
  },
  {
   "cell_type": "code",
   "execution_count": 113,
   "id": "6e1f2724-a9d4-412c-af49-46027026698c",
   "metadata": {},
   "outputs": [],
   "source": [
    "## Add here more details\n",
    "pickle_sets(df=X_validation, y=y, path=f'dataprep_validation.pkl')"
   ]
  }
 ],
 "metadata": {
  "kernelspec": {
   "display_name": "Python 3 (ipykernel)",
   "language": "python",
   "name": "python3"
  },
  "language_info": {
   "codemirror_mode": {
    "name": "ipython",
    "version": 3
   },
   "file_extension": ".py",
   "mimetype": "text/x-python",
   "name": "python",
   "nbconvert_exporter": "python",
   "pygments_lexer": "ipython3",
   "version": "3.8.13"
  }
 },
 "nbformat": 4,
 "nbformat_minor": 5
}
