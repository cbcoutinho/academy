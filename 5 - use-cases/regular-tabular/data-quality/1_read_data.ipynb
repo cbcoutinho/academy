{
 "cells": [
  {
   "cell_type": "markdown",
   "metadata": {},
   "source": [
    "# A data quality validation use case\n",
    "\n",
    "### **Data quality validation:** Data preparation and the importance of profiling the quality of your data\n",
    "\n",
    "Data profiling is defined as the process of reviewing a source of data, validating it, understanding it's structure and behaviour, as well as content and depicted relations. \n",
    "Data profiling can be seen as a crucial step for different data projects and initiatives: \n",
    "\n",
    "- **Data Warehousing projects** - While building or feeding an existing Data Warehouse(DWH);\n",
    "- **Data conversion and projects for data migration** - Data profiling is an essential tool to spot and identify any data quality issues. It can also help uncivering any new requirements for the target system;\n",
    "- **Data preparation** - To develop ML based projects the data preparation stage involves many activites around data filtering and delection, data augmentation, feature creation and data splits based on training, validation and holdout. To measure the impact of each of these transformations data-profiling is a core step that allows to automate any required validations. \n",
    "\n",
    "YData's data profiling process involves: \n",
    "- Inference of data types and keyword tagging based categories;\n",
    "- The collection of descriptive statistics in an univariate manner (min, max, quantiles, etc);\n",
    "- Key integraty and missingess profile, based on zeros, blanks and nulls validation;\n",
    "- Collection of statistics on a multivariate manner (how each variable relates with each other);\n",
    "- Constraints defined based on business rules and formatting expectations.\n",
    "\n",
    "## Hotel booking - A data preparation & profiling pipeline\n",
    "\n",
    "To demo the potential of data quality profiling analysis throuhgout the process of data preparation, the example below leverages the [\"Hotel Booking dataset that can be found in Kaggle\"](https://www.kaggle.com/datasets/jessemostipak/hotel-booking-demand). The dataset contains the booking information for a city and resort hotel.\n",
    "In this tutorial we deliver a full pipeline with the data preparation to train a classification model to identify wether a certain reservation will be canceled. The pipeline includes the validation of the train/validation split (is the samples representative and comaprable?) as well as the profiling of all the data transformations and features extracted throughout the process. "
   ]
  },
  {
   "cell_type": "markdown",
   "metadata": {},
   "source": [
    "## Read data"
   ]
  },
  {
   "cell_type": "code",
   "execution_count": 6,
   "metadata": {},
   "outputs": [],
   "source": [
    "# Import the necessary packages\n",
    "import pandas as pd\n",
    "\n",
    "from ydata.connectors import GCSConnector\n",
    "from ydata.connectors.filetype import FileType\n",
    "from ydata.utils.formats import read_json"
   ]
  },
  {
   "cell_type": "code",
   "execution_count": 7,
   "metadata": {},
   "outputs": [],
   "source": [
    "data = pd.read_csv('hotel_booking.csv')"
   ]
  },
  {
   "cell_type": "markdown",
   "metadata": {},
   "source": [
    "## Metadata calculation\n",
    "Calculating the overall statistics of the data to be observed"
   ]
  },
  {
   "cell_type": "code",
   "execution_count": 12,
   "metadata": {},
   "outputs": [
    {
     "name": "stdout",
     "output_type": "stream",
     "text": [
      "[########################################] | 100% Completed |  6.5s\n",
      "\u001b[1mMetadata Summary \n",
      " \n",
      "\u001b[0m\u001b[1mDataset type: \u001b[0mTABULAR\n",
      "\u001b[1mDataset attributes: \u001b[0m\n",
      "\u001b[1mNumber of columns: \u001b[0m32\n",
      "\u001b[1m% of duplicate rows: \u001b[0m26\n",
      "\u001b[1mTarget column: \u001b[0m\n",
      "\n",
      "\u001b[1mColumn detail: \u001b[0m\n",
      "                            Column    Data type Variable type\n",
      "0                            hotel  categorical        string\n",
      "1                      is_canceled  categorical           int\n",
      "2                        lead_time  categorical           int\n",
      "3                arrival_date_year  categorical           int\n",
      "4               arrival_date_month  categorical        string\n",
      "5         arrival_date_week_number  categorical           int\n",
      "6        arrival_date_day_of_month  categorical           int\n",
      "7          stays_in_weekend_nights  categorical           int\n",
      "8             stays_in_week_nights  categorical           int\n",
      "9                           adults  categorical           int\n",
      "10                        children  categorical         float\n",
      "11                          babies  categorical           int\n",
      "12                            meal  categorical        string\n",
      "13                         country  categorical        string\n",
      "14                  market_segment  categorical        string\n",
      "15            distribution_channel  categorical        string\n",
      "16               is_repeated_guest  categorical           int\n",
      "17          previous_cancellations  categorical           int\n",
      "18  previous_bookings_not_canceled  categorical           int\n",
      "19              reserved_room_type  categorical        string\n",
      "20              assigned_room_type  categorical        string\n",
      "21                 booking_changes  categorical           int\n",
      "22                    deposit_type  categorical        string\n",
      "23                           agent  categorical         float\n",
      "24                         company  categorical         float\n",
      "25            days_in_waiting_list  categorical           int\n",
      "26                   customer_type  categorical        string\n",
      "27                             adr  categorical         float\n",
      "28     required_car_parking_spaces  categorical           int\n",
      "29       total_of_special_requests  categorical           int\n",
      "30              reservation_status  categorical        string\n",
      "31         reservation_status_date  categorical        string\n",
      "\n",
      "\u001b[1mWarnings: \u001b[0m\n",
      "                   Warning                                                                                                                                                                                                               Columns\n",
      "0     WarningType.MISSINGS                                                                                                                                                                                                             [company]\n",
      "1  WarningType.CARDINALITY  [lead_time, arrival_date_week_number, arrival_date_day_of_month, stays_in_week_nights, country, previous_bookings_not_canceled, booking_changes, agent, company, days_in_waiting_list, adr, reservation_status_date]\n",
      "2   WarningType.DUPLICATES                                                                                                                                                                                                                      \n",
      "\n"
     ]
    }
   ],
   "source": [
    "from ydata.dataset import Dataset\n",
    "from ydata.metadata import Metadata\n",
    "\n",
    "metadata = Metadata(Dataset(data))\n",
    "print(metadata)"
   ]
  },
  {
   "cell_type": "code",
   "execution_count": 13,
   "metadata": {},
   "outputs": [],
   "source": [
    "metadata.save('metadata.pkl')"
   ]
  },
  {
   "cell_type": "markdown",
   "metadata": {},
   "source": [
    "## Sending the data & Metadata for the next flow steps"
   ]
  },
  {
   "cell_type": "code",
   "execution_count": 14,
   "metadata": {},
   "outputs": [],
   "source": [
    "data.to_csv('data.csv')"
   ]
  }
 ],
 "metadata": {
  "kernelspec": {
   "display_name": "Python 3 (ipykernel)",
   "language": "python",
   "name": "python3"
  },
  "language_info": {
   "codemirror_mode": {
    "name": "ipython",
    "version": 3
   },
   "file_extension": ".py",
   "mimetype": "text/x-python",
   "name": "python",
   "nbconvert_exporter": "python",
   "pygments_lexer": "ipython3",
   "version": "3.8.13"
  }
 },
 "nbformat": 4,
 "nbformat_minor": 4
}
