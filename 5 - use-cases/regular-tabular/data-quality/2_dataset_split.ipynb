{
 "cells": [
  {
   "cell_type": "markdown",
   "id": "d9cc8a93-de02-49ba-a810-05235faec89c",
   "metadata": {},
   "source": [
    "# Creating the train, validation and holdout sets"
   ]
  },
  {
   "cell_type": "code",
   "execution_count": 1,
   "id": "617cdfb4-9c56-43bd-94ce-8b9fcaee56c3",
   "metadata": {},
   "outputs": [],
   "source": [
    "import os \n",
    "from pickle import load, dump, HIGHEST_PROTOCOL\n",
    "\n",
    "import pandas as pd\n",
    "from sklearn.model_selection import train_test_split"
   ]
  },
  {
   "cell_type": "code",
   "execution_count": 2,
   "id": "0b0766bf-426e-46b7-ae04-27d40fb90084",
   "metadata": {},
   "outputs": [],
   "source": [
    "data = pd.read_csv('data.csv')\n",
    "\n",
    "X = data.drop(columns=['is_canceled']).copy()\n",
    "y = data['is_canceled']"
   ]
  },
  {
   "cell_type": "code",
   "execution_count": 3,
   "id": "94dd5362-0b1d-41e6-ba91-1b38da4672ef",
   "metadata": {},
   "outputs": [],
   "source": [
    "## Creating the first split - Train & Validation + holdout\n",
    "\n",
    "try:\n",
    "    train_size = float((os.environ['TRAIN_SIZE']))\n",
    "except:\n",
    "    train_size = 0.80\n",
    "    \n",
    "X_train, X_rem, y_train, y_rem = train_test_split(X, y, train_size=train_size, stratify=y)\n",
    "\n",
    "try:\n",
    "    validation_size = float(os.environ['TEST_SIZE'])\n",
    "except:\n",
    "    validation_size = 0.5\n",
    "    \n",
    "X_val, X_holdout, y_val, y_holdout = train_test_split(X_rem, y_rem, test_size=validation_size, stratify=y_rem)"
   ]
  },
  {
   "cell_type": "code",
   "execution_count": 4,
   "id": "e1cc8792-c121-4017-89ed-f3aad3c519f7",
   "metadata": {},
   "outputs": [
    {
     "name": "stdout",
     "output_type": "stream",
     "text": [
      "(95512, 32)\n",
      "(11939, 32)\n",
      "(11939, 32)\n"
     ]
    }
   ],
   "source": [
    "print(X_train.shape)\n",
    "print(X_val.shape)\n",
    "print(X_holdout.shape)"
   ]
  },
  {
   "cell_type": "code",
   "execution_count": 5,
   "id": "5bf7622f-3657-4b87-a2ee-dd49bb34af70",
   "metadata": {},
   "outputs": [
    {
     "data": {
      "text/plain": [
       "pandas.core.series.Series"
      ]
     },
     "execution_count": 5,
     "metadata": {},
     "output_type": "execute_result"
    }
   ],
   "source": [
    "type(y_val)"
   ]
  },
  {
   "cell_type": "markdown",
   "id": "9b3ffb6b-b908-49c1-b757-ea1d219d6c3d",
   "metadata": {},
   "source": [
    "## Save the different datasets - for the dowstream applications"
   ]
  },
  {
   "cell_type": "code",
   "execution_count": 6,
   "id": "9bbb037b-237e-4f55-ab14-2ad4c9f859c6",
   "metadata": {},
   "outputs": [],
   "source": [
    "def pickle_sets(df: pd.DataFrame, y: pd.Series, path:str):\n",
    "    dataset = (df, y)\n",
    "    \n",
    "    with open(path, 'wb') as f:\n",
    "        dump(dataset, f)"
   ]
  },
  {
   "cell_type": "code",
   "execution_count": 7,
   "id": "513be0b9-b254-4267-bcbb-a9b9a216eb94",
   "metadata": {},
   "outputs": [],
   "source": [
    "## Saving the sets of data\n",
    "\n",
    "pickle_sets(df=X_train, y=y_train, path='train.pkl')\n",
    "pickle_sets(df=X_val, y=y_val, path='validation.pkl')\n",
    "pickle_sets(df=X_holdout, y=y_holdout, path='holdout.pkl')"
   ]
  },
  {
   "cell_type": "code",
   "execution_count": null,
   "id": "acfd71c7-75f2-43c4-868c-4a4a88703063",
   "metadata": {},
   "outputs": [],
   "source": []
  }
 ],
 "metadata": {
  "kernelspec": {
   "display_name": "Python 3 (ipykernel)",
   "language": "python",
   "name": "python3"
  },
  "language_info": {
   "codemirror_mode": {
    "name": "ipython",
    "version": 3
   },
   "file_extension": ".py",
   "mimetype": "text/x-python",
   "name": "python",
   "nbconvert_exporter": "python",
   "pygments_lexer": "ipython3",
   "version": "3.8.13"
  }
 },
 "nbformat": 4,
 "nbformat_minor": 5
}
