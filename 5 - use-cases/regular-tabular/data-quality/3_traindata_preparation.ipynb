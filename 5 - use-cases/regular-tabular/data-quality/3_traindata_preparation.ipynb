{
 "cells": [
  {
   "cell_type": "markdown",
   "id": "a28fa267-53ac-4256-8b88-6a5850b71eca",
   "metadata": {
    "tags": []
   },
   "source": [
    "# Data preparation"
   ]
  },
  {
   "cell_type": "markdown",
   "id": "b929cda4-1650-4619-85e4-2b21b23f388d",
   "metadata": {},
   "source": [
    "## Consume both the metadata and the dataset profiling"
   ]
  },
  {
   "cell_type": "code",
   "execution_count": 398,
   "id": "c41ff15e-29b1-42d5-91fe-4618e12915ab",
   "metadata": {},
   "outputs": [],
   "source": [
    "import os\n",
    "from pickle import load, dump\n",
    "import json \n",
    "\n",
    "import numpy as np\n",
    "import pandas as pd\n",
    "from pandas import DataFrame\n",
    "from ydata.metadata import Metadata\n",
    "\n",
    "from sklearn.preprocessing import LabelEncoder\n",
    "from sklearn.preprocessing import StandardScaler\n",
    "from sklearn.impute import SimpleImputer\n",
    "from sklearn.feature_selection import VarianceThreshold, SelectKBest, chi2\n",
    "\n",
    "from sklearn.base import BaseEstimator, TransformerMixin\n",
    "\n",
    "class GetDummies(BaseEstimator, TransformerMixin):\n",
    "    def __init__(self):\n",
    "        self.columns = None\n",
    "        \n",
    "    def fit(self, X, y=None):\n",
    "        self.columns = pd.get_dummies(X, drop_first=True).columns\n",
    "        return self\n",
    "\n",
    "    def transform(self, X):\n",
    "        X_new = pd.get_dummies(X, drop_first=True)\n",
    "        return X_new.reindex(columns=self.columns, fill_value=0)"
   ]
  },
  {
   "cell_type": "code",
   "execution_count": 399,
   "id": "931c5673-893a-4d78-9887-25bdb3d8c692",
   "metadata": {},
   "outputs": [],
   "source": [
    "#Function to load the training set\n",
    "def load_sets(path: str):\n",
    "    with open(path, 'rb') as f:\n",
    "        return load(f)\n",
    "    \n",
    "def pickle_sets(df: pd.DataFrame, y: pd.Series, path:str):\n",
    "    dataset = (df, y)\n",
    "    \n",
    "    with open(path, 'wb') as f:\n",
    "        dump(dataset, f)"
   ]
  },
  {
   "cell_type": "code",
   "execution_count": 400,
   "id": "2698dfcc-6a3a-4614-b4c4-792ec542beb1",
   "metadata": {},
   "outputs": [],
   "source": [
    "def profile_json(df: DataFrame):\n",
    "    profile = ProfileReport(df = df)\n",
    "    profile_json = json.loads(profile.json)\n",
    "    \n",
    "    return profile_json\n",
    "\n",
    "def calculate_profile_diff(profiles: list):\n",
    "    return profiles"
   ]
  },
  {
   "cell_type": "code",
   "execution_count": 401,
   "id": "4d142a6f-3f7e-4f78-81dd-4d9a390c616f",
   "metadata": {},
   "outputs": [],
   "source": [
    "metadata = Metadata.load('metadata.pkl')"
   ]
  },
  {
   "cell_type": "markdown",
   "id": "c3055158-7d0b-46ea-95ba-a0d10e41a8ee",
   "metadata": {},
   "source": [
    "## Prepare the data"
   ]
  },
  {
   "cell_type": "code",
   "execution_count": 402,
   "id": "ce8ca63a-79f5-4ee8-936c-3a8a01d0814a",
   "metadata": {},
   "outputs": [],
   "source": [
    "try:\n",
    "    data_split=os.environ['DATA_SPLIT']\n",
    "except:\n",
    "    data_split = 'train'\n",
    "    \n",
    "data, y = load_sets(f'{data_split}.pkl')"
   ]
  },
  {
   "cell_type": "code",
   "execution_count": 403,
   "id": "389d5ab8-a413-4a0b-a278-ef3dc41ebea2",
   "metadata": {},
   "outputs": [],
   "source": [
    "data.drop('Unnamed: 0', axis=1, inplace=True)"
   ]
  },
  {
   "cell_type": "code",
   "execution_count": 404,
   "id": "e0bc6bc7-7f39-4f16-9948-6af2bb50995a",
   "metadata": {},
   "outputs": [],
   "source": [
    "data['is_canceled']=y"
   ]
  },
  {
   "cell_type": "markdown",
   "id": "1b5d02dc-3448-43bd-a1dc-69ae944cd18c",
   "metadata": {},
   "source": [
    "### Check & act upon the metadata warnings"
   ]
  },
  {
   "cell_type": "code",
   "execution_count": 405,
   "id": "c88087a0-0555-48d9-888f-26e91f41f0dd",
   "metadata": {},
   "outputs": [],
   "source": [
    "#remove duplicates\n",
    "try:\n",
    "    dups = os.environ['KEEP_DUP']\n",
    "except:\n",
    "    dups = 'first'\n",
    "for warning_type, warnings in metadata.warnings.items():\n",
    "    if warning_type.value == 'duplicates' and len(warnings)>0:\n",
    "        ##filter the dataset duplicates\n",
    "        data.drop_duplicates(keep=dups, inplace=True)"
   ]
  },
  {
   "cell_type": "code",
   "execution_count": 406,
   "id": "15d553bc-6e48-428f-b24a-35303e0a0c99",
   "metadata": {},
   "outputs": [],
   "source": [
    "y = data['is_canceled']\n",
    "data.drop(['is_canceled', 'booking_changes'], axis=1, inplace=True)"
   ]
  },
  {
   "cell_type": "code",
   "execution_count": 407,
   "id": "e7d60620-0d99-435a-b122-81a22dc89aa5",
   "metadata": {},
   "outputs": [],
   "source": [
    "## Split Features into numerical and categorical\n",
    "num = data.select_dtypes(include='number')\n",
    "char = data.select_dtypes(include='object')"
   ]
  },
  {
   "cell_type": "code",
   "execution_count": 408,
   "id": "0156911b-a870-420c-8c2d-8ea00883fa7c",
   "metadata": {},
   "outputs": [],
   "source": [
    "#Check num and categorical\n",
    "# check for how many unique values each column has\n",
    "def unique_levels(x):\n",
    "    x = x.value_counts().count()\n",
    "    return x\n",
    "\n",
    "df_value_counts = pd.DataFrame(num.apply(lambda X: unique_levels(X)))\n",
    "\n",
    "df_value_counts.columns = ['feature_levels']\n",
    "df_value_counts.sort_values(by = 'feature_levels', ascending=False)\n",
    "\n",
    "slice1 = df_value_counts.loc[df_value_counts['feature_levels']<=20]\n",
    "cat_list = slice1.index\n",
    "cat = num.loc[:, cat_list]\n",
    "\n",
    "slice2 = df_value_counts.loc[df_value_counts['feature_levels']>20]\n",
    "num_list = slice2.index\n",
    "num = num.loc[:, num_list]\n",
    "\n",
    "char = pd.concat([char, cat], axis = 1, join = 'inner')"
   ]
  },
  {
   "cell_type": "code",
   "execution_count": 409,
   "id": "6f400da4-c8e5-401b-9dfd-08fc861dc7db",
   "metadata": {},
   "outputs": [],
   "source": [
    "## Dropping Variables that have >25% missing data\n",
    "#only numerical has missing data\n",
    "num = num.loc[:, num.isnull().mean() <= 0.25]"
   ]
  },
  {
   "cell_type": "code",
   "execution_count": 410,
   "id": "6608f9cd-78a8-451d-a8a5-f88dce4f453d",
   "metadata": {},
   "outputs": [],
   "source": [
    "cols_split = {'cat': list(char.columns), 'num': list(num.columns)}"
   ]
  },
  {
   "cell_type": "code",
   "execution_count": 411,
   "id": "5a7cd58d-4798-4b36-94c5-ea84f229d3cc",
   "metadata": {},
   "outputs": [],
   "source": [
    "##Impute missing data\n",
    "imputers= {'cat': SimpleImputer(missing_values=np.nan, strategy='most_frequent'),\n",
    "           'num': SimpleImputer(missing_values=np.nan, strategy='mean')}\n",
    "\n",
    "for k, imputer in imputers.items():\n",
    "    if k=='cat':\n",
    "        char_i = pd.DataFrame(imputer.fit_transform(char), index = char.index, columns=char.columns)\n",
    "    elif k=='num':\n",
    "        num_i = pd.DataFrame(imputer.fit_transform(num), index = num.index, columns=num.columns)"
   ]
  },
  {
   "cell_type": "code",
   "execution_count": 413,
   "id": "692db8fe-eade-46d1-b693-401ad82759a3",
   "metadata": {},
   "outputs": [
    {
     "data": {
      "text/html": [
       "<div>\n",
       "<style scoped>\n",
       "    .dataframe tbody tr th:only-of-type {\n",
       "        vertical-align: middle;\n",
       "    }\n",
       "\n",
       "    .dataframe tbody tr th {\n",
       "        vertical-align: top;\n",
       "    }\n",
       "\n",
       "    .dataframe thead th {\n",
       "        text-align: right;\n",
       "    }\n",
       "</style>\n",
       "<table border=\"1\" class=\"dataframe\">\n",
       "  <thead>\n",
       "    <tr style=\"text-align: right;\">\n",
       "      <th></th>\n",
       "      <th>lead_time</th>\n",
       "      <th>arrival_date_week_number</th>\n",
       "      <th>arrival_date_day_of_month</th>\n",
       "      <th>stays_in_week_nights</th>\n",
       "      <th>previous_bookings_not_canceled</th>\n",
       "      <th>agent</th>\n",
       "      <th>days_in_waiting_list</th>\n",
       "      <th>adr</th>\n",
       "      <th>day_wait_ind</th>\n",
       "    </tr>\n",
       "  </thead>\n",
       "  <tbody>\n",
       "    <tr>\n",
       "      <th>79839</th>\n",
       "      <td>34.0</td>\n",
       "      <td>50.0</td>\n",
       "      <td>8.0</td>\n",
       "      <td>2.0</td>\n",
       "      <td>0.0</td>\n",
       "      <td>19.000000</td>\n",
       "      <td>0.0</td>\n",
       "      <td>90.00</td>\n",
       "      <td>0</td>\n",
       "    </tr>\n",
       "    <tr>\n",
       "      <th>76585</th>\n",
       "      <td>208.0</td>\n",
       "      <td>31.0</td>\n",
       "      <td>28.0</td>\n",
       "      <td>1.0</td>\n",
       "      <td>0.0</td>\n",
       "      <td>9.000000</td>\n",
       "      <td>0.0</td>\n",
       "      <td>76.50</td>\n",
       "      <td>0</td>\n",
       "    </tr>\n",
       "    <tr>\n",
       "      <th>61731</th>\n",
       "      <td>18.0</td>\n",
       "      <td>52.0</td>\n",
       "      <td>24.0</td>\n",
       "      <td>1.0</td>\n",
       "      <td>0.0</td>\n",
       "      <td>85.000000</td>\n",
       "      <td>0.0</td>\n",
       "      <td>80.00</td>\n",
       "      <td>0</td>\n",
       "    </tr>\n",
       "    <tr>\n",
       "      <th>24224</th>\n",
       "      <td>236.0</td>\n",
       "      <td>20.0</td>\n",
       "      <td>12.0</td>\n",
       "      <td>3.0</td>\n",
       "      <td>0.0</td>\n",
       "      <td>315.000000</td>\n",
       "      <td>0.0</td>\n",
       "      <td>66.00</td>\n",
       "      <td>0</td>\n",
       "    </tr>\n",
       "    <tr>\n",
       "      <th>19582</th>\n",
       "      <td>0.0</td>\n",
       "      <td>52.0</td>\n",
       "      <td>26.0</td>\n",
       "      <td>1.0</td>\n",
       "      <td>0.0</td>\n",
       "      <td>93.744664</td>\n",
       "      <td>0.0</td>\n",
       "      <td>50.00</td>\n",
       "      <td>0</td>\n",
       "    </tr>\n",
       "    <tr>\n",
       "      <th>...</th>\n",
       "      <td>...</td>\n",
       "      <td>...</td>\n",
       "      <td>...</td>\n",
       "      <td>...</td>\n",
       "      <td>...</td>\n",
       "      <td>...</td>\n",
       "      <td>...</td>\n",
       "      <td>...</td>\n",
       "      <td>...</td>\n",
       "    </tr>\n",
       "    <tr>\n",
       "      <th>42287</th>\n",
       "      <td>63.0</td>\n",
       "      <td>36.0</td>\n",
       "      <td>4.0</td>\n",
       "      <td>2.0</td>\n",
       "      <td>0.0</td>\n",
       "      <td>21.000000</td>\n",
       "      <td>0.0</td>\n",
       "      <td>116.00</td>\n",
       "      <td>0</td>\n",
       "    </tr>\n",
       "    <tr>\n",
       "      <th>50797</th>\n",
       "      <td>10.0</td>\n",
       "      <td>20.0</td>\n",
       "      <td>8.0</td>\n",
       "      <td>1.0</td>\n",
       "      <td>0.0</td>\n",
       "      <td>9.000000</td>\n",
       "      <td>0.0</td>\n",
       "      <td>126.00</td>\n",
       "      <td>0</td>\n",
       "    </tr>\n",
       "    <tr>\n",
       "      <th>9145</th>\n",
       "      <td>40.0</td>\n",
       "      <td>44.0</td>\n",
       "      <td>29.0</td>\n",
       "      <td>1.0</td>\n",
       "      <td>0.0</td>\n",
       "      <td>240.000000</td>\n",
       "      <td>0.0</td>\n",
       "      <td>85.73</td>\n",
       "      <td>0</td>\n",
       "    </tr>\n",
       "    <tr>\n",
       "      <th>91449</th>\n",
       "      <td>79.0</td>\n",
       "      <td>25.0</td>\n",
       "      <td>16.0</td>\n",
       "      <td>4.0</td>\n",
       "      <td>0.0</td>\n",
       "      <td>9.000000</td>\n",
       "      <td>0.0</td>\n",
       "      <td>152.40</td>\n",
       "      <td>0</td>\n",
       "    </tr>\n",
       "    <tr>\n",
       "      <th>15785</th>\n",
       "      <td>32.0</td>\n",
       "      <td>31.0</td>\n",
       "      <td>27.0</td>\n",
       "      <td>5.0</td>\n",
       "      <td>0.0</td>\n",
       "      <td>250.000000</td>\n",
       "      <td>0.0</td>\n",
       "      <td>147.00</td>\n",
       "      <td>0</td>\n",
       "    </tr>\n",
       "  </tbody>\n",
       "</table>\n",
       "<p>71299 rows × 9 columns</p>\n",
       "</div>"
      ],
      "text/plain": [
       "       lead_time  arrival_date_week_number  arrival_date_day_of_month  \\\n",
       "79839       34.0                      50.0                        8.0   \n",
       "76585      208.0                      31.0                       28.0   \n",
       "61731       18.0                      52.0                       24.0   \n",
       "24224      236.0                      20.0                       12.0   \n",
       "19582        0.0                      52.0                       26.0   \n",
       "...          ...                       ...                        ...   \n",
       "42287       63.0                      36.0                        4.0   \n",
       "50797       10.0                      20.0                        8.0   \n",
       "9145        40.0                      44.0                       29.0   \n",
       "91449       79.0                      25.0                       16.0   \n",
       "15785       32.0                      31.0                       27.0   \n",
       "\n",
       "       stays_in_week_nights  previous_bookings_not_canceled       agent  \\\n",
       "79839                   2.0                             0.0   19.000000   \n",
       "76585                   1.0                             0.0    9.000000   \n",
       "61731                   1.0                             0.0   85.000000   \n",
       "24224                   3.0                             0.0  315.000000   \n",
       "19582                   1.0                             0.0   93.744664   \n",
       "...                     ...                             ...         ...   \n",
       "42287                   2.0                             0.0   21.000000   \n",
       "50797                   1.0                             0.0    9.000000   \n",
       "9145                    1.0                             0.0  240.000000   \n",
       "91449                   4.0                             0.0    9.000000   \n",
       "15785                   5.0                             0.0  250.000000   \n",
       "\n",
       "       days_in_waiting_list     adr  day_wait_ind  \n",
       "79839                   0.0   90.00             0  \n",
       "76585                   0.0   76.50             0  \n",
       "61731                   0.0   80.00             0  \n",
       "24224                   0.0   66.00             0  \n",
       "19582                   0.0   50.00             0  \n",
       "...                     ...     ...           ...  \n",
       "42287                   0.0  116.00             0  \n",
       "50797                   0.0  126.00             0  \n",
       "9145                    0.0   85.73             0  \n",
       "91449                   0.0  152.40             0  \n",
       "15785                   0.0  147.00             0  \n",
       "\n",
       "[71299 rows x 9 columns]"
      ]
     },
     "execution_count": 413,
     "metadata": {},
     "output_type": "execute_result"
    }
   ],
   "source": [
    "num_i"
   ]
  },
  {
   "cell_type": "markdown",
   "id": "35b11942-2f13-47da-ae08-9aef049731fb",
   "metadata": {},
   "source": [
    "### Feature Selection"
   ]
  },
  {
   "cell_type": "code",
   "execution_count": 414,
   "id": "13b7f275-2b1a-493f-9389-436bf1987118",
   "metadata": {},
   "outputs": [],
   "source": [
    "## Remove variables with zero variance\n",
    "varselector = VarianceThreshold(threshold = 0)\n",
    "varselector.fit_transform(num_i)\n",
    "\n",
    "cols = varselector.get_support(indices=True)\n",
    "\n",
    "##select_cols\n",
    "num_i = num_i.iloc[:, cols]\n",
    "\n",
    "##Create new features\n",
    "num_i['day_wait_ind'] = np.where(num_i['days_in_waiting_list']>0, 1, 0)\n",
    "num_i['previous_bookings_not_canceled_ind'] = np.where(num_i['previous_bookings_not_canceled']>0, 1, 0)\n",
    "                                                             \n",
    "try:\n",
    "    num_i['booking_changes_ind'] = np.where(num_i['booking_changes']<0, 1, 0)\n",
    "\n",
    "    num_varlist = ['arrival_date_day_of_month', 'arrival_date_week_number', 'days_in_waiting_list', 'previous_bookings_not_canceled', 'booking_changes']\n",
    "except:\n",
    "    num_varlist = ['arrival_date_day_of_month', 'arrival_date_week_number', 'days_in_waiting_list', 'previous_bookings_not_canceled']\n",
    "\n",
    "num_i.drop(num_varlist, axis=1, inplace=True)"
   ]
  },
  {
   "cell_type": "code",
   "execution_count": null,
   "id": "87a11ea4-06a8-4b59-89e2-761b36bafee8",
   "metadata": {},
   "outputs": [],
   "source": [
    "#Categorical features\n",
    "try:\n",
    "    charlist = ['arrival_date_month', 'country', 'assigned_room_type', 'reservation_status',\n",
    "                'reservation_status_date', 'arrival_date_year']\n",
    "    char_i.drop(charlist, axis=1, inplace=True)\n",
    "except:\n",
    "    charlist = ['arrival_date_month', 'country', 'assigned_room_type', 'reservation_status',\n",
    "                'reservation_status_date', 'arrival_date_year', 'booking_changes']\n",
    "    char_i.drop(charlist, axis=1, inplace=True)"
   ]
  },
  {
   "cell_type": "code",
   "execution_count": null,
   "id": "58acee2a-374b-4672-9ca8-10ea38f4f101",
   "metadata": {},
   "outputs": [],
   "source": [
    "#LabelEncoder\n",
    "#Encode all the categorical columns\n",
    "le = GetDummies()\n",
    "\n",
    "le.fit(char_i)\n",
    "char_encoded = le.transform(char_i)"
   ]
  },
  {
   "cell_type": "code",
   "execution_count": null,
   "id": "0be86a81-7696-4fdc-a559-f5d0f25075d3",
   "metadata": {},
   "outputs": [],
   "source": [
    "selector = SelectKBest(chi2, k=30)\n",
    "selector.fit_transform(char_encoded, y)\n",
    "\n",
    "#get columns to create new df with them only\n",
    "cols = selector.get_support(indices=True)\n",
    "select_features_df_char = char_encoded.iloc[:,cols]"
   ]
  },
  {
   "cell_type": "code",
   "execution_count": null,
   "id": "7c027a9f-8cb6-4904-8522-2e61b10a2cd3",
   "metadata": {},
   "outputs": [],
   "source": [
    "##Setting the final DF\n",
    "X_train = pd.concat([select_features_df_char, num_i], axis=1, join='inner')"
   ]
  },
  {
   "cell_type": "code",
   "execution_count": null,
   "id": "46f7c534-6110-474d-9408-7e9cc5377da9",
   "metadata": {},
   "outputs": [],
   "source": [
    "selected_vars= {'cat': list(select_features_df_char.columns), 'num': list(num_i.columns)}"
   ]
  },
  {
   "cell_type": "markdown",
   "id": "2772d804-8f5b-49c8-bc2a-b72b05f7e5cf",
   "metadata": {},
   "source": [
    "### Output methods for data preparation"
   ]
  },
  {
   "cell_type": "code",
   "execution_count": 396,
   "id": "d777d2bf-3a30-4c45-af41-c551fdf2d09a",
   "metadata": {},
   "outputs": [],
   "source": [
    "with open('cols_split.pkl', 'wb') as f:\n",
    "    dump(cols_split, f)\n",
    "\n",
    "with open('imputers.pkl', 'wb') as f:\n",
    "    dump(imputers, f)\n",
    "    \n",
    "with open('encoders.pkl', 'wb') as f:\n",
    "    dump(le, f)\n",
    "    \n",
    "with open('selected_vars.pkl', 'wb') as f:\n",
    "    dump(selected_vars, f)"
   ]
  },
  {
   "cell_type": "markdown",
   "id": "f1a7ae1a-348b-49b3-93ba-5bf386bc5d89",
   "metadata": {},
   "source": [
    "## Output data"
   ]
  },
  {
   "cell_type": "code",
   "execution_count": 397,
   "id": "6e1f2724-a9d4-412c-af49-46027026698c",
   "metadata": {},
   "outputs": [],
   "source": [
    "## Add here more details\n",
    "pickle_sets(df=X_train, y=y, path=f'dataprep_{data_split}.pkl')"
   ]
  },
  {
   "cell_type": "code",
   "execution_count": null,
   "id": "67a10d64-b87b-4551-b9ca-687dde9219a9",
   "metadata": {},
   "outputs": [],
   "source": []
  }
 ],
 "metadata": {
  "kernelspec": {
   "display_name": "Python 3 (ipykernel)",
   "language": "python",
   "name": "python3"
  },
  "language_info": {
   "codemirror_mode": {
    "name": "ipython",
    "version": 3
   },
   "file_extension": ".py",
   "mimetype": "text/x-python",
   "name": "python",
   "nbconvert_exporter": "python",
   "pygments_lexer": "ipython3",
   "version": "3.8.13"
  }
 },
 "nbformat": 4,
 "nbformat_minor": 5
}
