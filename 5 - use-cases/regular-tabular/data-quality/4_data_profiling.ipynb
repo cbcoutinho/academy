{
 "cells": [
  {
   "cell_type": "markdown",
   "id": "0687a777-4363-4d03-8d67-92a2342dc569",
   "metadata": {},
   "source": [
    "# Exploratory data analysis - First understanding of the data"
   ]
  },
  {
   "cell_type": "markdown",
   "id": "8619741d-a1d4-43ca-978d-2bbe16326d53",
   "metadata": {},
   "source": [
    "## Consume the pre-calculated metadata"
   ]
  },
  {
   "cell_type": "code",
   "execution_count": 2,
   "id": "84bccb73-0757-409a-8235-340baadebde1",
   "metadata": {},
   "outputs": [
    {
     "name": "stdout",
     "output_type": "stream",
     "text": [
      "Collecting pandas-profiling\n",
      "  Downloading pandas_profiling-3.2.0-py2.py3-none-any.whl (262 kB)\n",
      "\u001b[2K     \u001b[90m━━━━━━━━━━━━━━━━━━━━━━━━━━━━━━━━━━━━━━\u001b[0m \u001b[32m262.6/262.6 kB\u001b[0m \u001b[31m21.0 MB/s\u001b[0m eta \u001b[36m0:00:00\u001b[0m\n",
      "\u001b[?25hRequirement already satisfied: jinja2>=2.11.1 in /opt/conda/lib/python3.8/site-packages (from pandas-profiling) (3.0.3)\n",
      "Collecting visions[type_image_path]==0.7.4\n",
      "  Downloading visions-0.7.4-py3-none-any.whl (102 kB)\n",
      "\u001b[2K     \u001b[90m━━━━━━━━━━━━━━━━━━━━━━━━━━━━━━━━━━━━━━━\u001b[0m \u001b[32m102.4/102.4 kB\u001b[0m \u001b[31m9.6 MB/s\u001b[0m eta \u001b[36m0:00:00\u001b[0m\n",
      "\u001b[?25hCollecting htmlmin>=0.1.12\n",
      "  Downloading htmlmin-0.1.12.tar.gz (19 kB)\n",
      "  Preparing metadata (setup.py) ... \u001b[?25ldone\n",
      "\u001b[?25hCollecting multimethod>=1.4\n",
      "  Downloading multimethod-1.8-py3-none-any.whl (9.8 kB)\n",
      "Requirement already satisfied: seaborn>=0.10.1 in /opt/conda/lib/python3.8/site-packages (from pandas-profiling) (0.11.2)\n",
      "Collecting missingno>=0.4.2\n",
      "  Downloading missingno-0.5.1-py3-none-any.whl (8.7 kB)\n",
      "Collecting tangled-up-in-unicode==0.2.0\n",
      "  Downloading tangled_up_in_unicode-0.2.0-py3-none-any.whl (4.7 MB)\n",
      "\u001b[2K     \u001b[90m━━━━━━━━━━━━━━━━━━━━━━━━━━━━━━━━━━━━━━━━\u001b[0m \u001b[32m4.7/4.7 MB\u001b[0m \u001b[31m70.7 MB/s\u001b[0m eta \u001b[36m0:00:00\u001b[0m:00:01\u001b[0m\n",
      "\u001b[?25hRequirement already satisfied: markupsafe~=2.1.1 in /opt/conda/lib/python3.8/site-packages (from pandas-profiling) (2.1.1)\n",
      "Requirement already satisfied: pandas!=1.0.0,!=1.0.1,!=1.0.2,!=1.1.0,>=0.25.3 in /opt/conda/lib/python3.8/site-packages (from pandas-profiling) (1.2.3)\n",
      "Requirement already satisfied: matplotlib>=3.2.0 in /opt/conda/lib/python3.8/site-packages (from pandas-profiling) (3.5.2)\n",
      "Requirement already satisfied: pydantic>=1.8.1 in /opt/conda/lib/python3.8/site-packages (from pandas-profiling) (1.8.2)\n",
      "Collecting phik>=0.11.1\n",
      "  Downloading phik-0.12.2-cp38-cp38-manylinux_2_17_x86_64.manylinux2014_x86_64.whl (696 kB)\n",
      "\u001b[2K     \u001b[90m━━━━━━━━━━━━━━━━━━━━━━━━━━━━━━━━━━━━━━\u001b[0m \u001b[32m696.1/696.1 kB\u001b[0m \u001b[31m30.8 MB/s\u001b[0m eta \u001b[36m0:00:00\u001b[0m\n",
      "\u001b[?25hCollecting tqdm>=4.48.2\n",
      "  Downloading tqdm-4.64.0-py2.py3-none-any.whl (78 kB)\n",
      "\u001b[2K     \u001b[90m━━━━━━━━━━━━━━━━━━━━━━━━━━━━━━━━━━━━━━━━\u001b[0m \u001b[32m78.4/78.4 kB\u001b[0m \u001b[31m7.3 MB/s\u001b[0m eta \u001b[36m0:00:00\u001b[0m\n",
      "\u001b[?25hRequirement already satisfied: scipy>=1.4.1 in /opt/conda/lib/python3.8/site-packages (from pandas-profiling) (1.6.0)\n",
      "Requirement already satisfied: numpy>=1.16.0 in /opt/conda/lib/python3.8/site-packages (from pandas-profiling) (1.21.2)\n",
      "Requirement already satisfied: requests>=2.24.0 in /opt/conda/lib/python3.8/site-packages (from pandas-profiling) (2.25.1)\n",
      "Requirement already satisfied: PyYAML>=5.0.0 in /opt/conda/lib/python3.8/site-packages (from pandas-profiling) (5.4.1)\n",
      "Requirement already satisfied: joblib~=1.1.0 in /opt/conda/lib/python3.8/site-packages (from pandas-profiling) (1.1.0)\n",
      "Requirement already satisfied: networkx>=2.4 in /opt/conda/lib/python3.8/site-packages (from visions[type_image_path]==0.7.4->pandas-profiling) (2.8.3)\n",
      "Requirement already satisfied: attrs>=19.3.0 in /opt/conda/lib/python3.8/site-packages (from visions[type_image_path]==0.7.4->pandas-profiling) (21.4.0)\n",
      "Requirement already satisfied: Pillow in /opt/conda/lib/python3.8/site-packages (from visions[type_image_path]==0.7.4->pandas-profiling) (9.1.1)\n",
      "Collecting imagehash\n",
      "  Downloading ImageHash-4.2.1.tar.gz (812 kB)\n",
      "\u001b[2K     \u001b[90m━━━━━━━━━━━━━━━━━━━━━━━━━━━━━━━━━━━━━━\u001b[0m \u001b[32m812.6/812.6 kB\u001b[0m \u001b[31m36.2 MB/s\u001b[0m eta \u001b[36m0:00:00\u001b[0m\n",
      "\u001b[?25h  Preparing metadata (setup.py) ... \u001b[?25ldone\n",
      "\u001b[?25hRequirement already satisfied: fonttools>=4.22.0 in /opt/conda/lib/python3.8/site-packages (from matplotlib>=3.2.0->pandas-profiling) (4.33.3)\n",
      "Requirement already satisfied: cycler>=0.10 in /opt/conda/lib/python3.8/site-packages (from matplotlib>=3.2.0->pandas-profiling) (0.11.0)\n",
      "Requirement already satisfied: packaging>=20.0 in /opt/conda/lib/python3.8/site-packages (from matplotlib>=3.2.0->pandas-profiling) (20.8)\n",
      "Requirement already satisfied: kiwisolver>=1.0.1 in /opt/conda/lib/python3.8/site-packages (from matplotlib>=3.2.0->pandas-profiling) (1.4.2)\n",
      "Requirement already satisfied: pyparsing>=2.2.1 in /opt/conda/lib/python3.8/site-packages (from matplotlib>=3.2.0->pandas-profiling) (3.0.9)\n",
      "Requirement already satisfied: python-dateutil>=2.7 in /opt/conda/lib/python3.8/site-packages (from matplotlib>=3.2.0->pandas-profiling) (2.8.2)\n",
      "Requirement already satisfied: pytz>=2017.3 in /opt/conda/lib/python3.8/site-packages (from pandas!=1.0.0,!=1.0.1,!=1.0.2,!=1.1.0,>=0.25.3->pandas-profiling) (2022.1)\n",
      "Requirement already satisfied: typing-extensions>=3.7.4.3 in /opt/conda/lib/python3.8/site-packages (from pydantic>=1.8.1->pandas-profiling) (3.10.0.2)\n",
      "Requirement already satisfied: chardet<5,>=3.0.2 in /opt/conda/lib/python3.8/site-packages (from requests>=2.24.0->pandas-profiling) (3.0.4)\n",
      "Requirement already satisfied: certifi>=2017.4.17 in /opt/conda/lib/python3.8/site-packages (from requests>=2.24.0->pandas-profiling) (2022.5.18.1)\n",
      "Requirement already satisfied: urllib3<1.27,>=1.21.1 in /opt/conda/lib/python3.8/site-packages (from requests>=2.24.0->pandas-profiling) (1.26.9)\n",
      "Requirement already satisfied: idna<3,>=2.5 in /opt/conda/lib/python3.8/site-packages (from requests>=2.24.0->pandas-profiling) (2.10)\n",
      "Requirement already satisfied: six>=1.5 in /opt/conda/lib/python3.8/site-packages (from python-dateutil>=2.7->matplotlib>=3.2.0->pandas-profiling) (1.16.0)\n",
      "Collecting PyWavelets\n",
      "  Downloading PyWavelets-1.3.0-cp38-cp38-manylinux_2_17_x86_64.manylinux2014_x86_64.whl (6.9 MB)\n",
      "\u001b[2K     \u001b[90m━━━━━━━━━━━━━━━━━━━━━━━━━━━━━━━━━━━━━━━━\u001b[0m \u001b[32m6.9/6.9 MB\u001b[0m \u001b[31m77.1 MB/s\u001b[0m eta \u001b[36m0:00:00\u001b[0m:00:01\u001b[0m00:01\u001b[0m\n",
      "\u001b[?25hBuilding wheels for collected packages: htmlmin, imagehash\n",
      "  Building wheel for htmlmin (setup.py) ... \u001b[?25ldone\n",
      "\u001b[?25h  Created wheel for htmlmin: filename=htmlmin-0.1.12-py3-none-any.whl size=27096 sha256=f261b05e9d43936b05d65066ce33a777f0205d07ad24123d8e8017b1cc2914b8\n",
      "  Stored in directory: /home/ydata/.cache/pip/wheels/23/14/6e/4be5bfeeb027f4939a01764b48edd5996acf574b0913fe5243\n",
      "  Building wheel for imagehash (setup.py) ... \u001b[?25ldone\n",
      "\u001b[?25h  Created wheel for imagehash: filename=ImageHash-4.2.1-py2.py3-none-any.whl size=295206 sha256=4b77d13ae54e243723c0be99d2425cb3f829d516c0059a9242c3f2a09f259130\n",
      "  Stored in directory: /home/ydata/.cache/pip/wheels/48/a1/7f/096c1269d6bf78d4768180602579b35a1e8cb1250bb4b40c74\n",
      "Successfully built htmlmin imagehash\n",
      "Installing collected packages: htmlmin, tqdm, tangled-up-in-unicode, PyWavelets, multimethod, imagehash, visions, phik, missingno, pandas-profiling\n",
      "  Attempting uninstall: tqdm\n",
      "    Found existing installation: tqdm 4.48.0\n",
      "    Uninstalling tqdm-4.48.0:\n",
      "      Successfully uninstalled tqdm-4.48.0\n",
      "\u001b[31mERROR: pip's dependency resolver does not currently take into account all the packages that are installed. This behaviour is the source of the following dependency conflicts.\n",
      "ydata-utils 1.6.1 requires tqdm==4.48.0, but you have tqdm 4.64.0 which is incompatible.\n",
      "ydata-connectors 1.6.1 requires google-api-core==1.26.2, but you have google-api-core 1.31.6 which is incompatible.\u001b[0m\u001b[31m\n",
      "\u001b[0mSuccessfully installed PyWavelets-1.3.0 htmlmin-0.1.12 imagehash-4.2.1 missingno-0.5.1 multimethod-1.8 pandas-profiling-3.2.0 phik-0.12.2 tangled-up-in-unicode-0.2.0 tqdm-4.64.0 visions-0.7.4\n"
     ]
    }
   ],
   "source": [
    "!pip install pandas-profiling"
   ]
  },
  {
   "cell_type": "code",
   "execution_count": 31,
   "id": "73932d1c-5b2f-4145-81b8-bc6a4724cbea",
   "metadata": {},
   "outputs": [],
   "source": [
    "import os\n",
    "\n",
    "from pickle import load\n",
    "import pandas as pd\n",
    "\n",
    "from ydata.metadata import Metadata\n",
    "\n",
    "def load_sets(path: str):\n",
    "    with open(path, 'rb') as f:\n",
    "        return load(f)"
   ]
  },
  {
   "cell_type": "code",
   "execution_count": 32,
   "id": "d67b3ce6-cb30-4115-8f0a-bd5dba7b91fe",
   "metadata": {},
   "outputs": [],
   "source": [
    "try:\n",
    "    set_path = os.environ['SET_PATH']\n",
    "except:\n",
    "    set_path = 'train.pkl'\n",
    "    \n",
    "data, y = load_sets(set_path)"
   ]
  },
  {
   "cell_type": "code",
   "execution_count": 33,
   "id": "45aeb20c-9170-4874-8dce-a490401776da",
   "metadata": {},
   "outputs": [],
   "source": [
    "try:\n",
    "    data = data.drop('Unnamed: 0', axis=1)\n",
    "except:\n",
    "    \"No unnamed\""
   ]
  },
  {
   "cell_type": "code",
   "execution_count": 34,
   "id": "ae99d996-326f-43d9-8d97-566bcdd4813f",
   "metadata": {},
   "outputs": [
    {
     "name": "stdout",
     "output_type": "stream",
     "text": [
      "\u001b[1mMetadata Summary \n",
      " \n",
      "\u001b[0m\u001b[1mDataset type: \u001b[0mTABULAR\n",
      "\u001b[1mDataset attributes: \u001b[0m\n",
      "\u001b[1mNumber of columns: \u001b[0m32\n",
      "\u001b[1m% of duplicate rows: \u001b[0m26\n",
      "\u001b[1mTarget column: \u001b[0m\n",
      "\n",
      "\u001b[1mColumn detail: \u001b[0m\n",
      "                            Column    Data type Variable type\n",
      "0                            hotel  categorical        string\n",
      "1                      is_canceled  categorical           int\n",
      "2                        lead_time  categorical           int\n",
      "3                arrival_date_year  categorical           int\n",
      "4               arrival_date_month  categorical        string\n",
      "5         arrival_date_week_number  categorical           int\n",
      "6        arrival_date_day_of_month  categorical           int\n",
      "7          stays_in_weekend_nights  categorical           int\n",
      "8             stays_in_week_nights  categorical           int\n",
      "9                           adults  categorical           int\n",
      "10                        children  categorical         float\n",
      "11                          babies  categorical           int\n",
      "12                            meal  categorical        string\n",
      "13                         country  categorical        string\n",
      "14                  market_segment  categorical        string\n",
      "15            distribution_channel  categorical        string\n",
      "16               is_repeated_guest  categorical           int\n",
      "17          previous_cancellations  categorical           int\n",
      "18  previous_bookings_not_canceled  categorical           int\n",
      "19              reserved_room_type  categorical        string\n",
      "20              assigned_room_type  categorical        string\n",
      "21                 booking_changes  categorical           int\n",
      "22                    deposit_type  categorical        string\n",
      "23                           agent  categorical         float\n",
      "24                         company  categorical         float\n",
      "25            days_in_waiting_list  categorical           int\n",
      "26                   customer_type  categorical        string\n",
      "27                             adr  categorical         float\n",
      "28     required_car_parking_spaces  categorical           int\n",
      "29       total_of_special_requests  categorical           int\n",
      "30              reservation_status  categorical        string\n",
      "31         reservation_status_date  categorical        string\n",
      "\n",
      "\u001b[1mWarnings: \u001b[0m\n",
      "                   Warning                                                                                                                                                                                                               Columns\n",
      "0     WarningType.MISSINGS                                                                                                                                                                                                             [company]\n",
      "1  WarningType.CARDINALITY  [lead_time, arrival_date_week_number, arrival_date_day_of_month, stays_in_week_nights, country, previous_bookings_not_canceled, booking_changes, agent, company, days_in_waiting_list, adr, reservation_status_date]\n",
      "2   WarningType.DUPLICATES                                                                                                                                                                                                                      \n",
      "\n"
     ]
    }
   ],
   "source": [
    "meta = Metadata.load('metadata.pkl')\n",
    "print(meta)"
   ]
  },
  {
   "cell_type": "markdown",
   "id": "c3080656-b0a5-4b99-a61e-ffabdf58f165",
   "metadata": {},
   "source": [
    "## Generating the full data profile"
   ]
  },
  {
   "cell_type": "code",
   "execution_count": 7,
   "id": "6bdca1ad-9609-41ef-9d04-46cee35ed208",
   "metadata": {},
   "outputs": [],
   "source": [
    "try:\n",
    "    data_split=os.environ['DATA_SPLIT']\n",
    "except:\n",
    "    data_split='train'"
   ]
  },
  {
   "cell_type": "code",
   "execution_count": 8,
   "id": "2b7b0d4b-762d-4f53-aa8e-b14b8f26e532",
   "metadata": {},
   "outputs": [
    {
     "name": "stdout",
     "output_type": "stream",
     "text": [
      "Profile Name: train_profile\n"
     ]
    },
    {
     "data": {
      "application/vnd.jupyter.widget-view+json": {
       "model_id": "89f082b29c2f4383b69535c8cbf79df1",
       "version_major": 2,
       "version_minor": 0
      },
      "text/plain": [
       "Summarize dataset:   0%|          | 0/5 [00:00<?, ?it/s]"
      ]
     },
     "metadata": {},
     "output_type": "display_data"
    },
    {
     "name": "stderr",
     "output_type": "stream",
     "text": [
      "/opt/conda/lib/python3.8/site-packages/scipy/stats/stats.py:4594: RuntimeWarning: overflow encountered in long_scalars\n",
      "  (2 * xtie * ytie) / m + x0 * y0 / (9 * m * (size - 2)))\n"
     ]
    },
    {
     "data": {
      "application/vnd.jupyter.widget-view+json": {
       "model_id": "04267c3cd00349338244827a5f1f3943",
       "version_major": 2,
       "version_minor": 0
      },
      "text/plain": [
       "Generate report structure:   0%|          | 0/1 [00:00<?, ?it/s]"
      ]
     },
     "metadata": {},
     "output_type": "display_data"
    },
    {
     "data": {
      "application/vnd.jupyter.widget-view+json": {
       "model_id": "eeaf1fae6ff4402abe6704e3718c4d07",
       "version_major": 2,
       "version_minor": 0
      },
      "text/plain": [
       "Render HTML:   0%|          | 0/1 [00:00<?, ?it/s]"
      ]
     },
     "metadata": {},
     "output_type": "display_data"
    },
    {
     "data": {
      "application/vnd.jupyter.widget-view+json": {
       "model_id": "5ca100e1b072454c9bef2ef73c30b947",
       "version_major": 2,
       "version_minor": 0
      },
      "text/plain": [
       "Export report to file:   0%|          | 0/1 [00:00<?, ?it/s]"
      ]
     },
     "metadata": {},
     "output_type": "display_data"
    }
   ],
   "source": [
    "from pandas_profiling import ProfileReport\n",
    "\n",
    "print(f'Profile Name: {data_split}_profile')\n",
    "profile = ProfileReport(df=data, title='Hotel bookings demand')\n",
    "profile.config.html.navbar_show = False\n",
    "\n",
    "profile.to_file(f'{data_split}_profile.html')"
   ]
  },
  {
   "cell_type": "markdown",
   "id": "ffd25c3b-c35d-4466-b3bd-525f56b45733",
   "metadata": {},
   "source": [
    "## Add here the html artifact to be generated"
   ]
  },
  {
   "cell_type": "code",
   "execution_count": 37,
   "id": "99421611-2a1c-4ce3-8a43-22053c836057",
   "metadata": {},
   "outputs": [],
   "source": [
    "ratio_labels = pd.DataFrame(y.value_counts(normalize=True))"
   ]
  },
  {
   "cell_type": "code",
   "execution_count": 39,
   "id": "92ae5bf8-2375-41d5-9780-bfa6d8386db6",
   "metadata": {},
   "outputs": [
    {
     "data": {
      "text/html": [
       "<div>\n",
       "<style scoped>\n",
       "    .dataframe tbody tr th:only-of-type {\n",
       "        vertical-align: middle;\n",
       "    }\n",
       "\n",
       "    .dataframe tbody tr th {\n",
       "        vertical-align: top;\n",
       "    }\n",
       "\n",
       "    .dataframe thead th {\n",
       "        text-align: right;\n",
       "    }\n",
       "</style>\n",
       "<table border=\"1\" class=\"dataframe\">\n",
       "  <thead>\n",
       "    <tr style=\"text-align: right;\">\n",
       "      <th></th>\n",
       "      <th>is_canceled</th>\n",
       "    </tr>\n",
       "  </thead>\n",
       "  <tbody>\n",
       "    <tr>\n",
       "      <th>0</th>\n",
       "      <td>0.627481</td>\n",
       "    </tr>\n",
       "    <tr>\n",
       "      <th>1</th>\n",
       "      <td>0.372519</td>\n",
       "    </tr>\n",
       "  </tbody>\n",
       "</table>\n",
       "</div>"
      ],
      "text/plain": [
       "   is_canceled\n",
       "0     0.627481\n",
       "1     0.372519"
      ]
     },
     "execution_count": 39,
     "metadata": {},
     "output_type": "execute_result"
    }
   ],
   "source": [
    "ratio_labels"
   ]
  },
  {
   "cell_type": "code",
   "execution_count": 43,
   "id": "7884d159-747d-4abc-b957-5c2a9e137b27",
   "metadata": {},
   "outputs": [],
   "source": [
    "import json\n",
    "\n",
    "metadata = {\n",
    "    'outputs' : [\n",
    "        {\n",
    "      'type': 'table',\n",
    "      'storage': 'inline',\n",
    "      'format': 'csv',\n",
    "      'header': list(ratio_labels.columns),\n",
    "      'source': ratio_labels.to_csv(header=False, index=True)\n",
    "    },\n",
    "        {\n",
    "      'type': 'web-app',\n",
    "      'storage': 'inline',\n",
    "      'source': profile.to_html(),\n",
    "    }\n",
    "    ]\n",
    "  }\n",
    "\n",
    "with open('mlpipeline-ui-metadata.json', 'w') as metadata_file:\n",
    "    json.dump(metadata, metadata_file)"
   ]
  }
 ],
 "metadata": {
  "kernelspec": {
   "display_name": "Python 3 (ipykernel)",
   "language": "python",
   "name": "python3"
  },
  "language_info": {
   "codemirror_mode": {
    "name": "ipython",
    "version": 3
   },
   "file_extension": ".py",
   "mimetype": "text/x-python",
   "name": "python",
   "nbconvert_exporter": "python",
   "pygments_lexer": "ipython3",
   "version": "3.8.13"
  }
 },
 "nbformat": 4,
 "nbformat_minor": 5
}
