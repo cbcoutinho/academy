{
  "nbformat": 4,
  "nbformat_minor": 0,
  "metadata": {
    "colab": {
      "name": "Race bias - A synthetic data approach.ipynb",
      "provenance": [],
      "collapsed_sections": [],
      "toc_visible": true
    },
    "kernelspec": {
      "name": "python3",
      "display_name": "Python 3"
    }
  },
  "cells": [
    {
      "cell_type": "code",
      "metadata": {
        "id": "71qtLsFTxx8C",
        "colab_type": "code",
        "colab": {
          "base_uri": "https://localhost:8080/",
          "height": 52
        },
        "outputId": "d747c7ab-2384-4a28-d021-955baa96a591"
      },
      "source": [
        "#Using our synthetic data library for today's exercise\n",
        "#pip install ydata"
      ],
      "execution_count": 2,
      "outputs": [
        {
          "output_type": "stream",
          "text": [
            "/usr/local/lib/python3.6/dist-packages/statsmodels/tools/_testing.py:19: FutureWarning: pandas.util.testing is deprecated. Use the functions in the public API at pandas.testing instead.\n",
            "  import pandas.util.testing as tm\n"
          ],
          "name": "stderr"
        }
      ]
    },
    {
      "cell_type": "code",
      "metadata": {
        "id": "767NfTHjx9t-",
        "colab_type": "code",
        "colab": {}
      },
      "source": [
        "#Loading the census dataset from kaggle\n",
        "import logging\n",
        "import os\n",
        "import requests\n",
        "import pandas as pd\n",
        "import seaborn as sns\n",
        "from sklearn.model_selection import train_test_split\n",
        "from sklearn.preprocessing import OneHotEncoder\n",
        "#import ydata.synthetic.regular as synthetic\n",
        "\n",
        "#Dataset URL from kaggle\n",
        "data_url = 'https://www.kaggle.com/uciml/adult-census-income/downloads/adult.csv'\n",
        "\n",
        "# The local path where the data set is saved.\n",
        "local_filename = \"adult.csv\"\n",
        "\n",
        "# Kaggle Username and Password\n",
        "kaggle_info = {'UserName': \"myusername\", 'Password': \"mypassword\"}\n",
        "\n",
        "# Attempts to download the CSV file. Gets rejected because we are not logged in.\n",
        "r = requests.get(data_url)\n",
        "\n",
        "# Login to Kaggle and retrieve the data.\n",
        "r = requests.post(r.url, data = kaggle_info)\n",
        "\n",
        "# Writes the data to a local file one chunk at a time.\n",
        "f = open(local_filename, 'wb')\n",
        "for chunk in r.iter_content(chunk_size = 512 * 1024): # Reads 512KB at a time into memory\n",
        "\n",
        "    if chunk: # filter out keep-alive new chunks\n",
        "        f.write(chunk)\n",
        "f.close()"
      ],
      "execution_count": 2,
      "outputs": []
    },
    {
      "cell_type": "code",
      "metadata": {
        "id": "QktqvdLfy6BD",
        "colab_type": "code",
        "colab": {
          "base_uri": "https://localhost:8080/",
          "height": 454
        },
        "outputId": "14c6ba01-8fff-4006-de0f-e1d2209ae1cc"
      },
      "source": [
        "adult_census = pd.read_csv('adult.csv')\n",
        "\n",
        "#For the purpose of this exercise we will filter information regarding only black and white individuals. \n",
        "adult_census = adult_census[(adult_census['race']=='White') | (adult_census['race']=='Black')]\n",
        "\n",
        "income = adult_census['income']\n",
        "adult_census = adult_census.drop('education.num', axis=1)\n",
        "adult_census = adult_census.drop('income', axis=1)\n",
        "\n",
        "train_adult, test_adult, income_train, income_test = train_test_split(adult_census, income, test_size=0.33, random_state=42)\n",
        "\n",
        "train_adult['income'] = income_train\n",
        "\n",
        "train_adult.head(10)"
      ],
      "execution_count": 15,
      "outputs": [
        {
          "output_type": "stream",
          "text": [
            "/usr/local/lib/python3.6/dist-packages/ipykernel_launcher.py:12: SettingWithCopyWarning: \n",
            "A value is trying to be set on a copy of a slice from a DataFrame.\n",
            "Try using .loc[row_indexer,col_indexer] = value instead\n",
            "\n",
            "See the caveats in the documentation: https://pandas.pydata.org/pandas-docs/stable/user_guide/indexing.html#returning-a-view-versus-a-copy\n",
            "  if sys.path[0] == '':\n"
          ],
          "name": "stderr"
        },
        {
          "output_type": "execute_result",
          "data": {
            "text/html": [
              "<div>\n",
              "<style scoped>\n",
              "    .dataframe tbody tr th:only-of-type {\n",
              "        vertical-align: middle;\n",
              "    }\n",
              "\n",
              "    .dataframe tbody tr th {\n",
              "        vertical-align: top;\n",
              "    }\n",
              "\n",
              "    .dataframe thead th {\n",
              "        text-align: right;\n",
              "    }\n",
              "</style>\n",
              "<table border=\"1\" class=\"dataframe\">\n",
              "  <thead>\n",
              "    <tr style=\"text-align: right;\">\n",
              "      <th></th>\n",
              "      <th>age</th>\n",
              "      <th>workclass</th>\n",
              "      <th>fnlwgt</th>\n",
              "      <th>education</th>\n",
              "      <th>marital.status</th>\n",
              "      <th>occupation</th>\n",
              "      <th>relationship</th>\n",
              "      <th>race</th>\n",
              "      <th>sex</th>\n",
              "      <th>capital.gain</th>\n",
              "      <th>capital.loss</th>\n",
              "      <th>hours.per.week</th>\n",
              "      <th>native.country</th>\n",
              "      <th>income</th>\n",
              "    </tr>\n",
              "  </thead>\n",
              "  <tbody>\n",
              "    <tr>\n",
              "      <th>21805</th>\n",
              "      <td>51</td>\n",
              "      <td>Local-gov</td>\n",
              "      <td>182985</td>\n",
              "      <td>HS-grad</td>\n",
              "      <td>Married-civ-spouse</td>\n",
              "      <td>Adm-clerical</td>\n",
              "      <td>Wife</td>\n",
              "      <td>White</td>\n",
              "      <td>Female</td>\n",
              "      <td>0</td>\n",
              "      <td>0</td>\n",
              "      <td>40</td>\n",
              "      <td>United-States</td>\n",
              "      <td>&lt;=50K</td>\n",
              "    </tr>\n",
              "    <tr>\n",
              "      <th>18711</th>\n",
              "      <td>37</td>\n",
              "      <td>Self-emp-not-inc</td>\n",
              "      <td>265266</td>\n",
              "      <td>Prof-school</td>\n",
              "      <td>Married-civ-spouse</td>\n",
              "      <td>Prof-specialty</td>\n",
              "      <td>Husband</td>\n",
              "      <td>White</td>\n",
              "      <td>Male</td>\n",
              "      <td>0</td>\n",
              "      <td>0</td>\n",
              "      <td>40</td>\n",
              "      <td>Cuba</td>\n",
              "      <td>&gt;50K</td>\n",
              "    </tr>\n",
              "    <tr>\n",
              "      <th>4477</th>\n",
              "      <td>25</td>\n",
              "      <td>Private</td>\n",
              "      <td>371987</td>\n",
              "      <td>Bachelors</td>\n",
              "      <td>Never-married</td>\n",
              "      <td>Exec-managerial</td>\n",
              "      <td>Not-in-family</td>\n",
              "      <td>White</td>\n",
              "      <td>Female</td>\n",
              "      <td>0</td>\n",
              "      <td>0</td>\n",
              "      <td>40</td>\n",
              "      <td>United-States</td>\n",
              "      <td>&lt;=50K</td>\n",
              "    </tr>\n",
              "    <tr>\n",
              "      <th>6107</th>\n",
              "      <td>42</td>\n",
              "      <td>Private</td>\n",
              "      <td>169995</td>\n",
              "      <td>HS-grad</td>\n",
              "      <td>Married-civ-spouse</td>\n",
              "      <td>Sales</td>\n",
              "      <td>Husband</td>\n",
              "      <td>White</td>\n",
              "      <td>Male</td>\n",
              "      <td>0</td>\n",
              "      <td>0</td>\n",
              "      <td>48</td>\n",
              "      <td>United-States</td>\n",
              "      <td>&lt;=50K</td>\n",
              "    </tr>\n",
              "    <tr>\n",
              "      <th>23638</th>\n",
              "      <td>38</td>\n",
              "      <td>Private</td>\n",
              "      <td>301743</td>\n",
              "      <td>HS-grad</td>\n",
              "      <td>Divorced</td>\n",
              "      <td>Other-service</td>\n",
              "      <td>Not-in-family</td>\n",
              "      <td>White</td>\n",
              "      <td>Female</td>\n",
              "      <td>0</td>\n",
              "      <td>0</td>\n",
              "      <td>35</td>\n",
              "      <td>United-States</td>\n",
              "      <td>&lt;=50K</td>\n",
              "    </tr>\n",
              "    <tr>\n",
              "      <th>29460</th>\n",
              "      <td>40</td>\n",
              "      <td>Federal-gov</td>\n",
              "      <td>178866</td>\n",
              "      <td>HS-grad</td>\n",
              "      <td>Married-civ-spouse</td>\n",
              "      <td>Adm-clerical</td>\n",
              "      <td>Wife</td>\n",
              "      <td>White</td>\n",
              "      <td>Female</td>\n",
              "      <td>0</td>\n",
              "      <td>0</td>\n",
              "      <td>20</td>\n",
              "      <td>United-States</td>\n",
              "      <td>&gt;50K</td>\n",
              "    </tr>\n",
              "    <tr>\n",
              "      <th>21416</th>\n",
              "      <td>40</td>\n",
              "      <td>Private</td>\n",
              "      <td>233320</td>\n",
              "      <td>7th-8th</td>\n",
              "      <td>Separated</td>\n",
              "      <td>Other-service</td>\n",
              "      <td>Not-in-family</td>\n",
              "      <td>White</td>\n",
              "      <td>Female</td>\n",
              "      <td>0</td>\n",
              "      <td>0</td>\n",
              "      <td>25</td>\n",
              "      <td>United-States</td>\n",
              "      <td>&lt;=50K</td>\n",
              "    </tr>\n",
              "    <tr>\n",
              "      <th>25505</th>\n",
              "      <td>40</td>\n",
              "      <td>Federal-gov</td>\n",
              "      <td>196456</td>\n",
              "      <td>Some-college</td>\n",
              "      <td>Never-married</td>\n",
              "      <td>Adm-clerical</td>\n",
              "      <td>Own-child</td>\n",
              "      <td>White</td>\n",
              "      <td>Female</td>\n",
              "      <td>0</td>\n",
              "      <td>0</td>\n",
              "      <td>40</td>\n",
              "      <td>United-States</td>\n",
              "      <td>&lt;=50K</td>\n",
              "    </tr>\n",
              "    <tr>\n",
              "      <th>12214</th>\n",
              "      <td>42</td>\n",
              "      <td>Private</td>\n",
              "      <td>106900</td>\n",
              "      <td>Assoc-voc</td>\n",
              "      <td>Never-married</td>\n",
              "      <td>Tech-support</td>\n",
              "      <td>Not-in-family</td>\n",
              "      <td>White</td>\n",
              "      <td>Male</td>\n",
              "      <td>0</td>\n",
              "      <td>0</td>\n",
              "      <td>40</td>\n",
              "      <td>United-States</td>\n",
              "      <td>&lt;=50K</td>\n",
              "    </tr>\n",
              "    <tr>\n",
              "      <th>20782</th>\n",
              "      <td>29</td>\n",
              "      <td>Private</td>\n",
              "      <td>232666</td>\n",
              "      <td>HS-grad</td>\n",
              "      <td>Married-civ-spouse</td>\n",
              "      <td>Craft-repair</td>\n",
              "      <td>Husband</td>\n",
              "      <td>White</td>\n",
              "      <td>Male</td>\n",
              "      <td>0</td>\n",
              "      <td>0</td>\n",
              "      <td>40</td>\n",
              "      <td>United-States</td>\n",
              "      <td>&lt;=50K</td>\n",
              "    </tr>\n",
              "  </tbody>\n",
              "</table>\n",
              "</div>"
            ],
            "text/plain": [
              "       age         workclass  fnlwgt  ... hours.per.week native.country income\n",
              "21805   51         Local-gov  182985  ...             40  United-States  <=50K\n",
              "18711   37  Self-emp-not-inc  265266  ...             40           Cuba   >50K\n",
              "4477    25           Private  371987  ...             40  United-States  <=50K\n",
              "6107    42           Private  169995  ...             48  United-States  <=50K\n",
              "23638   38           Private  301743  ...             35  United-States  <=50K\n",
              "29460   40       Federal-gov  178866  ...             20  United-States   >50K\n",
              "21416   40           Private  233320  ...             25  United-States  <=50K\n",
              "25505   40       Federal-gov  196456  ...             40  United-States  <=50K\n",
              "12214   42           Private  106900  ...             40  United-States  <=50K\n",
              "20782   29           Private  232666  ...             40  United-States  <=50K\n",
              "\n",
              "[10 rows x 14 columns]"
            ]
          },
          "metadata": {
            "tags": []
          },
          "execution_count": 15
        }
      ]
    },
    {
      "cell_type": "code",
      "metadata": {
        "id": "qS3VU6XYzZ_-",
        "colab_type": "code",
        "colab": {
          "base_uri": "https://localhost:8080/",
          "height": 534
        },
        "outputId": "27062f4f-226c-4292-f0bc-1938c24d98a1"
      },
      "source": [
        "sns.set(style=\"dark\", rc={'figure.figsize':(11.7,8.27)})\n",
        "\n",
        "sns.countplot(x=\"race\",\n",
        "              palette=\"Paired\", edgecolor=\".6\",\n",
        "              data=train_adult)"
      ],
      "execution_count": 16,
      "outputs": [
        {
          "output_type": "execute_result",
          "data": {
            "text/plain": [
              "<matplotlib.axes._subplots.AxesSubplot at 0x7fe8e6d59b00>"
            ]
          },
          "metadata": {
            "tags": []
          },
          "execution_count": 16
        },
        {
          "output_type": "display_data",
          "data": {
            "image/png": "[encoded data removed]",
            "text/plain": [
              "<Figure size 842.4x595.44 with 1 Axes>"
            ]
          },
          "metadata": {
            "tags": []
          }
        }
      ]
    },
    {
      "cell_type": "code",
      "metadata": {
        "id": "W3g5kLMd1lD3",
        "colab_type": "code",
        "colab": {}
      },
      "source": [
        "#Let's tackling the bias present in the dataset.\n",
        "#For that purpose we will need to filter the records belonging to only the black individuals. \n",
        "def filter_fn(row):\n",
        "    if row['race'] == 'Black':\n",
        "        return True\n",
        "    else:\n",
        "        return False\n",
        "\n",
        "filt = train_adult.apply(filter_fn, axis=1)\n",
        "train_adult_black = train_adult[filt]"
      ],
      "execution_count": 17,
      "outputs": []
    },
    {
      "cell_type": "markdown",
      "metadata": {
        "id": "spzmayPz4nyv",
        "colab_type": "text"
      },
      "source": [
        ""
      ]
    },
    {
      "cell_type": "code",
      "metadata": {
        "id": "Cz941mL14mvq",
        "colab_type": "code",
        "colab": {
          "base_uri": "https://localhost:8080/",
          "height": 552
        },
        "outputId": "f11f8b9c-cf0d-4261-c44d-b399126eb6c0"
      },
      "source": [
        "print(\"Number of records belonging to black individuals: {}\".format(train_adult_black.shape[0]))\n",
        "\n",
        "sns.set(style=\"dark\", rc={'figure.figsize':(11.7,8.27)})\n",
        "\n",
        "sns.countplot(x=\"sex\",\n",
        "              palette=\"Paired\", edgecolor=\".6\",\n",
        "              data=train_adult_black)\n",
        "#In what concerns sex, we have an equal representation of women and man for the black population of the dataset"
      ],
      "execution_count": 18,
      "outputs": [
        {
          "output_type": "stream",
          "text": [
            "Number of records belonging to black individuals: 2097\n"
          ],
          "name": "stdout"
        },
        {
          "output_type": "execute_result",
          "data": {
            "text/plain": [
              "<matplotlib.axes._subplots.AxesSubplot at 0x7fe8e1100518>"
            ]
          },
          "metadata": {
            "tags": []
          },
          "execution_count": 18
        },
        {
          "output_type": "display_data",
          "data": {
            "image/png": "[encoded data removed]",
            "text/plain": [
              "<Figure size 842.4x595.44 with 1 Axes>"
            ]
          },
          "metadata": {
            "tags": []
          }
        }
      ]
    },
    {
      "cell_type": "code",
      "metadata": {
        "id": "ANN-cthw6Rhf",
        "colab_type": "code",
        "colab": {
          "base_uri": "https://localhost:8080/",
          "height": 34
        },
        "outputId": "4abd6359-e63e-4f65-a184-278216783914"
      },
      "source": [
        "#Using the YData synthetic data lib to generate new 3000 individuals for the black population\n",
        "synth_model = synthetic.SynthTabular()\n",
        "synth_model.fit(adult_black)\n",
        "\n",
        "synth_data = synth_model.sample(n_samples=3000)"
      ],
      "execution_count": 19,
      "outputs": [
        {
          "output_type": "execute_result",
          "data": {
            "text/plain": [
              "\"\\nsynth_model = synthetic.SynthTabular()\\nsynth_model.fit(adult_black)\\n\\nsynth_data = synth_model.sample(n_samples=1000)\\n\\nsynth_data.to_csv('synth_data.csv')\\n\""
            ]
          },
          "metadata": {
            "tags": []
          },
          "execution_count": 19
        }
      ]
    },
    {
      "cell_type": "code",
      "metadata": {
        "id": "PG8ripYH-pgF",
        "colab_type": "code",
        "colab": {
          "base_uri": "https://localhost:8080/",
          "height": 287
        },
        "outputId": "b6e9876d-4968-4234-8f30-892bfa8d161e"
      },
      "source": [
        "synth_data = pd.read_csv('synth_data.csv', index_col=[0])\n",
        "synth_data = synth_data.drop('education.num', axis=1)\n",
        "\n",
        "synth_data = pd.concat([synth_data[synth_data['income']=='>50K'],synth_data[synth_data['income']=='<=50K'][:1000]])\n",
        "synth_data.describe()"
      ],
      "execution_count": 72,
      "outputs": [
        {
          "output_type": "execute_result",
          "data": {
            "text/html": [
              "<div>\n",
              "<style scoped>\n",
              "    .dataframe tbody tr th:only-of-type {\n",
              "        vertical-align: middle;\n",
              "    }\n",
              "\n",
              "    .dataframe tbody tr th {\n",
              "        vertical-align: top;\n",
              "    }\n",
              "\n",
              "    .dataframe thead th {\n",
              "        text-align: right;\n",
              "    }\n",
              "</style>\n",
              "<table border=\"1\" class=\"dataframe\">\n",
              "  <thead>\n",
              "    <tr style=\"text-align: right;\">\n",
              "      <th></th>\n",
              "      <th>age</th>\n",
              "      <th>fnlwgt</th>\n",
              "      <th>capital.gain</th>\n",
              "      <th>capital.loss</th>\n",
              "      <th>hours.per.week</th>\n",
              "    </tr>\n",
              "  </thead>\n",
              "  <tbody>\n",
              "    <tr>\n",
              "      <th>count</th>\n",
              "      <td>1593.000000</td>\n",
              "      <td>1593.000000</td>\n",
              "      <td>1593.000000</td>\n",
              "      <td>1593.000000</td>\n",
              "      <td>1593.000000</td>\n",
              "    </tr>\n",
              "    <tr>\n",
              "      <th>mean</th>\n",
              "      <td>39.970496</td>\n",
              "      <td>251363.940364</td>\n",
              "      <td>353.072191</td>\n",
              "      <td>46.891400</td>\n",
              "      <td>41.369115</td>\n",
              "    </tr>\n",
              "    <tr>\n",
              "      <th>std</th>\n",
              "      <td>12.689261</td>\n",
              "      <td>122172.483784</td>\n",
              "      <td>1846.854989</td>\n",
              "      <td>281.143931</td>\n",
              "      <td>10.563726</td>\n",
              "    </tr>\n",
              "    <tr>\n",
              "      <th>min</th>\n",
              "      <td>15.000000</td>\n",
              "      <td>19721.000000</td>\n",
              "      <td>0.000000</td>\n",
              "      <td>0.000000</td>\n",
              "      <td>12.000000</td>\n",
              "    </tr>\n",
              "    <tr>\n",
              "      <th>25%</th>\n",
              "      <td>31.000000</td>\n",
              "      <td>164358.000000</td>\n",
              "      <td>0.000000</td>\n",
              "      <td>0.000000</td>\n",
              "      <td>40.000000</td>\n",
              "    </tr>\n",
              "    <tr>\n",
              "      <th>50%</th>\n",
              "      <td>39.000000</td>\n",
              "      <td>225974.000000</td>\n",
              "      <td>0.000000</td>\n",
              "      <td>0.000000</td>\n",
              "      <td>40.000000</td>\n",
              "    </tr>\n",
              "    <tr>\n",
              "      <th>75%</th>\n",
              "      <td>48.000000</td>\n",
              "      <td>320165.000000</td>\n",
              "      <td>10.000000</td>\n",
              "      <td>1.000000</td>\n",
              "      <td>47.000000</td>\n",
              "    </tr>\n",
              "    <tr>\n",
              "      <th>max</th>\n",
              "      <td>95.000000</td>\n",
              "      <td>809913.000000</td>\n",
              "      <td>17523.000000</td>\n",
              "      <td>2042.000000</td>\n",
              "      <td>98.000000</td>\n",
              "    </tr>\n",
              "  </tbody>\n",
              "</table>\n",
              "</div>"
            ],
            "text/plain": [
              "               age         fnlwgt  capital.gain  capital.loss  hours.per.week\n",
              "count  1593.000000    1593.000000   1593.000000   1593.000000     1593.000000\n",
              "mean     39.970496  251363.940364    353.072191     46.891400       41.369115\n",
              "std      12.689261  122172.483784   1846.854989    281.143931       10.563726\n",
              "min      15.000000   19721.000000      0.000000      0.000000       12.000000\n",
              "25%      31.000000  164358.000000      0.000000      0.000000       40.000000\n",
              "50%      39.000000  225974.000000      0.000000      0.000000       40.000000\n",
              "75%      48.000000  320165.000000     10.000000      1.000000       47.000000\n",
              "max      95.000000  809913.000000  17523.000000   2042.000000       98.000000"
            ]
          },
          "metadata": {
            "tags": []
          },
          "execution_count": 72
        }
      ]
    },
    {
      "cell_type": "code",
      "metadata": {
        "id": "ynL5jJS2_6Hs",
        "colab_type": "code",
        "colab": {
          "base_uri": "https://localhost:8080/",
          "height": 641
        },
        "outputId": "ed5b9eef-9d9d-4592-b19c-f10f3d31798c"
      },
      "source": [
        "#Now combining both the datasets\n",
        "test_adult['income'] = income_test\n",
        "adult_combined = synth_data.append(test_adult).sample(frac=1)\n",
        "\n",
        "#Let's check again how are we regarding the balancing of our classes for the race variable\n",
        "sns.set(style=\"dark\", rc={'figure.figsize':(11.7,8.27)})\n",
        "\n",
        "sns.countplot(x=\"race\",\n",
        "              palette=\"Paired\", edgecolor=\".6\",\n",
        "              data=adult_combined)"
      ],
      "execution_count": 73,
      "outputs": [
        {
          "output_type": "stream",
          "text": [
            "/usr/local/lib/python3.6/dist-packages/ipykernel_launcher.py:2: SettingWithCopyWarning: \n",
            "A value is trying to be set on a copy of a slice from a DataFrame.\n",
            "Try using .loc[row_indexer,col_indexer] = value instead\n",
            "\n",
            "See the caveats in the documentation: https://pandas.pydata.org/pandas-docs/stable/user_guide/indexing.html#returning-a-view-versus-a-copy\n",
            "  \n"
          ],
          "name": "stderr"
        },
        {
          "output_type": "execute_result",
          "data": {
            "text/plain": [
              "<matplotlib.axes._subplots.AxesSubplot at 0x7fe8e0fd9cf8>"
            ]
          },
          "metadata": {
            "tags": []
          },
          "execution_count": 73
        },
        {
          "output_type": "display_data",
          "data": {
            "image/png": "[encoded data removed]",
            "text/plain": [
              "<Figure size 842.4x595.44 with 1 Axes>"
            ]
          },
          "metadata": {
            "tags": []
          }
        }
      ]
    },
    {
      "cell_type": "code",
      "metadata": {
        "id": "qgfmK9EjZ_C1",
        "colab_type": "code",
        "colab": {}
      },
      "source": [
        "#Auxiliar function to encode the categorical variables\n",
        "import numpy as np\n",
        "from sklearn.preprocessing import OneHotEncoder\n",
        "from sklearn.linear_model import LogisticRegression\n",
        "from sklearn.ensemble import RandomForestClassifier\n",
        "from sklearn.tree import DecisionTreeClassifier\n",
        "from sklearn.svm import SVC\n",
        "from sklearn.neighbors import KNeighborsClassifier\n",
        "from sklearn.metrics import f1_score, accuracy_score, average_precision_score\n",
        "\n",
        "def numerical_encoding(df, cat_cols=[], ord_cols=[]):\n",
        "    try:\n",
        "        assert isinstance(df, pd.DataFrame)\n",
        "    except AssertionError as e:\n",
        "        logging.error('The df input object must a Pandas dataframe. This action will not be executed.')\n",
        "        return\n",
        "    ord_cols_val = None\n",
        "    cat_cols_val = None\n",
        "    dummies = None\n",
        "    cont_cols = list(set(df.columns) - set(cat_cols+ord_cols))\n",
        "    cont_vals = df[cont_cols].values\n",
        "\n",
        "    if len(ord_cols) > 0:\n",
        "        ord_cols_val = df[ord_cols].values\n",
        "        label_encoder = LabelEncoder\n",
        "        ord_encoded = label_encoder.fit_transform(ord_cols_val)\n",
        "\n",
        "    if len(cat_cols) > 0:\n",
        "        cat_cols_val = df[cat_cols].values\n",
        "        hot_encoder = OneHotEncoder()\n",
        "        cat_encoded = hot_encoder.fit_transform(cat_cols_val).toarray()\n",
        "\n",
        "        dummies = []\n",
        "        for i, cat in enumerate(hot_encoder.categories_):\n",
        "            for j in cat:\n",
        "                dummies.append(cat_cols[i]+'_'+str(j))\n",
        "\n",
        "    if ord_cols_val is not None and cat_cols_val is not None:\n",
        "        encoded = np.hstack([cont_vals, ord_encoded, cat_encoded])\n",
        "        columns = cont_cols+ord_cols+dummies\n",
        "    elif cat_cols_val is not None:\n",
        "        encoded = np.hstack([cont_vals, cat_encoded])\n",
        "        columns = cont_cols+ord_cols+dummies\n",
        "    else:\n",
        "        encoded = cont_vals\n",
        "        columns = cont_cols\n",
        "\n",
        "    return pd.DataFrame(encoded, columns=columns), dummies"
      ],
      "execution_count": 74,
      "outputs": []
    },
    {
      "cell_type": "code",
      "metadata": {
        "id": "5SaSpPvXBhOc",
        "colab_type": "code",
        "colab": {}
      },
      "source": [
        "#validation functions\n",
        "def score_estimators(estimators, x_test, y_test):\n",
        "\n",
        "    #f1_score average='micro'\n",
        "    scores = {type(clf).__name__: f1_score(y_test, clf.predict(x_test), average='micro') for clf in estimators}\n",
        "\n",
        "    return scores\n",
        "\n",
        "\n",
        "def fit_estimators(estimators, data_train, y_train):\n",
        "    estimators_fit = []\n",
        "    for i, estimator in enumerate(estimators):\n",
        "        estimators_fit.append(estimator.fit(data_train, y_train))\n",
        "    return estimators_fit\n",
        "\n",
        "def estimator_eval(data, y, cat_cols=[]):\n",
        "  def order_cols(df):\n",
        "    cols = sorted(df.columns.tolist())\n",
        "    return df[cols]\n",
        "\n",
        "  data,_ = numerical_encoding(data, cat_cols=cat_cols)\n",
        "\n",
        "  y, uniques = pd.factorize(y)\n",
        "  data = order_cols(data)\n",
        "\n",
        "  x_train, x_test, y_train, y_test = train_test_split(data, y, test_size=0.33, random_state=42)\n",
        "\n",
        "  # Prepare train and test datasets\n",
        "  estimators = [\n",
        "                LogisticRegression(multi_class='auto', solver='lbfgs', max_iter=500, random_state=42),\n",
        "                RandomForestClassifier(n_estimators=10, random_state=42),\n",
        "                DecisionTreeClassifier(random_state=42),\n",
        "                SVC(gamma='auto'),\n",
        "                KNeighborsClassifier(n_neighbors=5)\n",
        "            ]\t\n",
        " \n",
        "  estimators_names = [type(clf).__name__ for clf in estimators]\n",
        "\n",
        "  for estimator in estimators:\n",
        "    assert hasattr(estimator, 'fit')\n",
        "    assert hasattr(estimator, 'score')\n",
        "\n",
        "  estimators = fit_estimators(estimators, x_train, y_train) \n",
        "  scores = score_estimators(estimators, x_test, y_test)\n",
        "\n",
        "  return scores"
      ],
      "execution_count": 75,
      "outputs": []
    },
    {
      "cell_type": "code",
      "metadata": {
        "id": "AVu9oHI0ekLH",
        "colab_type": "code",
        "colab": {}
      },
      "source": [
        "real_scores = estimator_eval(data=test_adult.drop('income', axis=1),\n",
        "                            y=test_adult['income'], \n",
        "                            cat_cols=['workclass', 'education', 'marital.status', 'occupation', 'relationship','race', 'sex', 'native.country'])\n",
        "\n",
        "synth_scores = estimator_eval(data=adult_combined.drop('income', axis=1),\n",
        "                              y=adult_combined['income'], \n",
        "                              cat_cols=['workclass', 'education', 'marital.status', 'occupation', 'relationship','race', 'sex', 'native.country'])"
      ],
      "execution_count": 76,
      "outputs": []
    },
    {
      "cell_type": "code",
      "metadata": {
        "id": "epuY-ZWnlA8a",
        "colab_type": "code",
        "colab": {
          "base_uri": "https://localhost:8080/",
          "height": 34
        },
        "outputId": "d7c165b4-5f88-4ce5-c727-90902b76132b"
      },
      "source": [
        "dict_results = {'original': real_scores, 'synthetic': synth_scores}\n",
        "results = pd.DataFrame(dict_results).reset_index()\n",
        "\n",
        "print(\"Mean average accuracy improvement: {}\".format((results['synthetic'] - results['original']).mean()))\n",
        "\n",
        "results_graph = results.melt('index', var_name='data_source', value_name='accuracy')"
      ],
      "execution_count": null,
      "outputs": [
        {
          "output_type": "stream",
          "text": [
            "Mean average accuracy improvement: 0.024448394946566386\n"
          ],
          "name": "stdout"
        }
      ]
    },
    {
      "cell_type": "code",
      "metadata": {
        "id": "gkDDGD9wQd4E",
        "colab_type": "code",
        "colab": {
          "base_uri": "https://localhost:8080/",
          "height": 107
        },
        "outputId": "2a2ae17b-d521-410b-c4cb-823991716819"
      },
      "source": [
        " pd.DataFrame(dict_results).transpose()"
      ],
      "execution_count": null,
      "outputs": [
        {
          "output_type": "execute_result",
          "data": {
            "text/html": [
              "<div>\n",
              "<style scoped>\n",
              "    .dataframe tbody tr th:only-of-type {\n",
              "        vertical-align: middle;\n",
              "    }\n",
              "\n",
              "    .dataframe tbody tr th {\n",
              "        vertical-align: top;\n",
              "    }\n",
              "\n",
              "    .dataframe thead th {\n",
              "        text-align: right;\n",
              "    }\n",
              "</style>\n",
              "<table border=\"1\" class=\"dataframe\">\n",
              "  <thead>\n",
              "    <tr style=\"text-align: right;\">\n",
              "      <th></th>\n",
              "      <th>LogisticRegression</th>\n",
              "      <th>RandomForestClassifier</th>\n",
              "      <th>DecisionTreeClassifier</th>\n",
              "      <th>SVC</th>\n",
              "      <th>KNeighborsClassifier</th>\n",
              "    </tr>\n",
              "  </thead>\n",
              "  <tbody>\n",
              "    <tr>\n",
              "      <th>original</th>\n",
              "      <td>0.791941</td>\n",
              "      <td>0.834173</td>\n",
              "      <td>0.805114</td>\n",
              "      <td>0.734986</td>\n",
              "      <td>0.753584</td>\n",
              "    </tr>\n",
              "    <tr>\n",
              "      <th>synthetic</th>\n",
              "      <td>0.810818</td>\n",
              "      <td>0.851320</td>\n",
              "      <td>0.816201</td>\n",
              "      <td>0.779287</td>\n",
              "      <td>0.784414</td>\n",
              "    </tr>\n",
              "  </tbody>\n",
              "</table>\n",
              "</div>"
            ],
            "text/plain": [
              "           LogisticRegression  ...  KNeighborsClassifier\n",
              "original             0.791941  ...              0.753584\n",
              "synthetic            0.810818  ...              0.784414\n",
              "\n",
              "[2 rows x 5 columns]"
            ]
          },
          "metadata": {
            "tags": []
          },
          "execution_count": 235
        }
      ]
    },
    {
      "cell_type": "code",
      "metadata": {
        "id": "If1Zx50KuEIz",
        "colab_type": "code",
        "colab": {
          "base_uri": "https://localhost:8080/",
          "height": 534
        },
        "outputId": "4fe87057-f4db-452b-c408-00e60219e347"
      },
      "source": [
        "#Final results comparision\n",
        "\n",
        "sns.barplot(x=\"index\", y=\"accuracy\", hue=\"data_source\", data=results_graph, \n",
        "            palette=\"Paired\", edgecolor=\".6\")"
      ],
      "execution_count": null,
      "outputs": [
        {
          "output_type": "execute_result",
          "data": {
            "text/plain": [
              "<matplotlib.axes._subplots.AxesSubplot at 0x7f0de7b75c50>"
            ]
          },
          "metadata": {
            "tags": []
          },
          "execution_count": 219
        },
        {
          "output_type": "display_data",
          "data": {
            "image/png": "[encoded data removed]",
            "text/plain": [
              "<Figure size 842.4x595.44 with 1 Axes>"
            ]
          },
          "metadata": {
            "tags": []
          }
        }
      ]
    }
  ]
}