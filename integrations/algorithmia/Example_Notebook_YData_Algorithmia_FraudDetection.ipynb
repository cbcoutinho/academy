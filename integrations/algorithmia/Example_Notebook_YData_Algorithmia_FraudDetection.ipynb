{
 "cells": [
  {
   "cell_type": "markdown",
   "metadata": {},
   "source": [
    "# Dealing with massively imbalanced datasets for improved fraud detection in the banking sector."
   ]
  },
  {
   "cell_type": "markdown",
   "metadata": {
    "pycharm": {
     "name": "#%%\n"
    }
   },
   "source": [
    "Use of synthetic data generation to balance highly imbalanced classes, in particular, generation of synthetic fraudulent events.\n",
    "\n",
    "The use of synthetic data for this type of use cases helps to improve the accuracy of fraud detection models in many different areas from the banking industry.\n",
    "\n",
    "\n",
    "### Machine Learning and imbalanced datasets\n",
    "Highly imbalanced datasets are extremely challenging for data teams, and they can be found very often in the industry, wether in topics such as detecting fraudulent events, but also for money laundry and even credit underwriting.\n",
    "\n",
    "The commonnality between each one of these use cases? The fact that only a small portion of the overall transactions represent one particular class, for fraud problems, only a portion of those transactions were, in reality, a fraudulent event."
   ]
  },
  {
   "cell_type": "markdown",
   "metadata": {},
   "source": [
    "## Credit Fraud - a highly imbalanced dataset\n",
    "The dataset in this example use case is from Kaggle - [\"Credit Card Fraud detection\"](https://www.kaggle.com/mlg-ulb/creditcardfraud) dataset, as for demonstration purposes we are only able to use datasets from the public domain.\n",
    "This dataset includes labeled transactions from European credit car holders, and the data provided is a result from a dimensionality reduction, containing 27 continous features and a time column - the number of secons elapsed between the first and the last transaction of the dataset.\n",
    "\n",
    "### The dataset Exploratory data analysis\n",
    "(Include here some input on how highly imbalanced are the datasets)\n",
    "\n",
    "(Include here some metrics and some validations that where done using YData's lib for data analysis)\n"
   ]
  },
  {
   "cell_type": "code",
   "execution_count": 1,
   "metadata": {},
   "outputs": [
    {
     "name": "stdout",
     "output_type": "stream",
     "text": [
      "Collecting package metadata (current_repodata.json): done\n",
      "Solving environment: done\n",
      "\n",
      "## Package Plan ##\n",
      "\n",
      "  environment location: /home/fabiana/miniconda3/envs/algorithmia\n",
      "\n",
      "  added / updated specs:\n",
      "    - matplotlib==3.3.2\n",
      "    - numpy==1.19.2\n",
      "    - pandas==1.0.5\n",
      "    - scikit-learn==0.23.2\n",
      "\n",
      "\n",
      "The following packages will be UPDATED:\n",
      "\n",
      "  ca-certificates    conda-forge::ca-certificates-2020.12.~ --> pkgs/main::ca-certificates-2021.1.19-h06a4308_0\n",
      "\n",
      "The following packages will be SUPERSEDED by a higher-priority channel:\n",
      "\n",
      "  certifi            conda-forge::certifi-2020.12.5-py38h5~ --> pkgs/main::certifi-2020.12.5-py38h06a4308_0\n",
      "  openssl            conda-forge::openssl-1.1.1j-h7f98852_0 --> pkgs/main::openssl-1.1.1j-h27cfd23_0\n",
      "\n",
      "\n",
      "Preparing transaction: done\n",
      "Verifying transaction: done\n",
      "Executing transaction: done\n",
      "Collecting package metadata (current_repodata.json): done\n",
      "Solving environment: done\n",
      "\n",
      "## Package Plan ##\n",
      "\n",
      "  environment location: /home/fabiana/miniconda3/envs/algorithmia\n",
      "\n",
      "  added / updated specs:\n",
      "    - xgboost=1.3\n",
      "\n",
      "\n",
      "The following packages will be UPDATED:\n",
      "\n",
      "  certifi            pkgs/main::certifi-2020.12.5-py38h06a~ --> conda-forge::certifi-2020.12.5-py38h578d9bd_1\n",
      "\n",
      "The following packages will be SUPERSEDED by a higher-priority channel:\n",
      "\n",
      "  ca-certificates    pkgs/main::ca-certificates-2021.1.19-~ --> conda-forge::ca-certificates-2020.12.5-ha878542_0\n",
      "  openssl              pkgs/main::openssl-1.1.1j-h27cfd23_0 --> conda-forge::openssl-1.1.1j-h7f98852_0\n",
      "\n",
      "\n",
      "Preparing transaction: done\n",
      "Verifying transaction: done\n",
      "Executing transaction: done\n",
      "Requirement already satisfied: ydata-synthetic==0.2.* in /home/fabiana/miniconda3/envs/algorithmia/lib/python3.8/site-packages (0.2.0)\n",
      "Requirement already satisfied: tensorflow-privacy==0.5.1 in /home/fabiana/miniconda3/envs/algorithmia/lib/python3.8/site-packages (from ydata-synthetic==0.2.*) (0.5.1)\n",
      "Requirement already satisfied: pmlb==1.0.* in /home/fabiana/miniconda3/envs/algorithmia/lib/python3.8/site-packages (from ydata-synthetic==0.2.*) (1.0.1.post3)\n",
      "Requirement already satisfied: scikit-learn==0.22.* in /home/fabiana/miniconda3/envs/algorithmia/lib/python3.8/site-packages (from ydata-synthetic==0.2.*) (0.22.2.post1)\n",
      "Requirement already satisfied: numpy==1.18.* in /home/fabiana/miniconda3/envs/algorithmia/lib/python3.8/site-packages (from ydata-synthetic==0.2.*) (1.18.5)\n",
      "Requirement already satisfied: matplotlib==3.3.2 in /home/fabiana/miniconda3/envs/algorithmia/lib/python3.8/site-packages (from ydata-synthetic==0.2.*) (3.3.2)\n",
      "Requirement already satisfied: tqdm<5.0 in /home/fabiana/miniconda3/envs/algorithmia/lib/python3.8/site-packages (from ydata-synthetic==0.2.*) (4.59.0)\n",
      "Requirement already satisfied: easydict==1.9 in /home/fabiana/miniconda3/envs/algorithmia/lib/python3.8/site-packages (from ydata-synthetic==0.2.*) (1.9)\n",
      "Requirement already satisfied: seaborn==0.11.* in /home/fabiana/miniconda3/envs/algorithmia/lib/python3.8/site-packages (from ydata-synthetic==0.2.*) (0.11.1)\n",
      "Requirement already satisfied: tensorflow==2.3.* in /home/fabiana/miniconda3/envs/algorithmia/lib/python3.8/site-packages (from ydata-synthetic==0.2.*) (2.3.2)\n",
      "Requirement already satisfied: pandas==1.1.* in /home/fabiana/miniconda3/envs/algorithmia/lib/python3.8/site-packages (from ydata-synthetic==0.2.*) (1.1.5)\n",
      "Requirement already satisfied: cycler>=0.10 in /home/fabiana/miniconda3/envs/algorithmia/lib/python3.8/site-packages (from matplotlib==3.3.2->ydata-synthetic==0.2.*) (0.10.0)\n",
      "Requirement already satisfied: certifi>=2020.06.20 in /home/fabiana/miniconda3/envs/algorithmia/lib/python3.8/site-packages (from matplotlib==3.3.2->ydata-synthetic==0.2.*) (2020.12.5)\n",
      "Requirement already satisfied: pillow>=6.2.0 in /home/fabiana/miniconda3/envs/algorithmia/lib/python3.8/site-packages (from matplotlib==3.3.2->ydata-synthetic==0.2.*) (8.1.1)\n",
      "Requirement already satisfied: python-dateutil>=2.1 in /home/fabiana/miniconda3/envs/algorithmia/lib/python3.8/site-packages (from matplotlib==3.3.2->ydata-synthetic==0.2.*) (2.8.1)\n",
      "Requirement already satisfied: kiwisolver>=1.0.1 in /home/fabiana/miniconda3/envs/algorithmia/lib/python3.8/site-packages (from matplotlib==3.3.2->ydata-synthetic==0.2.*) (1.3.1)\n",
      "Requirement already satisfied: pyparsing!=2.0.4,!=2.1.2,!=2.1.6,>=2.0.3 in /home/fabiana/miniconda3/envs/algorithmia/lib/python3.8/site-packages (from matplotlib==3.3.2->ydata-synthetic==0.2.*) (2.4.7)\n",
      "Requirement already satisfied: pytz>=2017.2 in /home/fabiana/miniconda3/envs/algorithmia/lib/python3.8/site-packages (from pandas==1.1.*->ydata-synthetic==0.2.*) (2021.1)\n",
      "Requirement already satisfied: pyyaml>=5.3.1 in /home/fabiana/miniconda3/envs/algorithmia/lib/python3.8/site-packages (from pmlb==1.0.*->ydata-synthetic==0.2.*) (5.4.1)\n",
      "Requirement already satisfied: requests>=2.24.0 in /home/fabiana/miniconda3/envs/algorithmia/lib/python3.8/site-packages (from pmlb==1.0.*->ydata-synthetic==0.2.*) (2.25.1)\n",
      "Requirement already satisfied: joblib>=0.11 in /home/fabiana/miniconda3/envs/algorithmia/lib/python3.8/site-packages (from scikit-learn==0.22.*->ydata-synthetic==0.2.*) (1.0.1)\n",
      "Requirement already satisfied: scipy>=0.17.0 in /home/fabiana/miniconda3/envs/algorithmia/lib/python3.8/site-packages (from scikit-learn==0.22.*->ydata-synthetic==0.2.*) (1.6.1)\n",
      "Requirement already satisfied: h5py<2.11.0,>=2.10.0 in /home/fabiana/miniconda3/envs/algorithmia/lib/python3.8/site-packages (from tensorflow==2.3.*->ydata-synthetic==0.2.*) (2.10.0)\n",
      "Requirement already satisfied: absl-py>=0.7.0 in /home/fabiana/miniconda3/envs/algorithmia/lib/python3.8/site-packages (from tensorflow==2.3.*->ydata-synthetic==0.2.*) (0.11.0)\n",
      "Requirement already satisfied: protobuf>=3.9.2 in /home/fabiana/miniconda3/envs/algorithmia/lib/python3.8/site-packages (from tensorflow==2.3.*->ydata-synthetic==0.2.*) (3.15.5)\n",
      "Requirement already satisfied: opt-einsum>=2.3.2 in /home/fabiana/miniconda3/envs/algorithmia/lib/python3.8/site-packages (from tensorflow==2.3.*->ydata-synthetic==0.2.*) (3.3.0)\n",
      "Requirement already satisfied: keras-preprocessing<1.2,>=1.1.1 in /home/fabiana/miniconda3/envs/algorithmia/lib/python3.8/site-packages (from tensorflow==2.3.*->ydata-synthetic==0.2.*) (1.1.2)\n",
      "Requirement already satisfied: wrapt>=1.11.1 in /home/fabiana/miniconda3/envs/algorithmia/lib/python3.8/site-packages (from tensorflow==2.3.*->ydata-synthetic==0.2.*) (1.12.1)\n",
      "Requirement already satisfied: tensorboard<3,>=2.3.0 in /home/fabiana/miniconda3/envs/algorithmia/lib/python3.8/site-packages (from tensorflow==2.3.*->ydata-synthetic==0.2.*) (2.4.1)\n",
      "Requirement already satisfied: gast==0.3.3 in /home/fabiana/miniconda3/envs/algorithmia/lib/python3.8/site-packages (from tensorflow==2.3.*->ydata-synthetic==0.2.*) (0.3.3)\n",
      "Requirement already satisfied: astunparse==1.6.3 in /home/fabiana/miniconda3/envs/algorithmia/lib/python3.8/site-packages (from tensorflow==2.3.*->ydata-synthetic==0.2.*) (1.6.3)\n",
      "Requirement already satisfied: wheel>=0.26 in /home/fabiana/miniconda3/envs/algorithmia/lib/python3.8/site-packages (from tensorflow==2.3.*->ydata-synthetic==0.2.*) (0.36.2)\n",
      "Requirement already satisfied: google-pasta>=0.1.8 in /home/fabiana/miniconda3/envs/algorithmia/lib/python3.8/site-packages (from tensorflow==2.3.*->ydata-synthetic==0.2.*) (0.2.0)\n",
      "Requirement already satisfied: tensorflow-estimator<2.4.0,>=2.3.0 in /home/fabiana/miniconda3/envs/algorithmia/lib/python3.8/site-packages (from tensorflow==2.3.*->ydata-synthetic==0.2.*) (2.3.0)\n",
      "Requirement already satisfied: six>=1.12.0 in /home/fabiana/miniconda3/envs/algorithmia/lib/python3.8/site-packages (from tensorflow==2.3.*->ydata-synthetic==0.2.*) (1.15.0)\n",
      "Requirement already satisfied: grpcio>=1.8.6 in /home/fabiana/miniconda3/envs/algorithmia/lib/python3.8/site-packages (from tensorflow==2.3.*->ydata-synthetic==0.2.*) (1.36.1)\n",
      "Requirement already satisfied: termcolor>=1.1.0 in /home/fabiana/miniconda3/envs/algorithmia/lib/python3.8/site-packages (from tensorflow==2.3.*->ydata-synthetic==0.2.*) (1.1.0)\n",
      "Requirement already satisfied: dm-tree~=0.1.1 in /home/fabiana/miniconda3/envs/algorithmia/lib/python3.8/site-packages (from tensorflow-privacy==0.5.1->ydata-synthetic==0.2.*) (0.1.5)\n",
      "Requirement already satisfied: mpmath in /home/fabiana/miniconda3/envs/algorithmia/lib/python3.8/site-packages (from tensorflow-privacy==0.5.1->ydata-synthetic==0.2.*) (1.2.1)\n",
      "Requirement already satisfied: chardet<5,>=3.0.2 in /home/fabiana/miniconda3/envs/algorithmia/lib/python3.8/site-packages (from requests>=2.24.0->pmlb==1.0.*->ydata-synthetic==0.2.*) (4.0.0)\n",
      "Requirement already satisfied: urllib3<1.27,>=1.21.1 in /home/fabiana/miniconda3/envs/algorithmia/lib/python3.8/site-packages (from requests>=2.24.0->pmlb==1.0.*->ydata-synthetic==0.2.*) (1.26.3)\n",
      "Requirement already satisfied: idna<3,>=2.5 in /home/fabiana/miniconda3/envs/algorithmia/lib/python3.8/site-packages (from requests>=2.24.0->pmlb==1.0.*->ydata-synthetic==0.2.*) (2.10)\n",
      "Requirement already satisfied: google-auth<2,>=1.6.3 in /home/fabiana/miniconda3/envs/algorithmia/lib/python3.8/site-packages (from tensorboard<3,>=2.3.0->tensorflow==2.3.*->ydata-synthetic==0.2.*) (1.27.1)\n",
      "Requirement already satisfied: setuptools>=41.0.0 in /home/fabiana/miniconda3/envs/algorithmia/lib/python3.8/site-packages (from tensorboard<3,>=2.3.0->tensorflow==2.3.*->ydata-synthetic==0.2.*) (52.0.0.post20210125)\n",
      "Requirement already satisfied: tensorboard-plugin-wit>=1.6.0 in /home/fabiana/miniconda3/envs/algorithmia/lib/python3.8/site-packages (from tensorboard<3,>=2.3.0->tensorflow==2.3.*->ydata-synthetic==0.2.*) (1.8.0)\n",
      "Requirement already satisfied: google-auth-oauthlib<0.5,>=0.4.1 in /home/fabiana/miniconda3/envs/algorithmia/lib/python3.8/site-packages (from tensorboard<3,>=2.3.0->tensorflow==2.3.*->ydata-synthetic==0.2.*) (0.4.3)\n",
      "Requirement already satisfied: markdown>=2.6.8 in /home/fabiana/miniconda3/envs/algorithmia/lib/python3.8/site-packages (from tensorboard<3,>=2.3.0->tensorflow==2.3.*->ydata-synthetic==0.2.*) (3.3.4)\n",
      "Requirement already satisfied: werkzeug>=0.11.15 in /home/fabiana/miniconda3/envs/algorithmia/lib/python3.8/site-packages (from tensorboard<3,>=2.3.0->tensorflow==2.3.*->ydata-synthetic==0.2.*) (1.0.1)\n",
      "Requirement already satisfied: cachetools<5.0,>=2.0.0 in /home/fabiana/miniconda3/envs/algorithmia/lib/python3.8/site-packages (from google-auth<2,>=1.6.3->tensorboard<3,>=2.3.0->tensorflow==2.3.*->ydata-synthetic==0.2.*) (4.2.1)\n",
      "Requirement already satisfied: pyasn1-modules>=0.2.1 in /home/fabiana/miniconda3/envs/algorithmia/lib/python3.8/site-packages (from google-auth<2,>=1.6.3->tensorboard<3,>=2.3.0->tensorflow==2.3.*->ydata-synthetic==0.2.*) (0.2.8)\n",
      "Requirement already satisfied: rsa<5,>=3.1.4 in /home/fabiana/miniconda3/envs/algorithmia/lib/python3.8/site-packages (from google-auth<2,>=1.6.3->tensorboard<3,>=2.3.0->tensorflow==2.3.*->ydata-synthetic==0.2.*) (4.7.2)\n",
      "Requirement already satisfied: requests-oauthlib>=0.7.0 in /home/fabiana/miniconda3/envs/algorithmia/lib/python3.8/site-packages (from google-auth-oauthlib<0.5,>=0.4.1->tensorboard<3,>=2.3.0->tensorflow==2.3.*->ydata-synthetic==0.2.*) (1.3.0)\n",
      "Requirement already satisfied: pyasn1<0.5.0,>=0.4.6 in /home/fabiana/miniconda3/envs/algorithmia/lib/python3.8/site-packages (from pyasn1-modules>=0.2.1->google-auth<2,>=1.6.3->tensorboard<3,>=2.3.0->tensorflow==2.3.*->ydata-synthetic==0.2.*) (0.4.8)\n",
      "Requirement already satisfied: oauthlib>=3.0.0 in /home/fabiana/miniconda3/envs/algorithmia/lib/python3.8/site-packages (from requests-oauthlib>=0.7.0->google-auth-oauthlib<0.5,>=0.4.1->tensorboard<3,>=2.3.0->tensorflow==2.3.*->ydata-synthetic==0.2.*) (3.1.0)\n"
     ]
    }
   ],
   "source": [
    "!conda install -y scikit-learn==0.23.2 pandas==1.0.5 matplotlib==3.3.2 numpy==1.19.2\n",
    "!conda install -c conda-forge -y xgboost==1.3.*\n",
    "!pip install ydata-synthetic==0.2.*"
   ]
  },
  {
   "cell_type": "code",
   "execution_count": 2,
   "metadata": {},
   "outputs": [],
   "source": [
    "#Download the data from kaggle and read it using pandas\n",
    "from datetime import datetime\n",
    "import json\n",
    "import pandas as pd\n",
    "import numpy as np\n",
    "import matplotlib.pyplot as plt\n",
    "from sklearn.model_selection import train_test_split"
   ]
  },
  {
   "cell_type": "code",
   "execution_count": 3,
   "metadata": {},
   "outputs": [],
   "source": [
    "#Get the credit fraud dataset\n",
    "credit = pd.read_csv(\"./creditcard.csv\")"
   ]
  },
  {
   "cell_type": "code",
   "execution_count": 4,
   "metadata": {},
   "outputs": [
    {
     "data": {
      "text/html": [
       "<div>\n",
       "<style scoped>\n",
       "    .dataframe tbody tr th:only-of-type {\n",
       "        vertical-align: middle;\n",
       "    }\n",
       "\n",
       "    .dataframe tbody tr th {\n",
       "        vertical-align: top;\n",
       "    }\n",
       "\n",
       "    .dataframe thead th {\n",
       "        text-align: right;\n",
       "    }\n",
       "</style>\n",
       "<table border=\"1\" class=\"dataframe\">\n",
       "  <thead>\n",
       "    <tr style=\"text-align: right;\">\n",
       "      <th></th>\n",
       "      <th>Time</th>\n",
       "      <th>V1</th>\n",
       "      <th>V2</th>\n",
       "      <th>V3</th>\n",
       "      <th>V4</th>\n",
       "      <th>V5</th>\n",
       "      <th>V6</th>\n",
       "      <th>V7</th>\n",
       "      <th>V8</th>\n",
       "      <th>V9</th>\n",
       "      <th>...</th>\n",
       "      <th>V21</th>\n",
       "      <th>V22</th>\n",
       "      <th>V23</th>\n",
       "      <th>V24</th>\n",
       "      <th>V25</th>\n",
       "      <th>V26</th>\n",
       "      <th>V27</th>\n",
       "      <th>V28</th>\n",
       "      <th>Amount</th>\n",
       "      <th>Class</th>\n",
       "    </tr>\n",
       "  </thead>\n",
       "  <tbody>\n",
       "    <tr>\n",
       "      <th>0</th>\n",
       "      <td>0.0</td>\n",
       "      <td>-1.359807</td>\n",
       "      <td>-0.072781</td>\n",
       "      <td>2.536347</td>\n",
       "      <td>1.378155</td>\n",
       "      <td>-0.338321</td>\n",
       "      <td>0.462388</td>\n",
       "      <td>0.239599</td>\n",
       "      <td>0.098698</td>\n",
       "      <td>0.363787</td>\n",
       "      <td>...</td>\n",
       "      <td>-0.018307</td>\n",
       "      <td>0.277838</td>\n",
       "      <td>-0.110474</td>\n",
       "      <td>0.066928</td>\n",
       "      <td>0.128539</td>\n",
       "      <td>-0.189115</td>\n",
       "      <td>0.133558</td>\n",
       "      <td>-0.021053</td>\n",
       "      <td>149.62</td>\n",
       "      <td>0</td>\n",
       "    </tr>\n",
       "    <tr>\n",
       "      <th>1</th>\n",
       "      <td>0.0</td>\n",
       "      <td>1.191857</td>\n",
       "      <td>0.266151</td>\n",
       "      <td>0.166480</td>\n",
       "      <td>0.448154</td>\n",
       "      <td>0.060018</td>\n",
       "      <td>-0.082361</td>\n",
       "      <td>-0.078803</td>\n",
       "      <td>0.085102</td>\n",
       "      <td>-0.255425</td>\n",
       "      <td>...</td>\n",
       "      <td>-0.225775</td>\n",
       "      <td>-0.638672</td>\n",
       "      <td>0.101288</td>\n",
       "      <td>-0.339846</td>\n",
       "      <td>0.167170</td>\n",
       "      <td>0.125895</td>\n",
       "      <td>-0.008983</td>\n",
       "      <td>0.014724</td>\n",
       "      <td>2.69</td>\n",
       "      <td>0</td>\n",
       "    </tr>\n",
       "    <tr>\n",
       "      <th>2</th>\n",
       "      <td>1.0</td>\n",
       "      <td>-1.358354</td>\n",
       "      <td>-1.340163</td>\n",
       "      <td>1.773209</td>\n",
       "      <td>0.379780</td>\n",
       "      <td>-0.503198</td>\n",
       "      <td>1.800499</td>\n",
       "      <td>0.791461</td>\n",
       "      <td>0.247676</td>\n",
       "      <td>-1.514654</td>\n",
       "      <td>...</td>\n",
       "      <td>0.247998</td>\n",
       "      <td>0.771679</td>\n",
       "      <td>0.909412</td>\n",
       "      <td>-0.689281</td>\n",
       "      <td>-0.327642</td>\n",
       "      <td>-0.139097</td>\n",
       "      <td>-0.055353</td>\n",
       "      <td>-0.059752</td>\n",
       "      <td>378.66</td>\n",
       "      <td>0</td>\n",
       "    </tr>\n",
       "    <tr>\n",
       "      <th>3</th>\n",
       "      <td>1.0</td>\n",
       "      <td>-0.966272</td>\n",
       "      <td>-0.185226</td>\n",
       "      <td>1.792993</td>\n",
       "      <td>-0.863291</td>\n",
       "      <td>-0.010309</td>\n",
       "      <td>1.247203</td>\n",
       "      <td>0.237609</td>\n",
       "      <td>0.377436</td>\n",
       "      <td>-1.387024</td>\n",
       "      <td>...</td>\n",
       "      <td>-0.108300</td>\n",
       "      <td>0.005274</td>\n",
       "      <td>-0.190321</td>\n",
       "      <td>-1.175575</td>\n",
       "      <td>0.647376</td>\n",
       "      <td>-0.221929</td>\n",
       "      <td>0.062723</td>\n",
       "      <td>0.061458</td>\n",
       "      <td>123.50</td>\n",
       "      <td>0</td>\n",
       "    </tr>\n",
       "    <tr>\n",
       "      <th>4</th>\n",
       "      <td>2.0</td>\n",
       "      <td>-1.158233</td>\n",
       "      <td>0.877737</td>\n",
       "      <td>1.548718</td>\n",
       "      <td>0.403034</td>\n",
       "      <td>-0.407193</td>\n",
       "      <td>0.095921</td>\n",
       "      <td>0.592941</td>\n",
       "      <td>-0.270533</td>\n",
       "      <td>0.817739</td>\n",
       "      <td>...</td>\n",
       "      <td>-0.009431</td>\n",
       "      <td>0.798278</td>\n",
       "      <td>-0.137458</td>\n",
       "      <td>0.141267</td>\n",
       "      <td>-0.206010</td>\n",
       "      <td>0.502292</td>\n",
       "      <td>0.219422</td>\n",
       "      <td>0.215153</td>\n",
       "      <td>69.99</td>\n",
       "      <td>0</td>\n",
       "    </tr>\n",
       "  </tbody>\n",
       "</table>\n",
       "<p>5 rows × 31 columns</p>\n",
       "</div>"
      ],
      "text/plain": [
       "   Time        V1        V2        V3        V4        V5        V6        V7  \\\n",
       "0   0.0 -1.359807 -0.072781  2.536347  1.378155 -0.338321  0.462388  0.239599   \n",
       "1   0.0  1.191857  0.266151  0.166480  0.448154  0.060018 -0.082361 -0.078803   \n",
       "2   1.0 -1.358354 -1.340163  1.773209  0.379780 -0.503198  1.800499  0.791461   \n",
       "3   1.0 -0.966272 -0.185226  1.792993 -0.863291 -0.010309  1.247203  0.237609   \n",
       "4   2.0 -1.158233  0.877737  1.548718  0.403034 -0.407193  0.095921  0.592941   \n",
       "\n",
       "         V8        V9  ...       V21       V22       V23       V24       V25  \\\n",
       "0  0.098698  0.363787  ... -0.018307  0.277838 -0.110474  0.066928  0.128539   \n",
       "1  0.085102 -0.255425  ... -0.225775 -0.638672  0.101288 -0.339846  0.167170   \n",
       "2  0.247676 -1.514654  ...  0.247998  0.771679  0.909412 -0.689281 -0.327642   \n",
       "3  0.377436 -1.387024  ... -0.108300  0.005274 -0.190321 -1.175575  0.647376   \n",
       "4 -0.270533  0.817739  ... -0.009431  0.798278 -0.137458  0.141267 -0.206010   \n",
       "\n",
       "        V26       V27       V28  Amount  Class  \n",
       "0 -0.189115  0.133558 -0.021053  149.62      0  \n",
       "1  0.125895 -0.008983  0.014724    2.69      0  \n",
       "2 -0.139097 -0.055353 -0.059752  378.66      0  \n",
       "3 -0.221929  0.062723  0.061458  123.50      0  \n",
       "4  0.502292  0.219422  0.215153   69.99      0  \n",
       "\n",
       "[5 rows x 31 columns]"
      ]
     },
     "execution_count": 4,
     "metadata": {},
     "output_type": "execute_result"
    }
   ],
   "source": [
    "credit.head()"
   ]
  },
  {
   "cell_type": "markdown",
   "metadata": {},
   "source": [
    "This dataset is highly imbalanced. Let's check the behaviour of the imbalanced classes."
   ]
  },
  {
   "cell_type": "code",
   "execution_count": 5,
   "metadata": {},
   "outputs": [
    {
     "data": {
      "image/png": "[encoded data removed]",
      "text/plain": [
       "<Figure size 1440x720 with 1 Axes>"
      ]
     },
     "metadata": {
      "needs_background": "light"
     },
     "output_type": "display_data"
    }
   ],
   "source": [
    "fig, ax = plt.subplots(figsize=(20,10))\n",
    "\n",
    "#Remove the frame around\n",
    "#Have this as an auxiliary function\n",
    "for spine in plt.gca().spines.values():\n",
    "    spine.set_visible(False)\n",
    "plt.bar([0, 1], pd.value_counts(credit['Class'].values, sort=True), alpha=0.5, color=['#7A7A7A','#E32212'])\n",
    "plt.title('High imbalanced transactions', fontsize=30, pad=10)\n",
    "plt.annotate('Fraudulent transactions', (0.82, 50000), fontsize=20, color='red')\n",
    "plt.annotate('Regular transactions', (-0.2, 50000), fontsize=20, color='black')\n",
    "ax.yaxis.set_tick_params(labelsize=15)\n",
    "ax.xaxis.set_ticks([0,1])\n",
    "ax.tick_params(axis='x', which='major', pad=15)\n",
    "ax.xaxis.set_tick_params(labelsize=25)"
   ]
  },
  {
   "cell_type": "code",
   "execution_count": 6,
   "metadata": {},
   "outputs": [
    {
     "data": {
      "text/plain": [
       "Text(0.5, 1.0, 'Scatter plot for V2 and V4 eigenvectors')"
      ]
     },
     "execution_count": 6,
     "metadata": {},
     "output_type": "execute_result"
    },
    {
     "data": {
      "image/png": "[encoded data removed]",
      "text/plain": [
       "<Figure size 1440x720 with 1 Axes>"
      ]
     },
     "metadata": {
      "needs_background": "light"
     },
     "output_type": "display_data"
    }
   ],
   "source": [
    "#Scatter plot with Class colouring the different elements from the plot\n",
    "#As this dataset is the result of a PCA we will be using 2 eigen vectors for the plot\n",
    "import matplotlib as m\n",
    "import numpy as np\n",
    "\n",
    "cmap = m.cm.jet(np.linspace(0,1,26))\n",
    "cmap = m.colors.ListedColormap(cmap[21:,:-1])\n",
    "\n",
    "fig, ax = plt.subplots(figsize=(20,10))\n",
    "\n",
    "for spine in plt.gca().spines.values():\n",
    "    spine.set_visible(False)\n",
    "\n",
    "plt.scatter(credit['V2'],credit['V4'], alpha=0.7, c=credit['Class'],cmap=cmap)\n",
    "plt.axis('off')\n",
    "plt.title('Scatter plot for V2 and V4 eigenvectors', fontsize=30, pad=10)"
   ]
  },
  {
   "cell_type": "markdown",
   "metadata": {},
   "source": [
    "Splitting the dataset in train and test sets. The test set will be used again at the end of our iteration"
   ]
  },
  {
   "cell_type": "code",
   "execution_count": 7,
   "metadata": {},
   "outputs": [
    {
     "name": "stdout",
     "output_type": "stream",
     "text": [
      "Number transactions train dataset:  199364\n",
      "Number transactions test dataset:  85443\n",
      "Total number of transactions:  284807\n"
     ]
    }
   ],
   "source": [
    "X = credit.drop('Class', axis=1)\n",
    "cols = X.columns\n",
    "X = X.values\n",
    "y = credit['Class']\n",
    "\n",
    "X_train, X_test, y_train, y_test = train_test_split(X,y,test_size = 0.3, random_state = 0)\n",
    "\n",
    "print(\"Number transactions train dataset: \", len(X_train))\n",
    "print(\"Number transactions test dataset: \", len(X_test))\n",
    "print(\"Total number of transactions: \", len(X_train)+len(X_test))"
   ]
  },
  {
   "cell_type": "code",
   "execution_count": 8,
   "metadata": {},
   "outputs": [
    {
     "name": "stdout",
     "output_type": "stream",
     "text": [
      "Ratio between fraud and normal events for the \u001b[1mfull\u001b[0m  dataset: 0.0017%\n",
      "Ratio between fraud and normal events for the \u001b[1mtrain\u001b[0m dataset: 0.0017%\n",
      "Ratio between fraud and normal events for the \u001b[1mtest\u001b[0m dataset: 0.0017%\n"
     ]
    }
   ],
   "source": [
    "count_original = np.unique(y, return_counts=True)\n",
    "count_train = np.unique(y_train, return_counts=True)\n",
    "count_test = np.unique(y_test, return_counts=True)\n",
    "\n",
    "print(\"Ratio between fraud and normal events for the \\033[1mfull\\033[0m  dataset:\"+ \" {:.2}%\".format(count_train[1][1]/count_train[1][0]))\n",
    "print(\"Ratio between fraud and normal events for the \\033[1mtrain\\033[0m dataset:\"+ \" {:.2}%\".format(count_train[1][1]/count_train[1][0]))\n",
    "print(\"Ratio between fraud and normal events for the \\033[1mtest\\033[0m dataset:\"+\" {:.2}%\".format(count_test[1][1]/count_test[1][0]))"
   ]
  },
  {
   "cell_type": "markdown",
   "metadata": {},
   "source": [
    "### The first model\n",
    "Let's try to develop a model based on the assumption that everything is ok with our dataset, and understand how good is our classifier to indetify fraudulent events.\n",
    "Here we've decided to develop a classifier using [RandomForest from the scikit-learn](https://scikit-learn.org/stable/modules/generated/sklearn.ensemble.RandomForestClassifier.html) package."
   ]
  },
  {
   "cell_type": "code",
   "execution_count": 9,
   "metadata": {},
   "outputs": [],
   "source": [
    "X_train = pd.DataFrame(X_train, columns=cols)\n",
    "X_test = pd.DataFrame(X_test, columns=cols)"
   ]
  },
  {
   "cell_type": "code",
   "execution_count": 10,
   "metadata": {},
   "outputs": [],
   "source": [
    "#Data scaling and preprocessing before training the model\n",
    "from sklearn.preprocessing import RobustScaler, StandardScaler\n",
    "\n",
    "def preprocess_df(df, std_scaler, rob_scaler):\n",
    "    df['Amount'] = std_scaler.fit_transform(df['Amount'].values.reshape(-1,1))\n",
    "    df['Time'] = rob_scaler.fit_transform(df['Time'].values.reshape(-1,1))\n",
    "    return df"
   ]
  },
  {
   "cell_type": "code",
   "execution_count": 11,
   "metadata": {},
   "outputs": [],
   "source": [
    "stdscaler = StandardScaler()\n",
    "robscaler = RobustScaler()\n",
    "\n",
    "X_train = preprocess_df(X_train, stdscaler, robscaler)"
   ]
  },
  {
   "cell_type": "code",
   "execution_count": 12,
   "metadata": {},
   "outputs": [],
   "source": [
    "#Apply the same trasnformation to the test dataset\n",
    "X_test = preprocess_df(X_test, stdscaler, robscaler)"
   ]
  },
  {
   "cell_type": "code",
   "execution_count": 13,
   "metadata": {},
   "outputs": [
    {
     "name": "stdout",
     "output_type": "stream",
     "text": [
      "Start fitting XGBoost classifier\n"
     ]
    },
    {
     "name": "stderr",
     "output_type": "stream",
     "text": [
      "/home/fabiana/miniconda3/envs/algorithmia/lib/python3.8/site-packages/xgboost/sklearn.py:888: UserWarning: The use of label encoder in XGBClassifier is deprecated and will be removed in a future release. To remove this warning, do the following: 1) Pass option use_label_encoder=False when constructing XGBClassifier object; and 2) Encode your labels (y) as integers starting with 0, i.e. 0, 1, 2, ..., [num_class - 1].\n",
      "  warnings.warn(label_encoder_deprecation_msg, UserWarning)\n"
     ]
    },
    {
     "name": "stdout",
     "output_type": "stream",
     "text": [
      "[19:44:37] WARNING: /home/conda/feedstock_root/build_artifacts/xgboost-split_1614844506100/work/src/learner.cc:1061: Starting in XGBoost 1.3.0, the default evaluation metric used with the objective 'binary:logistic' was changed from 'error' to 'logloss'. Explicitly set eval_metric if you'd like to restore the old behavior.\n",
      "Classifier trained.\n"
     ]
    }
   ],
   "source": [
    "#Using XGBOOST model to train the model\n",
    "from sklearn.metrics import accuracy_score\n",
    "from xgboost import XGBClassifier\n",
    "\n",
    "\n",
    "def XGBoost_Classifier(X, y, Xtest):\n",
    "    \"\"\"XGBoost training code\"\"\"\n",
    "    classifier = XGBClassifier()\n",
    "    print('Start fitting XGBoost classifier')\n",
    "    classifier.fit(X, y)\n",
    "    y_pred = classifier.predict(Xtest)\n",
    "    print('Classifier trained.')\n",
    "    return classifier, y_pred\n",
    "\n",
    "classifier_model, y_pred = XGBoost_Classifier(X_train, y_train, X_test)"
   ]
  },
  {
   "cell_type": "code",
   "execution_count": 14,
   "metadata": {},
   "outputs": [
    {
     "name": "stdout",
     "output_type": "stream",
     "text": [
      "Overall accuracy score : 0.9995318516437859\n",
      "Classifier performance report: \n",
      "              precision    recall  f1-score   support\n",
      "\n",
      "      Normal       1.00      1.00      1.00     85296\n",
      "       Fraud       0.96      0.76      0.85       147\n",
      "\n",
      "    accuracy                           1.00     85443\n",
      "   macro avg       0.98      0.88      0.92     85443\n",
      "weighted avg       1.00      1.00      1.00     85443\n",
      "\n"
     ]
    }
   ],
   "source": [
    "from sklearn.metrics import accuracy_score\n",
    "from sklearn.metrics import classification_report\n",
    "\n",
    "# Print precision / recall report\n",
    "print('Overall accuracy score :',accuracy_score(y_test, y_pred))\n",
    "print('Classifier performance report: ')\n",
    "print(classification_report(y_test, y_pred, target_names=['Normal', 'Fraud']))"
   ]
  },
  {
   "cell_type": "code",
   "execution_count": 15,
   "metadata": {},
   "outputs": [
    {
     "data": {
      "image/png": "[encoded data removed]",
      "text/plain": [
       "<Figure size 1440x576 with 4 Axes>"
      ]
     },
     "metadata": {
      "needs_background": "light"
     },
     "output_type": "display_data"
    }
   ],
   "source": [
    "#Now let's check the real metrics for this classifier\n",
    "from sklearn.metrics import plot_confusion_matrix\n",
    "\n",
    "\n",
    "def print_confusion_matrix(model, X_test, y_test):\n",
    "    \"\"\" Plot normalized and non-normalized confusion matrices \"\"\"\n",
    "    titles_options = [(\"Confusion matrix, without normalization\", None),\n",
    "                      (\"Normalized confusion matrix\", 'true')]\n",
    "\n",
    "    fig, axes = plt.subplots(1,2,figsize=(20,8))\n",
    "    for (title, normalize), ax in zip(titles_options, axes):\n",
    "\n",
    "        disp = plot_confusion_matrix(model, X_test, y_test,\n",
    "                                     display_labels=[\"Normal\", \"Fraud\"],\n",
    "                                     cmap=plt.cm.OrRd,\n",
    "                                     normalize=normalize,\n",
    "                                     ax=ax)\n",
    "\n",
    "        ax.set_title(title, fontsize=20, pad=10)\n",
    "\n",
    "print_confusion_matrix(classifier_model, X_test, y_test)"
   ]
  },
  {
   "cell_type": "markdown",
   "metadata": {},
   "source": [
    "## Synthetic data to improve the detection of fraud\n",
    "\n",
    "### Synthetic data with YData-synthetic open-source package\n",
    "\n",
    "In this case the objective is to synthesize only the fraudulent events. Through the augmentation of fraudulent events we are able to improve the results the results of our classifier."
   ]
  },
  {
   "cell_type": "code",
   "execution_count": 16,
   "metadata": {},
   "outputs": [],
   "source": [
    "#Let's filter by fraudulent events only\n",
    "aux = X_train.copy()\n",
    "aux['y'] = y_train.reset_index()['Class']\n",
    "\n",
    "non_fraud = aux[aux['y'] == 0]\n",
    "fraud = aux[aux['y']==1]\n",
    "\n",
    "del aux"
   ]
  },
  {
   "cell_type": "code",
   "execution_count": 31,
   "metadata": {},
   "outputs": [
    {
     "name": "stderr",
     "output_type": "stream",
     "text": [
      "  3%|▎         | 13/501 [00:01<00:28, 17.08it/s]"
     ]
    },
    {
     "name": "stdout",
     "output_type": "stream",
     "text": [
      "Iteration: 0 | disc_loss: 10.369050979614258 | gen_loss: -0.03196945786476135\n",
      "Iteration: 1 | disc_loss: 5.569023132324219 | gen_loss: -0.03458859771490097\n",
      "Iteration: 2 | disc_loss: 3.180042028427124 | gen_loss: -0.03419188782572746\n",
      "Iteration: 3 | disc_loss: 1.6898927688598633 | gen_loss: -0.03330139443278313\n",
      "Iteration: 4 | disc_loss: 1.3075814247131348 | gen_loss: -0.03038720041513443\n",
      "Iteration: 5 | disc_loss: 0.7843482494354248 | gen_loss: -0.037584587931632996\n",
      "Iteration: 6 | disc_loss: 0.27167510986328125 | gen_loss: -0.03936304152011871\n",
      "Iteration: 7 | disc_loss: -0.17942476272583008 | gen_loss: -0.03987143933773041\n",
      "Iteration: 8 | disc_loss: -0.4317728281021118 | gen_loss: -0.03990338370203972\n",
      "Iteration: 9 | disc_loss: -0.6377439498901367 | gen_loss: -0.043494682759046555\n",
      "Iteration: 10 | disc_loss: -0.7061970233917236 | gen_loss: -0.04494728893041611\n",
      "Iteration: 11 | disc_loss: -0.8525708913803101 | gen_loss: -0.04361160099506378\n",
      "Iteration: 12 | disc_loss: -0.9977356195449829 | gen_loss: -0.04357676953077316\n",
      "Iteration: 13 | disc_loss: -1.1277267932891846 | gen_loss: -0.03926843777298927\n",
      "Iteration: 14 | disc_loss: -1.2726047039031982 | gen_loss: -0.045066121965646744\n",
      "Iteration: 15 | disc_loss: -1.4256857633590698 | gen_loss: -0.04579663276672363\n",
      "Iteration: 16 | disc_loss: -1.497812032699585 | gen_loss: -0.04695844277739525\n",
      "Iteration: 17 | disc_loss: -1.5834157466888428 | gen_loss: -0.053108491003513336\n",
      "Iteration: 18 | disc_loss: -1.711840033531189 | gen_loss: -0.056961506605148315\n",
      "Iteration: 19 | disc_loss: -1.5590415000915527 | gen_loss: -0.047508444637060165\n",
      "Iteration: 20 | disc_loss: -1.7056589126586914 | gen_loss: -0.057729147374629974\n",
      "Iteration: 21 | disc_loss: -1.8402314186096191 | gen_loss: -0.06382967531681061\n"
     ]
    },
    {
     "name": "stderr",
     "output_type": "stream",
     "text": [
      "  7%|▋         | 37/501 [00:01<00:09, 48.75it/s]"
     ]
    },
    {
     "name": "stdout",
     "output_type": "stream",
     "text": [
      "Iteration: 22 | disc_loss: -1.8175196647644043 | gen_loss: -0.06678204983472824\n",
      "Iteration: 23 | disc_loss: -1.8720860481262207 | gen_loss: -0.06803140044212341\n",
      "Iteration: 24 | disc_loss: -1.9078335762023926 | gen_loss: -0.07440788298845291\n",
      "Iteration: 25 | disc_loss: -1.9574573040008545 | gen_loss: -0.07395334541797638\n",
      "Iteration: 26 | disc_loss: -2.0385217666625977 | gen_loss: -0.08427407592535019\n",
      "Iteration: 27 | disc_loss: -2.0405900478363037 | gen_loss: -0.08282841742038727\n",
      "Iteration: 28 | disc_loss: -2.103461503982544 | gen_loss: -0.09396461397409439\n",
      "Iteration: 29 | disc_loss: -2.1143991947174072 | gen_loss: -0.09530354291200638\n",
      "Iteration: 30 | disc_loss: -2.1205801963806152 | gen_loss: -0.10454357415437698\n",
      "Iteration: 31 | disc_loss: -2.198141574859619 | gen_loss: -0.113043874502182\n",
      "Iteration: 32 | disc_loss: -2.2592501640319824 | gen_loss: -0.12520484626293182\n",
      "Iteration: 33 | disc_loss: -2.2512855529785156 | gen_loss: -0.11779147386550903\n",
      "Iteration: 34 | disc_loss: -2.3192195892333984 | gen_loss: -0.1410713791847229\n",
      "Iteration: 35 | disc_loss: -2.36710262298584 | gen_loss: -0.15390130877494812\n",
      "Iteration: 36 | disc_loss: -2.298987627029419 | gen_loss: -0.15360403060913086\n",
      "Iteration: 37 | disc_loss: -2.307203769683838 | gen_loss: -0.1578799933195114\n",
      "Iteration: 38 | disc_loss: -2.2631616592407227 | gen_loss: -0.15830373764038086\n",
      "Iteration: 39 | disc_loss: -2.2598421573638916 | gen_loss: -0.19210056960582733\n",
      "Iteration: 40 | disc_loss: -2.307274580001831 | gen_loss: -0.18964919447898865\n",
      "Iteration: 41 | disc_loss: -2.2862496376037598 | gen_loss: -0.19151395559310913\n",
      "Iteration: 42 | disc_loss: -2.295722007751465 | gen_loss: -0.2037789225578308\n",
      "Iteration: 43 | disc_loss: -2.322967052459717 | gen_loss: -0.20581142604351044\n",
      "Iteration: 44 | disc_loss: -2.3266682624816895 | gen_loss: -0.22543750703334808\n"
     ]
    },
    {
     "name": "stderr",
     "output_type": "stream",
     "text": [
      " 12%|█▏        | 59/501 [00:01<00:06, 70.93it/s]"
     ]
    },
    {
     "name": "stdout",
     "output_type": "stream",
     "text": [
      "Iteration: 45 | disc_loss: -2.3192849159240723 | gen_loss: -0.23162220418453217\n",
      "Iteration: 46 | disc_loss: -2.32235050201416 | gen_loss: -0.22883369028568268\n",
      "Iteration: 47 | disc_loss: -2.2899062633514404 | gen_loss: -0.23278120160102844\n",
      "Iteration: 48 | disc_loss: -2.347641706466675 | gen_loss: -0.27534905076026917\n",
      "Iteration: 49 | disc_loss: -2.3287980556488037 | gen_loss: -0.26390188932418823\n",
      "Iteration: 50 | disc_loss: -2.356764793395996 | gen_loss: -0.2944958209991455\n",
      "Iteration: 51 | disc_loss: -2.3229446411132812 | gen_loss: -0.2818852663040161\n",
      "Iteration: 52 | disc_loss: -2.3159120082855225 | gen_loss: -0.2883771061897278\n",
      "Iteration: 53 | disc_loss: -2.293874740600586 | gen_loss: -0.3146507143974304\n",
      "Iteration: 54 | disc_loss: -2.289186477661133 | gen_loss: -0.31435221433639526\n",
      "Iteration: 55 | disc_loss: -2.2774710655212402 | gen_loss: -0.34764182567596436\n",
      "Iteration: 56 | disc_loss: -2.2840709686279297 | gen_loss: -0.3660951554775238\n",
      "Iteration: 57 | disc_loss: -2.2086308002471924 | gen_loss: -0.3475753664970398\n",
      "Iteration: 58 | disc_loss: -2.2482833862304688 | gen_loss: -0.3760492205619812\n",
      "Iteration: 59 | disc_loss: -2.226182460784912 | gen_loss: -0.4001324474811554\n",
      "Iteration: 60 | disc_loss: -2.1895484924316406 | gen_loss: -0.39146801829338074\n",
      "Iteration: 61 | disc_loss: -2.2335314750671387 | gen_loss: -0.4200021028518677\n",
      "Iteration: 62 | disc_loss: -2.2243340015411377 | gen_loss: -0.4551597535610199\n",
      "Iteration: 63 | disc_loss: -2.1656882762908936 | gen_loss: -0.4562743306159973\n",
      "Iteration: 64 | disc_loss: -2.1648402214050293 | gen_loss: -0.49300920963287354\n",
      "Iteration: 65 | disc_loss: -2.139364242553711 | gen_loss: -0.49494174122810364\n"
     ]
    },
    {
     "name": "stderr",
     "output_type": "stream",
     "text": [
      " 16%|█▌        | 81/501 [00:01<00:04, 86.18it/s]"
     ]
    },
    {
     "name": "stdout",
     "output_type": "stream",
     "text": [
      "Iteration: 66 | disc_loss: -2.0874593257904053 | gen_loss: -0.48473191261291504\n",
      "Iteration: 67 | disc_loss: -2.078399181365967 | gen_loss: -0.4597678482532501\n",
      "Iteration: 68 | disc_loss: -2.038536310195923 | gen_loss: -0.493264764547348\n",
      "Iteration: 69 | disc_loss: -2.064993381500244 | gen_loss: -0.5237131714820862\n",
      "Iteration: 70 | disc_loss: -2.0387651920318604 | gen_loss: -0.5500885844230652\n",
      "Iteration: 71 | disc_loss: -2.04111909866333 | gen_loss: -0.5794022083282471\n",
      "Iteration: 72 | disc_loss: -2.01339054107666 | gen_loss: -0.5890592336654663\n",
      "Iteration: 73 | disc_loss: -1.9659465551376343 | gen_loss: -0.5490588545799255\n",
      "Iteration: 74 | disc_loss: -1.9556905031204224 | gen_loss: -0.5857901573181152\n",
      "Iteration: 75 | disc_loss: -1.9556529521942139 | gen_loss: -0.6152179837226868\n",
      "Iteration: 76 | disc_loss: -1.9310874938964844 | gen_loss: -0.5923269391059875\n",
      "Iteration: 77 | disc_loss: -1.9181346893310547 | gen_loss: -0.6406534314155579\n",
      "Iteration: 78 | disc_loss: -1.8766752481460571 | gen_loss: -0.6530107855796814\n",
      "Iteration: 79 | disc_loss: -1.8820762634277344 | gen_loss: -0.6619151830673218\n",
      "Iteration: 80 | disc_loss: -1.8368313312530518 | gen_loss: -0.6648907661437988\n",
      "Iteration: 81 | disc_loss: -1.8016248941421509 | gen_loss: -0.6182807683944702\n",
      "Iteration: 82 | disc_loss: -1.7737443447113037 | gen_loss: -0.6858034729957581\n",
      "Iteration: 83 | disc_loss: -1.7794016599655151 | gen_loss: -0.7258410453796387\n",
      "Iteration: 84 | disc_loss: -1.7944021224975586 | gen_loss: -0.7446888089179993\n",
      "Iteration: 85 | disc_loss: -1.7326997518539429 | gen_loss: -0.7263731360435486\n",
      "Iteration: 86 | disc_loss: -1.6695431470870972 | gen_loss: -0.671783447265625\n",
      "Iteration: 87 | disc_loss: -1.7051540613174438 | gen_loss: -0.6841123700141907\n",
      "Iteration: 88 | disc_loss: -1.6810839176177979 | gen_loss: -0.7296855449676514\n"
     ]
    },
    {
     "name": "stderr",
     "output_type": "stream",
     "text": [
      " 21%|██        | 103/501 [00:01<00:04, 93.94it/s]"
     ]
    },
    {
     "name": "stdout",
     "output_type": "stream",
     "text": [
      "Iteration: 89 | disc_loss: -1.5956897735595703 | gen_loss: -0.6712996959686279\n",
      "Iteration: 90 | disc_loss: -1.5936360359191895 | gen_loss: -0.7121791243553162\n",
      "Iteration: 91 | disc_loss: -1.5890406370162964 | gen_loss: -0.695370078086853\n",
      "Iteration: 92 | disc_loss: -1.6156105995178223 | gen_loss: -0.7303338646888733\n",
      "Iteration: 93 | disc_loss: -1.4974162578582764 | gen_loss: -0.6334710121154785\n",
      "Iteration: 94 | disc_loss: -1.5041561126708984 | gen_loss: -0.6941503286361694\n",
      "Iteration: 95 | disc_loss: -1.5232806205749512 | gen_loss: -0.718682050704956\n",
      "Iteration: 96 | disc_loss: -1.4892926216125488 | gen_loss: -0.6747758984565735\n",
      "Iteration: 97 | disc_loss: -1.4826014041900635 | gen_loss: -0.698760449886322\n",
      "Iteration: 98 | disc_loss: -1.501408576965332 | gen_loss: -0.7006476521492004\n",
      "Iteration: 99 | disc_loss: -1.4408023357391357 | gen_loss: -0.6257373690605164\n",
      "Iteration: 100 | disc_loss: -1.4077218770980835 | gen_loss: -0.6070384383201599\n",
      "Iteration: 101 | disc_loss: -1.4019107818603516 | gen_loss: -0.5927185416221619\n",
      "Iteration: 102 | disc_loss: -1.4411060810089111 | gen_loss: -0.6177403330802917\n",
      "Iteration: 103 | disc_loss: -1.3757725954055786 | gen_loss: -0.5486330986022949\n",
      "Iteration: 104 | disc_loss: -1.4246796369552612 | gen_loss: -0.6047279834747314\n",
      "Iteration: 105 | disc_loss: -1.3670024871826172 | gen_loss: -0.5011433959007263\n",
      "Iteration: 106 | disc_loss: -1.367091178894043 | gen_loss: -0.4873989522457123\n",
      "Iteration: 107 | disc_loss: -1.3800872564315796 | gen_loss: -0.527829647064209\n",
      "Iteration: 108 | disc_loss: -1.3578033447265625 | gen_loss: -0.4744427502155304\n",
      "Iteration: 109 | disc_loss: -1.3341447114944458 | gen_loss: -0.4105047881603241\n",
      "Iteration: 110 | disc_loss: -1.3594454526901245 | gen_loss: -0.4178462624549866\n"
     ]
    },
    {
     "name": "stderr",
     "output_type": "stream",
     "text": [
      " 25%|██▌       | 127/501 [00:02<00:03, 103.98it/s]"
     ]
    },
    {
     "name": "stdout",
     "output_type": "stream",
     "text": [
      "Iteration: 111 | disc_loss: -1.3708049058914185 | gen_loss: -0.4110734164714813\n",
      "Iteration: 112 | disc_loss: -1.3040385246276855 | gen_loss: -0.3450242280960083\n",
      "Iteration: 113 | disc_loss: -1.3113585710525513 | gen_loss: -0.3554050028324127\n",
      "Iteration: 114 | disc_loss: -1.3304532766342163 | gen_loss: -0.2650770843029022\n",
      "Iteration: 115 | disc_loss: -1.2659986019134521 | gen_loss: -0.22023002803325653\n",
      "Iteration: 116 | disc_loss: -1.3285975456237793 | gen_loss: -0.2697641849517822\n",
      "Iteration: 117 | disc_loss: -1.3099843263626099 | gen_loss: -0.17042648792266846\n",
      "Iteration: 118 | disc_loss: -1.3239140510559082 | gen_loss: -0.16480815410614014\n",
      "Iteration: 119 | disc_loss: -1.271432638168335 | gen_loss: -0.11790461838245392\n",
      "Iteration: 120 | disc_loss: -1.2703511714935303 | gen_loss: -0.0972551554441452\n",
      "Iteration: 121 | disc_loss: -1.3273874521255493 | gen_loss: -0.15807859599590302\n",
      "Iteration: 122 | disc_loss: -1.2679170370101929 | gen_loss: -0.08483286201953888\n",
      "Iteration: 123 | disc_loss: -1.1948401927947998 | gen_loss: -0.06309126317501068\n",
      "Iteration: 124 | disc_loss: -1.2283459901809692 | gen_loss: -0.034263838082551956\n",
      "Iteration: 125 | disc_loss: -1.2218431234359741 | gen_loss: -0.012886765412986279\n",
      "Iteration: 126 | disc_loss: -1.2435028553009033 | gen_loss: 0.004298340529203415\n",
      "Iteration: 127 | disc_loss: -1.1714701652526855 | gen_loss: -0.017774546518921852\n",
      "Iteration: 128 | disc_loss: -1.2245815992355347 | gen_loss: -0.053534410893917084\n",
      "Iteration: 129 | disc_loss: -1.2381047010421753 | gen_loss: -0.1155553087592125\n",
      "Iteration: 130 | disc_loss: -1.1963081359863281 | gen_loss: -0.10345476120710373\n",
      "Iteration: 131 | disc_loss: -1.213486671447754 | gen_loss: -0.07508859038352966\n",
      "Iteration: 132 | disc_loss: -1.2399120330810547 | gen_loss: -0.06837227195501328\n",
      "Iteration: 133 | disc_loss: -1.1705950498580933 | gen_loss: -0.09110283106565475\n"
     ]
    },
    {
     "name": "stderr",
     "output_type": "stream",
     "text": [
      " 30%|███       | 151/501 [00:02<00:03, 109.01it/s]"
     ]
    },
    {
     "name": "stdout",
     "output_type": "stream",
     "text": [
      "Iteration: 134 | disc_loss: -1.2536084651947021 | gen_loss: -0.08435013890266418\n",
      "Iteration: 135 | disc_loss: -1.252549171447754 | gen_loss: -0.05856943503022194\n",
      "Iteration: 136 | disc_loss: -1.244417428970337 | gen_loss: -0.0439428836107254\n",
      "Iteration: 137 | disc_loss: -1.3127492666244507 | gen_loss: -0.013199294917285442\n",
      "Iteration: 138 | disc_loss: -1.2829936742782593 | gen_loss: -0.011056385934352875\n",
      "Iteration: 139 | disc_loss: -1.2712247371673584 | gen_loss: -0.0318911075592041\n",
      "Iteration: 140 | disc_loss: -1.3018447160720825 | gen_loss: -0.007732830010354519\n",
      "Iteration: 141 | disc_loss: -1.2638980150222778 | gen_loss: 0.00018247037951368839\n",
      "Iteration: 142 | disc_loss: -1.308753252029419 | gen_loss: 0.03957133740186691\n",
      "Iteration: 143 | disc_loss: -1.2997119426727295 | gen_loss: 0.07090966403484344\n",
      "Iteration: 144 | disc_loss: -1.2523330450057983 | gen_loss: -0.019076921045780182\n",
      "Iteration: 145 | disc_loss: -1.2004623413085938 | gen_loss: -0.011246656998991966\n",
      "Iteration: 146 | disc_loss: -1.3058292865753174 | gen_loss: 0.02752719447016716\n",
      "Iteration: 147 | disc_loss: -1.2656522989273071 | gen_loss: 0.022121133282780647\n",
      "Iteration: 148 | disc_loss: -1.2132121324539185 | gen_loss: 0.05869345739483833\n",
      "Iteration: 149 | disc_loss: -1.3181853294372559 | gen_loss: -0.012693606317043304\n",
      "Iteration: 150 | disc_loss: -1.283617615699768 | gen_loss: -0.009972428902983665\n",
      "Iteration: 151 | disc_loss: -1.2831162214279175 | gen_loss: -0.011726707220077515\n",
      "Iteration: 152 | disc_loss: -1.3124587535858154 | gen_loss: 0.03317618370056152\n",
      "Iteration: 153 | disc_loss: -1.238741159439087 | gen_loss: 0.06359966844320297\n",
      "Iteration: 154 | disc_loss: -1.317955732345581 | gen_loss: 0.05282504856586456\n",
      "Iteration: 155 | disc_loss: -1.2708863019943237 | gen_loss: 0.028912290930747986\n",
      "Iteration: 156 | disc_loss: -1.1862603425979614 | gen_loss: 0.0062279910780489445\n",
      "Iteration: 157 | disc_loss: -1.2641417980194092 | gen_loss: 0.08959568291902542\n"
     ]
    },
    {
     "name": "stderr",
     "output_type": "stream",
     "text": [
      " 35%|███▍      | 175/501 [00:02<00:03, 106.09it/s]"
     ]
    },
    {
     "name": "stdout",
     "output_type": "stream",
     "text": [
      "Iteration: 158 | disc_loss: -1.2844561338424683 | gen_loss: 0.03507799655199051\n",
      "Iteration: 159 | disc_loss: -1.3209973573684692 | gen_loss: 0.028566259890794754\n",
      "Iteration: 160 | disc_loss: -1.253593921661377 | gen_loss: 0.04023708775639534\n",
      "Iteration: 161 | disc_loss: -1.1978561878204346 | gen_loss: 0.005769966170191765\n",
      "Iteration: 162 | disc_loss: -1.2319903373718262 | gen_loss: -0.0056930952705442905\n",
      "Iteration: 163 | disc_loss: -1.308054804801941 | gen_loss: 0.010138806886970997\n",
      "Iteration: 164 | disc_loss: -1.2629613876342773 | gen_loss: 0.031561437994241714\n",
      "Iteration: 165 | disc_loss: -1.2918953895568848 | gen_loss: 0.11377685517072678\n",
      "Iteration: 166 | disc_loss: -1.2502939701080322 | gen_loss: 0.07952450960874557\n",
      "Iteration: 167 | disc_loss: -1.2007596492767334 | gen_loss: 0.11739039421081543\n",
      "Iteration: 168 | disc_loss: -1.226757287979126 | gen_loss: 0.09496168792247772\n",
      "Iteration: 169 | disc_loss: -1.2316068410873413 | gen_loss: 0.0194900743663311\n",
      "Iteration: 170 | disc_loss: -1.1964569091796875 | gen_loss: -0.06298503279685974\n",
      "Iteration: 171 | disc_loss: -1.2274771928787231 | gen_loss: 0.02265581302344799\n",
      "Iteration: 172 | disc_loss: -1.2689330577850342 | gen_loss: -0.02827766351401806\n",
      "Iteration: 173 | disc_loss: -1.295014500617981 | gen_loss: 0.044271718710660934\n",
      "Iteration: 174 | disc_loss: -1.275496482849121 | gen_loss: 0.010759946890175343\n",
      "Iteration: 175 | disc_loss: -1.2310177087783813 | gen_loss: 0.011294770054519176\n",
      "Iteration: 176 | disc_loss: -1.2315247058868408 | gen_loss: -0.036255672574043274\n",
      "Iteration: 177 | disc_loss: -1.293596863746643 | gen_loss: -0.09996406733989716\n",
      "Iteration: 178 | disc_loss: -1.2678722143173218 | gen_loss: -0.031027553603053093\n"
     ]
    },
    {
     "name": "stderr",
     "output_type": "stream",
     "text": [
      " 39%|███▉      | 197/501 [00:02<00:02, 106.60it/s]"
     ]
    },
    {
     "name": "stdout",
     "output_type": "stream",
     "text": [
      "Iteration: 179 | disc_loss: -1.2707618474960327 | gen_loss: 0.03945281356573105\n",
      "Iteration: 180 | disc_loss: -1.274537444114685 | gen_loss: 0.05093536525964737\n",
      "Iteration: 181 | disc_loss: -1.2383079528808594 | gen_loss: 0.03237954527139664\n",
      "Iteration: 182 | disc_loss: -1.2323437929153442 | gen_loss: 0.0582578144967556\n",
      "Iteration: 183 | disc_loss: -1.3122225999832153 | gen_loss: -0.00540053378790617\n",
      "Iteration: 184 | disc_loss: -1.2954517602920532 | gen_loss: 0.023547803983092308\n",
      "Iteration: 185 | disc_loss: -1.2616406679153442 | gen_loss: -0.0994277223944664\n",
      "Iteration: 186 | disc_loss: -1.2409100532531738 | gen_loss: -0.0933789610862732\n",
      "Iteration: 187 | disc_loss: -1.2808359861373901 | gen_loss: -0.06576669961214066\n",
      "Iteration: 188 | disc_loss: -1.2218247652053833 | gen_loss: 0.023114606738090515\n",
      "Iteration: 189 | disc_loss: -1.2473609447479248 | gen_loss: -0.01804165355861187\n",
      "Iteration: 190 | disc_loss: -1.2168151140213013 | gen_loss: 0.05618678405880928\n",
      "Iteration: 191 | disc_loss: -1.2471349239349365 | gen_loss: 0.06226653978228569\n",
      "Iteration: 192 | disc_loss: -1.1664066314697266 | gen_loss: 0.06359323859214783\n",
      "Iteration: 193 | disc_loss: -1.2463937997817993 | gen_loss: -0.017806043848395348\n",
      "Iteration: 194 | disc_loss: -1.1804760694503784 | gen_loss: 0.008054171688854694\n",
      "Iteration: 195 | disc_loss: -1.2451854944229126 | gen_loss: -0.108921118080616\n",
      "Iteration: 196 | disc_loss: -1.2124840021133423 | gen_loss: -0.05799515172839165\n",
      "Iteration: 197 | disc_loss: -1.2146961688995361 | gen_loss: -0.01947822794318199\n",
      "Iteration: 198 | disc_loss: -1.2167235612869263 | gen_loss: -0.05116843059659004\n",
      "Iteration: 199 | disc_loss: -1.223949670791626 | gen_loss: -0.005664827302098274\n",
      "Iteration: 200 | disc_loss: -1.2130076885223389 | gen_loss: 0.0563453808426857\n"
     ]
    },
    {
     "name": "stderr",
     "output_type": "stream",
     "text": [
      " 44%|████▍     | 220/501 [00:02<00:02, 107.52it/s]"
     ]
    },
    {
     "name": "stdout",
     "output_type": "stream",
     "text": [
      "Iteration: 201 | disc_loss: -1.2030824422836304 | gen_loss: 0.005778480786830187\n",
      "Iteration: 202 | disc_loss: -1.2239211797714233 | gen_loss: -0.01904565654695034\n",
      "Iteration: 203 | disc_loss: -1.2318521738052368 | gen_loss: -0.03739318251609802\n",
      "Iteration: 204 | disc_loss: -1.1881746053695679 | gen_loss: 0.03559888154268265\n",
      "Iteration: 205 | disc_loss: -1.220440149307251 | gen_loss: -0.051661111414432526\n",
      "Iteration: 206 | disc_loss: -1.205180048942566 | gen_loss: 0.0008852247265167534\n",
      "Iteration: 207 | disc_loss: -1.1972121000289917 | gen_loss: 0.0384095162153244\n",
      "Iteration: 208 | disc_loss: -1.1778184175491333 | gen_loss: -0.02871200256049633\n",
      "Iteration: 209 | disc_loss: -1.236214518547058 | gen_loss: -0.03922861069440842\n",
      "Iteration: 210 | disc_loss: -1.1513724327087402 | gen_loss: -0.008487925864756107\n",
      "Iteration: 211 | disc_loss: -1.1547850370407104 | gen_loss: -0.012002991512417793\n",
      "Iteration: 212 | disc_loss: -1.2060104608535767 | gen_loss: -0.024625802412629128\n",
      "Iteration: 213 | disc_loss: -1.22488272190094 | gen_loss: -0.04668991640210152\n",
      "Iteration: 214 | disc_loss: -1.170203685760498 | gen_loss: -0.04978417232632637\n",
      "Iteration: 215 | disc_loss: -1.1954131126403809 | gen_loss: -0.06827834248542786\n",
      "Iteration: 216 | disc_loss: -1.1810333728790283 | gen_loss: -0.0755225196480751\n",
      "Iteration: 217 | disc_loss: -1.169363021850586 | gen_loss: -0.05918172374367714\n",
      "Iteration: 218 | disc_loss: -1.2105923891067505 | gen_loss: -0.07465775310993195\n",
      "Iteration: 219 | disc_loss: -1.142334222793579 | gen_loss: -0.024223167449235916\n",
      "Iteration: 220 | disc_loss: -1.1246516704559326 | gen_loss: -0.09458211064338684\n",
      "Iteration: 221 | disc_loss: -1.17147696018219 | gen_loss: -0.14651694893836975\n",
      "Iteration: 222 | disc_loss: -1.1793142557144165 | gen_loss: -0.1281920224428177\n",
      "Iteration: 223 | disc_loss: -1.1169105768203735 | gen_loss: -0.04219014197587967\n",
      "Iteration: 224 | disc_loss: -1.1223008632659912 | gen_loss: -0.0056106471456587315\n"
     ]
    },
    {
     "name": "stderr",
     "output_type": "stream",
     "text": [
      " 49%|████▊     | 244/501 [00:03<00:02, 108.64it/s]"
     ]
    },
    {
     "name": "stdout",
     "output_type": "stream",
     "text": [
      "Iteration: 225 | disc_loss: -1.1554588079452515 | gen_loss: -0.08801773935556412\n",
      "Iteration: 226 | disc_loss: -1.1540367603302002 | gen_loss: -0.09934094548225403\n",
      "Iteration: 227 | disc_loss: -1.096128225326538 | gen_loss: -0.11377815902233124\n",
      "Iteration: 228 | disc_loss: -1.1538735628128052 | gen_loss: -0.09401362389326096\n",
      "Iteration: 229 | disc_loss: -1.1076247692108154 | gen_loss: -0.05773289501667023\n",
      "Iteration: 230 | disc_loss: -1.1288249492645264 | gen_loss: -0.07028882205486298\n",
      "Iteration: 231 | disc_loss: -1.1635777950286865 | gen_loss: -0.14088207483291626\n",
      "Iteration: 232 | disc_loss: -1.1689239740371704 | gen_loss: -0.14456461369991302\n",
      "Iteration: 233 | disc_loss: -1.0827137231826782 | gen_loss: -0.06331071257591248\n",
      "Iteration: 234 | disc_loss: -1.1147964000701904 | gen_loss: -0.047271858900785446\n",
      "Iteration: 235 | disc_loss: -1.1104458570480347 | gen_loss: -0.08412691205739975\n",
      "Iteration: 236 | disc_loss: -1.1197782754898071 | gen_loss: -0.14681822061538696\n",
      "Iteration: 237 | disc_loss: -1.1264935731887817 | gen_loss: -0.11632081866264343\n",
      "Iteration: 238 | disc_loss: -1.1157554388046265 | gen_loss: -0.09963249415159225\n",
      "Iteration: 239 | disc_loss: -1.034210443496704 | gen_loss: -0.08130678534507751\n",
      "Iteration: 240 | disc_loss: -1.1047011613845825 | gen_loss: -0.1948121190071106\n",
      "Iteration: 241 | disc_loss: -1.0028856992721558 | gen_loss: -0.0355982631444931\n",
      "Iteration: 242 | disc_loss: -1.0769389867782593 | gen_loss: -0.18223510682582855\n",
      "Iteration: 243 | disc_loss: -1.0425045490264893 | gen_loss: -0.12166578322649002\n",
      "Iteration: 244 | disc_loss: -1.0755678415298462 | gen_loss: -0.1272629350423813\n",
      "Iteration: 245 | disc_loss: -1.0886356830596924 | gen_loss: -0.18502739071846008\n",
      "Iteration: 246 | disc_loss: -1.074136734008789 | gen_loss: -0.22878816723823547\n"
     ]
    },
    {
     "name": "stderr",
     "output_type": "stream",
     "text": [
      " 53%|█████▎    | 266/501 [00:03<00:02, 108.03it/s]"
     ]
    },
    {
     "name": "stdout",
     "output_type": "stream",
     "text": [
      "Iteration: 247 | disc_loss: -1.0597103834152222 | gen_loss: -0.08295886218547821\n",
      "Iteration: 248 | disc_loss: -1.0192184448242188 | gen_loss: -0.07082480937242508\n",
      "Iteration: 249 | disc_loss: -1.0987015962600708 | gen_loss: -0.1426459401845932\n",
      "Iteration: 250 | disc_loss: -1.0904749631881714 | gen_loss: -0.05846313014626503\n",
      "Iteration: 251 | disc_loss: -1.0560959577560425 | gen_loss: -0.10056056827306747\n",
      "Iteration: 252 | disc_loss: -0.9834482073783875 | gen_loss: -0.1299493908882141\n",
      "Iteration: 253 | disc_loss: -1.0833747386932373 | gen_loss: -0.2084718644618988\n",
      "Iteration: 254 | disc_loss: -1.1195051670074463 | gen_loss: -0.23436132073402405\n",
      "Iteration: 255 | disc_loss: -1.0965105295181274 | gen_loss: -0.12285587191581726\n",
      "Iteration: 256 | disc_loss: -1.033764123916626 | gen_loss: -0.14539150893688202\n",
      "Iteration: 257 | disc_loss: -1.0561654567718506 | gen_loss: -0.11749302595853806\n",
      "Iteration: 258 | disc_loss: -1.040501356124878 | gen_loss: -0.10422678291797638\n",
      "Iteration: 259 | disc_loss: -1.0605577230453491 | gen_loss: -0.19458550214767456\n",
      "Iteration: 260 | disc_loss: -1.0117799043655396 | gen_loss: -0.20552805066108704\n",
      "Iteration: 261 | disc_loss: -0.9794776439666748 | gen_loss: -0.1487082839012146\n",
      "Iteration: 262 | disc_loss: -1.019421935081482 | gen_loss: -0.08530876785516739\n",
      "Iteration: 263 | disc_loss: -1.0101115703582764 | gen_loss: -0.1545807272195816\n",
      "Iteration: 264 | disc_loss: -1.0061607360839844 | gen_loss: -0.10438843071460724\n",
      "Iteration: 265 | disc_loss: -1.0431358814239502 | gen_loss: -0.12049154937267303\n",
      "Iteration: 266 | disc_loss: -1.031043529510498 | gen_loss: -0.0838632881641388\n",
      "Iteration: 267 | disc_loss: -1.0886585712432861 | gen_loss: -0.038671042770147324\n",
      "Iteration: 268 | disc_loss: -1.094329595565796 | gen_loss: -0.09071442484855652\n"
     ]
    },
    {
     "name": "stderr",
     "output_type": "stream",
     "text": [
      " 58%|█████▊    | 289/501 [00:03<00:01, 108.93it/s]"
     ]
    },
    {
     "name": "stdout",
     "output_type": "stream",
     "text": [
      "Iteration: 269 | disc_loss: -1.0386335849761963 | gen_loss: -0.10545693337917328\n",
      "Iteration: 270 | disc_loss: -1.0506572723388672 | gen_loss: -0.07741349190473557\n",
      "Iteration: 271 | disc_loss: -1.0122047662734985 | gen_loss: -0.08192409574985504\n",
      "Iteration: 272 | disc_loss: -1.0494749546051025 | gen_loss: -0.14395906031131744\n",
      "Iteration: 273 | disc_loss: -1.0601907968521118 | gen_loss: -0.03379800170660019\n",
      "Iteration: 274 | disc_loss: -1.003359317779541 | gen_loss: -0.02214103192090988\n",
      "Iteration: 275 | disc_loss: -1.0498936176300049 | gen_loss: -0.0599360354244709\n",
      "Iteration: 276 | disc_loss: -1.0230833292007446 | gen_loss: -0.05653303489089012\n",
      "Iteration: 277 | disc_loss: -1.050826907157898 | gen_loss: -0.1172705665230751\n",
      "Iteration: 278 | disc_loss: -1.0495953559875488 | gen_loss: -0.0341995432972908\n",
      "Iteration: 279 | disc_loss: -1.0138466358184814 | gen_loss: 0.008107059635221958\n",
      "Iteration: 280 | disc_loss: -0.9576770067214966 | gen_loss: -0.004292160272598267\n",
      "Iteration: 281 | disc_loss: -1.0233135223388672 | gen_loss: -0.04845134913921356\n",
      "Iteration: 282 | disc_loss: -1.0434539318084717 | gen_loss: -0.16732944548130035\n",
      "Iteration: 283 | disc_loss: -1.0600855350494385 | gen_loss: -0.2509079575538635\n",
      "Iteration: 284 | disc_loss: -1.0244523286819458 | gen_loss: -0.09800843894481659\n",
      "Iteration: 285 | disc_loss: -1.0458557605743408 | gen_loss: -0.05415341258049011\n",
      "Iteration: 286 | disc_loss: -0.9609498977661133 | gen_loss: -0.0103588392958045\n",
      "Iteration: 287 | disc_loss: -0.9976085424423218 | gen_loss: 0.0856691375374794\n",
      "Iteration: 288 | disc_loss: -1.03725266456604 | gen_loss: 0.09558608382940292\n",
      "Iteration: 289 | disc_loss: -0.9426147937774658 | gen_loss: -0.026362977921962738\n",
      "Iteration: 290 | disc_loss: -1.006683349609375 | gen_loss: -0.04538881778717041\n"
     ]
    },
    {
     "name": "stderr",
     "output_type": "stream",
     "text": [
      " 62%|██████▏   | 311/501 [00:03<00:01, 105.02it/s]"
     ]
    },
    {
     "name": "stdout",
     "output_type": "stream",
     "text": [
      "Iteration: 291 | disc_loss: -0.9536013007164001 | gen_loss: -0.1016158014535904\n",
      "Iteration: 292 | disc_loss: -1.0138139724731445 | gen_loss: -0.11277545243501663\n",
      "Iteration: 293 | disc_loss: -1.0055475234985352 | gen_loss: -0.13592830300331116\n",
      "Iteration: 294 | disc_loss: -1.0363757610321045 | gen_loss: -0.1351688653230667\n",
      "Iteration: 295 | disc_loss: -1.0246808528900146 | gen_loss: -0.1034894660115242\n",
      "Iteration: 296 | disc_loss: -0.8902919888496399 | gen_loss: -0.005539081525057554\n",
      "Iteration: 297 | disc_loss: -1.033874750137329 | gen_loss: 0.023833706974983215\n",
      "Iteration: 298 | disc_loss: -1.049703598022461 | gen_loss: 0.0820084735751152\n",
      "Iteration: 299 | disc_loss: -1.0924763679504395 | gen_loss: 0.07482899725437164\n",
      "Iteration: 300 | disc_loss: -1.0112133026123047 | gen_loss: 0.11186229437589645\n",
      "Iteration: 301 | disc_loss: -1.019372582435608 | gen_loss: 0.0929117202758789\n",
      "Iteration: 302 | disc_loss: -1.0261033773422241 | gen_loss: 0.11303064227104187\n",
      "Iteration: 303 | disc_loss: -0.9787852764129639 | gen_loss: 0.06931993365287781\n",
      "Iteration: 304 | disc_loss: -1.0718200206756592 | gen_loss: 0.019654011353850365\n",
      "Iteration: 305 | disc_loss: -1.0577433109283447 | gen_loss: -0.026200737804174423\n",
      "Iteration: 306 | disc_loss: -0.9587456583976746 | gen_loss: 0.054845429956912994\n",
      "Iteration: 307 | disc_loss: -1.0479605197906494 | gen_loss: 0.0004552334430627525\n",
      "Iteration: 308 | disc_loss: -0.9186652898788452 | gen_loss: 0.12649942934513092\n",
      "Iteration: 309 | disc_loss: -1.0551941394805908 | gen_loss: -0.07362443208694458\n",
      "Iteration: 310 | disc_loss: -0.8459295630455017 | gen_loss: 0.07417365908622742\n",
      "Iteration: 311 | disc_loss: -1.0239834785461426 | gen_loss: 0.13318009674549103\n"
     ]
    },
    {
     "name": "stderr",
     "output_type": "stream",
     "text": [
      " 66%|██████▋   | 333/501 [00:03<00:01, 104.56it/s]"
     ]
    },
    {
     "name": "stdout",
     "output_type": "stream",
     "text": [
      "Iteration: 312 | disc_loss: -1.0646966695785522 | gen_loss: 0.17385327816009521\n",
      "Iteration: 313 | disc_loss: -1.022719383239746 | gen_loss: 0.2052542269229889\n",
      "Iteration: 314 | disc_loss: -1.0782026052474976 | gen_loss: 0.11570744216442108\n",
      "Iteration: 315 | disc_loss: -1.0780171155929565 | gen_loss: -0.015564381144940853\n",
      "Iteration: 316 | disc_loss: -1.0511714220046997 | gen_loss: 0.001787666929885745\n",
      "Iteration: 317 | disc_loss: -0.9888308048248291 | gen_loss: 0.08459871262311935\n",
      "Iteration: 318 | disc_loss: -0.9686464071273804 | gen_loss: 0.17093195021152496\n",
      "Iteration: 319 | disc_loss: -1.0489879846572876 | gen_loss: 0.06877321749925613\n",
      "Iteration: 320 | disc_loss: -1.0510847568511963 | gen_loss: 0.1656285524368286\n",
      "Iteration: 321 | disc_loss: -1.0469481945037842 | gen_loss: 0.03906393051147461\n",
      "Iteration: 322 | disc_loss: -1.0481969118118286 | gen_loss: 0.002955762203782797\n",
      "Iteration: 323 | disc_loss: -1.045495629310608 | gen_loss: 0.07575876265764236\n",
      "Iteration: 324 | disc_loss: -1.0421870946884155 | gen_loss: 0.10524681955575943\n",
      "Iteration: 325 | disc_loss: -1.0348888635635376 | gen_loss: 0.17461036145687103\n",
      "Iteration: 326 | disc_loss: -1.075081706047058 | gen_loss: 0.15472865104675293\n",
      "Iteration: 327 | disc_loss: -1.096034288406372 | gen_loss: 0.25543347001075745\n",
      "Iteration: 328 | disc_loss: -1.1057907342910767 | gen_loss: 0.2007170170545578\n",
      "Iteration: 329 | disc_loss: -1.0590351819992065 | gen_loss: 0.14202570915222168\n",
      "Iteration: 330 | disc_loss: -1.0813407897949219 | gen_loss: 0.17362573742866516\n",
      "Iteration: 331 | disc_loss: -0.9903574585914612 | gen_loss: 0.21477295458316803\n",
      "Iteration: 332 | disc_loss: -1.110334038734436 | gen_loss: 0.28348469734191895\n"
     ]
    },
    {
     "name": "stderr",
     "output_type": "stream",
     "text": [
      " 71%|███████   | 355/501 [00:04<00:01, 103.84it/s]"
     ]
    },
    {
     "name": "stdout",
     "output_type": "stream",
     "text": [
      "Iteration: 333 | disc_loss: -1.041035532951355 | gen_loss: 0.2890442907810211\n",
      "Iteration: 334 | disc_loss: -1.0523320436477661 | gen_loss: 0.23704275488853455\n",
      "Iteration: 335 | disc_loss: -1.0374125242233276 | gen_loss: 0.2366439402103424\n",
      "Iteration: 336 | disc_loss: -1.0668808221817017 | gen_loss: 0.28906846046447754\n",
      "Iteration: 337 | disc_loss: -1.1225128173828125 | gen_loss: 0.252437949180603\n",
      "Iteration: 338 | disc_loss: -0.9896126985549927 | gen_loss: 0.2939012050628662\n",
      "Iteration: 339 | disc_loss: -1.0841789245605469 | gen_loss: 0.1818000078201294\n",
      "Iteration: 340 | disc_loss: -1.0861737728118896 | gen_loss: 0.22950388491153717\n",
      "Iteration: 341 | disc_loss: -1.1341888904571533 | gen_loss: 0.10483286529779434\n",
      "Iteration: 342 | disc_loss: -1.1181914806365967 | gen_loss: 0.05378825590014458\n",
      "Iteration: 343 | disc_loss: -1.0376183986663818 | gen_loss: 0.29744789004325867\n",
      "Iteration: 344 | disc_loss: -1.0834507942199707 | gen_loss: 0.2757478952407837\n",
      "Iteration: 345 | disc_loss: -1.0922179222106934 | gen_loss: 0.289565771818161\n",
      "Iteration: 346 | disc_loss: -1.1080520153045654 | gen_loss: 0.2948977053165436\n",
      "Iteration: 347 | disc_loss: -1.1472980976104736 | gen_loss: 0.16468027234077454\n",
      "Iteration: 348 | disc_loss: -1.1244484186172485 | gen_loss: 0.22401389479637146\n",
      "Iteration: 349 | disc_loss: -1.0846476554870605 | gen_loss: 0.10038938373327255\n",
      "Iteration: 350 | disc_loss: -1.1073439121246338 | gen_loss: 0.262766569852829\n",
      "Iteration: 351 | disc_loss: -1.0677626132965088 | gen_loss: 0.19764961302280426\n",
      "Iteration: 352 | disc_loss: -1.0445942878723145 | gen_loss: 0.19174744188785553\n",
      "Iteration: 353 | disc_loss: -1.0847617387771606 | gen_loss: 0.14881163835525513\n",
      "Iteration: 354 | disc_loss: -1.108670949935913 | gen_loss: 0.14747576415538788\n"
     ]
    },
    {
     "name": "stderr",
     "output_type": "stream",
     "text": [
      " 75%|███████▌  | 377/501 [00:04<00:01, 105.67it/s]"
     ]
    },
    {
     "name": "stdout",
     "output_type": "stream",
     "text": [
      "Iteration: 355 | disc_loss: -1.0976868867874146 | gen_loss: 0.18207098543643951\n",
      "Iteration: 356 | disc_loss: -1.0265125036239624 | gen_loss: 0.2993532717227936\n",
      "Iteration: 357 | disc_loss: -1.1339143514633179 | gen_loss: 0.1470145583152771\n",
      "Iteration: 358 | disc_loss: -1.0994298458099365 | gen_loss: 0.2375095933675766\n",
      "Iteration: 359 | disc_loss: -0.9988189935684204 | gen_loss: 0.26333510875701904\n",
      "Iteration: 360 | disc_loss: -1.097992181777954 | gen_loss: 0.15231956541538239\n",
      "Iteration: 361 | disc_loss: -1.1017917394638062 | gen_loss: 0.27968868613243103\n",
      "Iteration: 362 | disc_loss: -1.1086609363555908 | gen_loss: 0.24147136509418488\n",
      "Iteration: 363 | disc_loss: -1.1189346313476562 | gen_loss: 0.1304144412279129\n",
      "Iteration: 364 | disc_loss: -1.136648416519165 | gen_loss: 0.16453677415847778\n",
      "Iteration: 365 | disc_loss: -1.1194801330566406 | gen_loss: 0.2416534274816513\n",
      "Iteration: 366 | disc_loss: -1.147020936012268 | gen_loss: 0.16629751026630402\n",
      "Iteration: 367 | disc_loss: -1.1522905826568604 | gen_loss: 0.20455443859100342\n",
      "Iteration: 368 | disc_loss: -1.0995228290557861 | gen_loss: 0.19472771883010864\n",
      "Iteration: 369 | disc_loss: -1.0755153894424438 | gen_loss: 0.1507577747106552\n",
      "Iteration: 370 | disc_loss: -1.0799064636230469 | gen_loss: 0.14894749224185944\n",
      "Iteration: 371 | disc_loss: -1.1109780073165894 | gen_loss: 0.19181932508945465\n",
      "Iteration: 372 | disc_loss: -1.0630086660385132 | gen_loss: 0.13334853947162628\n",
      "Iteration: 373 | disc_loss: -1.0953149795532227 | gen_loss: 0.1533188670873642\n",
      "Iteration: 374 | disc_loss: -1.0985716581344604 | gen_loss: 0.10952639579772949\n",
      "Iteration: 375 | disc_loss: -1.153435230255127 | gen_loss: -0.0032732223626226187\n",
      "Iteration: 376 | disc_loss: -1.1408672332763672 | gen_loss: 0.10102356970310211\n"
     ]
    },
    {
     "name": "stderr",
     "output_type": "stream",
     "text": [
      " 77%|███████▋  | 388/501 [00:04<00:01, 104.38it/s]"
     ]
    },
    {
     "name": "stdout",
     "output_type": "stream",
     "text": [
      "Iteration: 377 | disc_loss: -1.070757269859314 | gen_loss: 0.15262405574321747\n",
      "Iteration: 378 | disc_loss: -1.089547038078308 | gen_loss: 0.24059320986270905\n",
      "Iteration: 379 | disc_loss: -1.1430367231369019 | gen_loss: 0.26404130458831787\n",
      "Iteration: 380 | disc_loss: -1.101080060005188 | gen_loss: 0.4225199818611145\n",
      "Iteration: 381 | disc_loss: -1.174518346786499 | gen_loss: 0.39502188563346863\n",
      "Iteration: 382 | disc_loss: -1.0684289932250977 | gen_loss: 0.3371638059616089\n",
      "Iteration: 383 | disc_loss: -1.1394708156585693 | gen_loss: 0.3372967541217804\n",
      "Iteration: 384 | disc_loss: -1.1225138902664185 | gen_loss: 0.28117233514785767\n",
      "Iteration: 385 | disc_loss: -1.1198546886444092 | gen_loss: 0.14762091636657715\n",
      "Iteration: 386 | disc_loss: -1.1233965158462524 | gen_loss: 0.1339998096227646\n",
      "Iteration: 387 | disc_loss: -1.1332314014434814 | gen_loss: 0.30322346091270447\n",
      "Iteration: 388 | disc_loss: -1.0909185409545898 | gen_loss: 0.34910857677459717\n",
      "Iteration: 389 | disc_loss: -1.1408510208129883 | gen_loss: 0.2645544409751892\n",
      "Iteration: 390 | disc_loss: -1.0374664068222046 | gen_loss: 0.2563861906528473\n",
      "Iteration: 391 | disc_loss: -1.1051613092422485 | gen_loss: 0.2648022770881653\n",
      "Iteration: 392 | disc_loss: -1.0772063732147217 | gen_loss: 0.18900226056575775\n",
      "Iteration: 393 | disc_loss: -1.1106151342391968 | gen_loss: 0.21040673553943634\n",
      "Iteration: 394 | disc_loss: -1.1376683712005615 | gen_loss: 0.2749084234237671\n",
      "Iteration: 395 | disc_loss: -1.157543420791626 | gen_loss: 0.2725324034690857\n",
      "Iteration: 396 | disc_loss: -1.0817780494689941 | gen_loss: 0.3295653462409973\n",
      "Iteration: 397 | disc_loss: -1.113762617111206 | gen_loss: 0.1942962408065796\n",
      "Iteration: 398 | disc_loss: -1.1195372343063354 | gen_loss: 0.2382952719926834\n"
     ]
    },
    {
     "name": "stderr",
     "output_type": "stream",
     "text": [
      " 82%|████████▏ | 411/501 [00:04<00:00, 102.01it/s]"
     ]
    },
    {
     "name": "stdout",
     "output_type": "stream",
     "text": [
      "Iteration: 399 | disc_loss: -1.1254414319992065 | gen_loss: 0.3816559314727783\n",
      "Iteration: 400 | disc_loss: -1.1069214344024658 | gen_loss: 0.2947738766670227\n",
      "Iteration: 401 | disc_loss: -1.1519986391067505 | gen_loss: 0.42515212297439575\n",
      "Iteration: 402 | disc_loss: -1.0989842414855957 | gen_loss: 0.44255271553993225\n",
      "Iteration: 403 | disc_loss: -1.0761052370071411 | gen_loss: 0.49308937788009644\n",
      "Iteration: 404 | disc_loss: -1.176074743270874 | gen_loss: 0.20262165367603302\n",
      "Iteration: 405 | disc_loss: -1.1468209028244019 | gen_loss: 0.29384446144104004\n",
      "Iteration: 406 | disc_loss: -1.1068263053894043 | gen_loss: 0.19422338902950287\n",
      "Iteration: 407 | disc_loss: -1.071871042251587 | gen_loss: 0.16349491477012634\n",
      "Iteration: 408 | disc_loss: -1.095481514930725 | gen_loss: 0.21736568212509155\n",
      "Iteration: 409 | disc_loss: -1.13877534866333 | gen_loss: 0.05191940441727638\n",
      "Iteration: 410 | disc_loss: -1.0849721431732178 | gen_loss: 0.362040638923645\n",
      "Iteration: 411 | disc_loss: -1.088892936706543 | gen_loss: 0.2721714675426483\n",
      "Iteration: 412 | disc_loss: -1.161745309829712 | gen_loss: 0.321311354637146\n",
      "Iteration: 413 | disc_loss: -1.153733253479004 | gen_loss: 0.3000487983226776\n",
      "Iteration: 414 | disc_loss: -1.1466834545135498 | gen_loss: 0.4527566432952881\n",
      "Iteration: 415 | disc_loss: -1.161860466003418 | gen_loss: 0.39864325523376465\n",
      "Iteration: 416 | disc_loss: -1.1354409456253052 | gen_loss: 0.2496301233768463\n",
      "Iteration: 417 | disc_loss: -1.131152868270874 | gen_loss: 0.31775885820388794\n",
      "Iteration: 418 | disc_loss: -1.036726951599121 | gen_loss: 0.28928712010383606\n",
      "Iteration: 419 | disc_loss: -1.120003581047058 | gen_loss: 0.2154335230588913\n"
     ]
    },
    {
     "name": "stderr",
     "output_type": "stream",
     "text": [
      " 87%|████████▋ | 434/501 [00:04<00:00, 107.09it/s]"
     ]
    },
    {
     "name": "stdout",
     "output_type": "stream",
     "text": [
      "Iteration: 420 | disc_loss: -1.13527512550354 | gen_loss: 0.287295937538147\n",
      "Iteration: 421 | disc_loss: -1.1524173021316528 | gen_loss: 0.27979618310928345\n",
      "Iteration: 422 | disc_loss: -1.1129554510116577 | gen_loss: 0.41433635354042053\n",
      "Iteration: 423 | disc_loss: -1.1446447372436523 | gen_loss: 0.31222298741340637\n",
      "Iteration: 424 | disc_loss: -1.1010199785232544 | gen_loss: 0.3266530930995941\n",
      "Iteration: 425 | disc_loss: -1.070873737335205 | gen_loss: 0.49330466985702515\n",
      "Iteration: 426 | disc_loss: -1.084437608718872 | gen_loss: 0.44517162442207336\n",
      "Iteration: 427 | disc_loss: -1.186551809310913 | gen_loss: 0.40417948365211487\n",
      "Iteration: 428 | disc_loss: -1.124063491821289 | gen_loss: 0.29578766226768494\n",
      "Iteration: 429 | disc_loss: -1.1224539279937744 | gen_loss: 0.15514399111270905\n",
      "Iteration: 430 | disc_loss: -1.1649137735366821 | gen_loss: 0.15095452964305878\n",
      "Iteration: 431 | disc_loss: -1.1666368246078491 | gen_loss: 0.2531934678554535\n",
      "Iteration: 432 | disc_loss: -1.1826276779174805 | gen_loss: 0.15582677721977234\n",
      "Iteration: 433 | disc_loss: -1.1779332160949707 | gen_loss: 0.14948290586471558\n",
      "Iteration: 434 | disc_loss: -1.0870170593261719 | gen_loss: 0.39345604181289673\n",
      "Iteration: 435 | disc_loss: -1.126214623451233 | gen_loss: 0.2506406307220459\n",
      "Iteration: 436 | disc_loss: -1.161551594734192 | gen_loss: 0.33414700627326965\n",
      "Iteration: 437 | disc_loss: -1.103161096572876 | gen_loss: 0.3131618797779083\n",
      "Iteration: 438 | disc_loss: -1.1448087692260742 | gen_loss: 0.39693397283554077\n",
      "Iteration: 439 | disc_loss: -1.1451618671417236 | gen_loss: 0.08356081694364548\n",
      "Iteration: 440 | disc_loss: -1.0102884769439697 | gen_loss: 0.18088898062705994\n",
      "Iteration: 441 | disc_loss: -1.1185795068740845 | gen_loss: 0.2698408365249634\n",
      "Iteration: 442 | disc_loss: -1.1817424297332764 | gen_loss: 0.253490686416626\n"
     ]
    },
    {
     "name": "stderr",
     "output_type": "stream",
     "text": [
      " 91%|█████████▏| 458/501 [00:05<00:00, 109.26it/s]"
     ]
    },
    {
     "name": "stdout",
     "output_type": "stream",
     "text": [
      "Iteration: 443 | disc_loss: -1.1239062547683716 | gen_loss: 0.37877151370048523\n",
      "Iteration: 444 | disc_loss: -1.1074745655059814 | gen_loss: 0.11732984334230423\n",
      "Iteration: 445 | disc_loss: -1.2029986381530762 | gen_loss: 0.0866100862622261\n",
      "Iteration: 446 | disc_loss: -1.1971123218536377 | gen_loss: 0.16066068410873413\n",
      "Iteration: 447 | disc_loss: -1.1699730157852173 | gen_loss: 0.23829950392246246\n",
      "Iteration: 448 | disc_loss: -1.1599864959716797 | gen_loss: 0.2832677364349365\n",
      "Iteration: 449 | disc_loss: -1.0965691804885864 | gen_loss: 0.35804256796836853\n",
      "Iteration: 450 | disc_loss: -1.0723769664764404 | gen_loss: 0.3967386484146118\n",
      "Iteration: 451 | disc_loss: -1.0471303462982178 | gen_loss: 0.32842156291007996\n",
      "Iteration: 452 | disc_loss: -1.0830403566360474 | gen_loss: 0.2961599826812744\n",
      "Iteration: 453 | disc_loss: -0.9709374904632568 | gen_loss: 0.29144689440727234\n",
      "Iteration: 454 | disc_loss: -1.1489250659942627 | gen_loss: 0.13175088167190552\n",
      "Iteration: 455 | disc_loss: -1.0725855827331543 | gen_loss: 0.21590496599674225\n",
      "Iteration: 456 | disc_loss: -1.1453964710235596 | gen_loss: 0.09453584998846054\n",
      "Iteration: 457 | disc_loss: -1.19416344165802 | gen_loss: 0.14202064275741577\n",
      "Iteration: 458 | disc_loss: -1.1665732860565186 | gen_loss: -0.08703356981277466\n",
      "Iteration: 459 | disc_loss: -1.1028262376785278 | gen_loss: 0.03539372980594635\n",
      "Iteration: 460 | disc_loss: -1.1037440299987793 | gen_loss: 0.26234787702560425\n",
      "Iteration: 461 | disc_loss: -1.062265396118164 | gen_loss: 0.24131405353546143\n",
      "Iteration: 462 | disc_loss: -1.140866756439209 | gen_loss: 0.2011258751153946\n",
      "Iteration: 463 | disc_loss: -1.0648072957992554 | gen_loss: 0.21401719748973846\n",
      "Iteration: 464 | disc_loss: -1.1235183477401733 | gen_loss: 0.18079572916030884\n"
     ]
    },
    {
     "name": "stderr",
     "output_type": "stream",
     "text": [
      " 96%|█████████▌| 481/501 [00:05<00:00, 106.97it/s]"
     ]
    },
    {
     "name": "stdout",
     "output_type": "stream",
     "text": [
      "Iteration: 465 | disc_loss: -1.1016604900360107 | gen_loss: 0.30635306239128113\n",
      "Iteration: 466 | disc_loss: -1.0771304368972778 | gen_loss: 0.38153812289237976\n",
      "Iteration: 467 | disc_loss: -1.0837757587432861 | gen_loss: 0.4053400754928589\n",
      "Iteration: 468 | disc_loss: -1.0461087226867676 | gen_loss: 0.31853926181793213\n",
      "Iteration: 469 | disc_loss: -1.1088480949401855 | gen_loss: 0.2547381520271301\n",
      "Iteration: 470 | disc_loss: -1.0454728603363037 | gen_loss: 0.32926133275032043\n",
      "Iteration: 471 | disc_loss: -1.0700091123580933 | gen_loss: 0.27652236819267273\n",
      "Iteration: 472 | disc_loss: -1.1068615913391113 | gen_loss: 0.2069011628627777\n",
      "Iteration: 473 | disc_loss: -1.0441722869873047 | gen_loss: 0.22188955545425415\n",
      "Iteration: 474 | disc_loss: -1.0957456827163696 | gen_loss: 0.10731497406959534\n",
      "Iteration: 475 | disc_loss: -1.1162017583847046 | gen_loss: 0.1635754406452179\n",
      "Iteration: 476 | disc_loss: -1.1206516027450562 | gen_loss: -0.08915884047746658\n",
      "Iteration: 477 | disc_loss: -1.0681029558181763 | gen_loss: 0.12555697560310364\n",
      "Iteration: 478 | disc_loss: -1.040649652481079 | gen_loss: 0.07796456664800644\n",
      "Iteration: 479 | disc_loss: -1.0639417171478271 | gen_loss: 0.15243543684482574\n",
      "Iteration: 480 | disc_loss: -1.108494758605957 | gen_loss: 0.20536524057388306\n",
      "Iteration: 481 | disc_loss: -1.1934363842010498 | gen_loss: 0.20601628720760345\n",
      "Iteration: 482 | disc_loss: -1.0643815994262695 | gen_loss: 0.25545772910118103\n",
      "Iteration: 483 | disc_loss: -1.1412792205810547 | gen_loss: 0.23727868497371674\n",
      "Iteration: 484 | disc_loss: -1.0574947595596313 | gen_loss: 0.12352391332387924\n",
      "Iteration: 485 | disc_loss: -1.0333665609359741 | gen_loss: 0.293523907661438\n",
      "Iteration: 486 | disc_loss: -1.0527362823486328 | gen_loss: 0.39224520325660706\n",
      "Iteration: 487 | disc_loss: -1.0983459949493408 | gen_loss: 0.3263322412967682\n"
     ]
    },
    {
     "name": "stderr",
     "output_type": "stream",
     "text": [
      "100%|██████████| 501/501 [00:05<00:00, 89.58it/s] \n",
      "Synthetic data generation: 100%|██████████| 6/6 [00:00<00:00, 625.35it/s]"
     ]
    },
    {
     "name": "stdout",
     "output_type": "stream",
     "text": [
      "Iteration: 488 | disc_loss: -1.0381120443344116 | gen_loss: 0.19024839997291565\n",
      "Iteration: 489 | disc_loss: -1.1160404682159424 | gen_loss: 0.12637515366077423\n",
      "Iteration: 490 | disc_loss: -1.0750535726547241 | gen_loss: 0.1326170563697815\n",
      "Iteration: 491 | disc_loss: -1.1294416189193726 | gen_loss: 0.20854856073856354\n",
      "Iteration: 492 | disc_loss: -1.0667181015014648 | gen_loss: 0.13273610174655914\n",
      "Iteration: 493 | disc_loss: -1.1509281396865845 | gen_loss: 0.1851695477962494\n",
      "Iteration: 494 | disc_loss: -1.012919545173645 | gen_loss: 0.08151305466890335\n",
      "Iteration: 495 | disc_loss: -1.1162059307098389 | gen_loss: -0.025300752371549606\n",
      "Iteration: 496 | disc_loss: -0.9389684200286865 | gen_loss: -0.01565217785537243\n",
      "Iteration: 497 | disc_loss: -1.0292965173721313 | gen_loss: 0.004769559018313885\n",
      "Iteration: 498 | disc_loss: -1.0014100074768066 | gen_loss: 0.053231269121170044\n",
      "Iteration: 499 | disc_loss: -1.0779104232788086 | gen_loss: 0.005411806050688028\n",
      "Iteration: 500 | disc_loss: -1.0924948453903198 | gen_loss: 0.17671430110931396\n"
     ]
    },
    {
     "name": "stderr",
     "output_type": "stream",
     "text": [
      "\n"
     ]
    }
   ],
   "source": [
    "#Generate synthetic data using ydata-synthetic open-source framework\n",
    "#For improved an optimized results reach our YData to know more about dedicated, scalable and optimized synthesizers.\n",
    "from ydata_synthetic.synthesizers.regular import WGAN_GP\n",
    "\n",
    "noise_dim = 32\n",
    "dim = 128\n",
    "batch_size = 100\n",
    "\n",
    "log_step = 100\n",
    "epochs = 500+1\n",
    "learning_rate = 1e-4\n",
    "beta_1 = 0.5\n",
    "beta_2 = 0.9\n",
    "models_dir = './cache'\n",
    "\n",
    "gan_args = [batch_size, learning_rate, beta_1, beta_2, noise_dim, fraud.shape[1]-1, dim]\n",
    "train_args = ['', epochs, log_step]\n",
    "\n",
    "fraud_synth = WGAN_GP(gan_args, n_critic=3)\n",
    "fraud_synth.train(fraud.drop('y', axis=1), train_args)\n",
    "\n",
    "synthetic_fraud = fraud_synth.sample(500)\n",
    "synthetic_fraud.columns = fraud.drop('y', axis=1).columns"
   ]
  },
  {
   "cell_type": "code",
   "execution_count": 32,
   "metadata": {},
   "outputs": [
    {
     "data": {
      "text/html": [
       "<div>\n",
       "<style scoped>\n",
       "    .dataframe tbody tr th:only-of-type {\n",
       "        vertical-align: middle;\n",
       "    }\n",
       "\n",
       "    .dataframe tbody tr th {\n",
       "        vertical-align: top;\n",
       "    }\n",
       "\n",
       "    .dataframe thead th {\n",
       "        text-align: right;\n",
       "    }\n",
       "</style>\n",
       "<table border=\"1\" class=\"dataframe\">\n",
       "  <thead>\n",
       "    <tr style=\"text-align: right;\">\n",
       "      <th></th>\n",
       "      <th>Time</th>\n",
       "      <th>V1</th>\n",
       "      <th>V2</th>\n",
       "      <th>V3</th>\n",
       "      <th>V4</th>\n",
       "      <th>V5</th>\n",
       "      <th>V6</th>\n",
       "      <th>V7</th>\n",
       "      <th>V8</th>\n",
       "      <th>V9</th>\n",
       "      <th>...</th>\n",
       "      <th>V20</th>\n",
       "      <th>V21</th>\n",
       "      <th>V22</th>\n",
       "      <th>V23</th>\n",
       "      <th>V24</th>\n",
       "      <th>V25</th>\n",
       "      <th>V26</th>\n",
       "      <th>V27</th>\n",
       "      <th>V28</th>\n",
       "      <th>Amount</th>\n",
       "    </tr>\n",
       "  </thead>\n",
       "  <tbody>\n",
       "    <tr>\n",
       "      <th>0</th>\n",
       "      <td>-0.366994</td>\n",
       "      <td>-6.814671</td>\n",
       "      <td>4.458257</td>\n",
       "      <td>-6.551041</td>\n",
       "      <td>2.597865</td>\n",
       "      <td>-3.660300</td>\n",
       "      <td>0.390746</td>\n",
       "      <td>-7.441010</td>\n",
       "      <td>-2.475354</td>\n",
       "      <td>-2.208043</td>\n",
       "      <td>...</td>\n",
       "      <td>0.779793</td>\n",
       "      <td>-1.230981</td>\n",
       "      <td>0.374189</td>\n",
       "      <td>0.398604</td>\n",
       "      <td>-0.050992</td>\n",
       "      <td>0.003190</td>\n",
       "      <td>-0.440757</td>\n",
       "      <td>-1.429551</td>\n",
       "      <td>-0.317580</td>\n",
       "      <td>-0.320352</td>\n",
       "    </tr>\n",
       "    <tr>\n",
       "      <th>1</th>\n",
       "      <td>-0.518752</td>\n",
       "      <td>-8.494321</td>\n",
       "      <td>5.295461</td>\n",
       "      <td>-8.237733</td>\n",
       "      <td>3.719440</td>\n",
       "      <td>-5.836199</td>\n",
       "      <td>-0.675629</td>\n",
       "      <td>-8.734824</td>\n",
       "      <td>0.124340</td>\n",
       "      <td>-3.160357</td>\n",
       "      <td>...</td>\n",
       "      <td>0.786593</td>\n",
       "      <td>0.310745</td>\n",
       "      <td>-0.031782</td>\n",
       "      <td>0.046177</td>\n",
       "      <td>0.490099</td>\n",
       "      <td>-0.058309</td>\n",
       "      <td>-0.218772</td>\n",
       "      <td>-1.126824</td>\n",
       "      <td>-0.284885</td>\n",
       "      <td>-0.147880</td>\n",
       "    </tr>\n",
       "    <tr>\n",
       "      <th>2</th>\n",
       "      <td>-0.059165</td>\n",
       "      <td>-8.831979</td>\n",
       "      <td>5.612186</td>\n",
       "      <td>-9.198966</td>\n",
       "      <td>3.648854</td>\n",
       "      <td>-6.635529</td>\n",
       "      <td>-0.487858</td>\n",
       "      <td>-9.175739</td>\n",
       "      <td>1.773921</td>\n",
       "      <td>-3.338804</td>\n",
       "      <td>...</td>\n",
       "      <td>0.353078</td>\n",
       "      <td>0.487574</td>\n",
       "      <td>-0.199402</td>\n",
       "      <td>0.303253</td>\n",
       "      <td>0.517982</td>\n",
       "      <td>0.336381</td>\n",
       "      <td>-0.005538</td>\n",
       "      <td>-1.277781</td>\n",
       "      <td>-0.269597</td>\n",
       "      <td>0.171131</td>\n",
       "    </tr>\n",
       "    <tr>\n",
       "      <th>3</th>\n",
       "      <td>0.034528</td>\n",
       "      <td>-2.306203</td>\n",
       "      <td>2.565661</td>\n",
       "      <td>-3.035423</td>\n",
       "      <td>2.075911</td>\n",
       "      <td>-0.514732</td>\n",
       "      <td>0.536680</td>\n",
       "      <td>-3.768511</td>\n",
       "      <td>-3.806537</td>\n",
       "      <td>-1.213886</td>\n",
       "      <td>...</td>\n",
       "      <td>0.475153</td>\n",
       "      <td>0.034756</td>\n",
       "      <td>-0.349536</td>\n",
       "      <td>0.510273</td>\n",
       "      <td>-0.042398</td>\n",
       "      <td>0.294710</td>\n",
       "      <td>-0.210990</td>\n",
       "      <td>-0.352888</td>\n",
       "      <td>0.264972</td>\n",
       "      <td>-0.394801</td>\n",
       "    </tr>\n",
       "    <tr>\n",
       "      <th>4</th>\n",
       "      <td>-0.162433</td>\n",
       "      <td>-6.709359</td>\n",
       "      <td>5.276760</td>\n",
       "      <td>-7.460644</td>\n",
       "      <td>3.413848</td>\n",
       "      <td>-4.819754</td>\n",
       "      <td>-0.785346</td>\n",
       "      <td>-7.589999</td>\n",
       "      <td>-0.641252</td>\n",
       "      <td>-2.269802</td>\n",
       "      <td>...</td>\n",
       "      <td>0.989905</td>\n",
       "      <td>0.130122</td>\n",
       "      <td>-0.278061</td>\n",
       "      <td>0.074794</td>\n",
       "      <td>0.373616</td>\n",
       "      <td>0.399245</td>\n",
       "      <td>-0.188386</td>\n",
       "      <td>-0.376612</td>\n",
       "      <td>0.068943</td>\n",
       "      <td>-0.142171</td>\n",
       "    </tr>\n",
       "  </tbody>\n",
       "</table>\n",
       "<p>5 rows × 30 columns</p>\n",
       "</div>"
      ],
      "text/plain": [
       "       Time        V1        V2        V3        V4        V5        V6  \\\n",
       "0 -0.366994 -6.814671  4.458257 -6.551041  2.597865 -3.660300  0.390746   \n",
       "1 -0.518752 -8.494321  5.295461 -8.237733  3.719440 -5.836199 -0.675629   \n",
       "2 -0.059165 -8.831979  5.612186 -9.198966  3.648854 -6.635529 -0.487858   \n",
       "3  0.034528 -2.306203  2.565661 -3.035423  2.075911 -0.514732  0.536680   \n",
       "4 -0.162433 -6.709359  5.276760 -7.460644  3.413848 -4.819754 -0.785346   \n",
       "\n",
       "         V7        V8        V9  ...       V20       V21       V22       V23  \\\n",
       "0 -7.441010 -2.475354 -2.208043  ...  0.779793 -1.230981  0.374189  0.398604   \n",
       "1 -8.734824  0.124340 -3.160357  ...  0.786593  0.310745 -0.031782  0.046177   \n",
       "2 -9.175739  1.773921 -3.338804  ...  0.353078  0.487574 -0.199402  0.303253   \n",
       "3 -3.768511 -3.806537 -1.213886  ...  0.475153  0.034756 -0.349536  0.510273   \n",
       "4 -7.589999 -0.641252 -2.269802  ...  0.989905  0.130122 -0.278061  0.074794   \n",
       "\n",
       "        V24       V25       V26       V27       V28    Amount  \n",
       "0 -0.050992  0.003190 -0.440757 -1.429551 -0.317580 -0.320352  \n",
       "1  0.490099 -0.058309 -0.218772 -1.126824 -0.284885 -0.147880  \n",
       "2  0.517982  0.336381 -0.005538 -1.277781 -0.269597  0.171131  \n",
       "3 -0.042398  0.294710 -0.210990 -0.352888  0.264972 -0.394801  \n",
       "4  0.373616  0.399245 -0.188386 -0.376612  0.068943 -0.142171  \n",
       "\n",
       "[5 rows x 30 columns]"
      ]
     },
     "execution_count": 32,
     "metadata": {},
     "output_type": "execute_result"
    }
   ],
   "source": [
    "synthetic_fraud.head()"
   ]
  },
  {
   "cell_type": "markdown",
   "metadata": {},
   "source": [
    "## Visualizing the generated synthetic data"
   ]
  },
  {
   "cell_type": "code",
   "execution_count": 33,
   "metadata": {},
   "outputs": [],
   "source": [
    "synth_df = synthetic_fraud.copy()\n",
    "org_df = X_train.copy()\n",
    "\n",
    "org_df['Class'] = y_train.reset_index()['Class']\n",
    "org_df['color'] = np.where(org_df['Class']==1, 2, 1)\n",
    "\n",
    "synth_df['Class'] = 1\n",
    "synth_df['color'] = 3\n",
    "\n",
    "full_data = pd.concat([org_df, synth_df])"
   ]
  },
  {
   "cell_type": "markdown",
   "metadata": {},
   "source": [
    "Using a PCA we are able to  reduce the dimensionality of the dataset and and better visualize the relation between both the synthetic fraud generated events and the ones from the original data, regardless they're fraud or normal events.\n",
    "\n",
    "The randomness introduced by the synthetic data can help the model to generalize for a new dataset and new fraud events never previously observed."
   ]
  },
  {
   "cell_type": "code",
   "execution_count": 34,
   "metadata": {},
   "outputs": [
    {
     "data": {
      "image/png": "[encoded data removed]",
      "text/plain": [
       "<Figure size 1080x720 with 1 Axes>"
      ]
     },
     "metadata": {
      "needs_background": "light"
     },
     "output_type": "display_data"
    }
   ],
   "source": [
    "from sklearn.preprocessing import StandardScaler\n",
    "from sklearn.decomposition import PCA\n",
    "\n",
    "X = full_data.iloc[:, :-2]\n",
    "color = full_data['color']\n",
    "\n",
    "fig = plt.figure(1, figsize=(15, 10))\n",
    "plt.clf()\n",
    "plt.cla()\n",
    "\n",
    "cmap = m.cm.jet(np.linspace(0,1,26))\n",
    "cmap = m.colors.ListedColormap(cmap[17:,:-1])\n",
    "\n",
    "pca = PCA(n_components=2)\n",
    "projected = pca.fit_transform(X)\n",
    "\n",
    "labels = ['Train Normal', 'Train Fraud', 'Synthetic Fraud']\n",
    "\n",
    "size_map = {1:25, 2:50, 3:75}\n",
    "sizes = [size_map[x] for x in color]\n",
    "\n",
    "scatter = plt.scatter(projected[:, 0], projected[:, 1],\n",
    "                      s=sizes,\n",
    "                      c=color,\n",
    "                      cmap=cmap,\n",
    "                      alpha=0.8)\n",
    "\n",
    "plt.legend(handles=scatter.legend_elements()[0], labels=labels)\n",
    "plt.show()"
   ]
  },
  {
   "cell_type": "markdown",
   "metadata": {},
   "source": [
    "### Testing the classifier capacity after adding more fraudulent events"
   ]
  },
  {
   "cell_type": "code",
   "execution_count": 35,
   "metadata": {},
   "outputs": [
    {
     "data": {
      "text/plain": [
       "(array([0, 1]), array([85296,   147]))"
      ]
     },
     "execution_count": 35,
     "metadata": {},
     "output_type": "execute_result"
    }
   ],
   "source": [
    "np.unique(y_test, return_counts=True)"
   ]
  },
  {
   "cell_type": "code",
   "execution_count": 36,
   "metadata": {},
   "outputs": [],
   "source": [
    "synth_y_train = synth_df['Class']\n",
    "synth_train = synth_df.drop(['Class', 'color'], axis=1)\n",
    "\n",
    "X_augmented = pd.concat([X_train, synth_train], axis=0)\n",
    "y_augmented = pd.concat([y_train, synth_y_train], axis=0)"
   ]
  },
  {
   "cell_type": "code",
   "execution_count": 37,
   "metadata": {},
   "outputs": [
    {
     "name": "stdout",
     "output_type": "stream",
     "text": [
      "Start fitting XGBoost classifier\n"
     ]
    },
    {
     "name": "stderr",
     "output_type": "stream",
     "text": [
      "/home/fabiana/miniconda3/envs/algorithmia/lib/python3.8/site-packages/xgboost/sklearn.py:888: UserWarning: The use of label encoder in XGBClassifier is deprecated and will be removed in a future release. To remove this warning, do the following: 1) Pass option use_label_encoder=False when constructing XGBClassifier object; and 2) Encode your labels (y) as integers starting with 0, i.e. 0, 1, 2, ..., [num_class - 1].\n",
      "  warnings.warn(label_encoder_deprecation_msg, UserWarning)\n"
     ]
    },
    {
     "name": "stdout",
     "output_type": "stream",
     "text": [
      "[19:48:30] WARNING: /home/conda/feedstock_root/build_artifacts/xgboost-split_1614844506100/work/src/learner.cc:1061: Starting in XGBoost 1.3.0, the default evaluation metric used with the objective 'binary:logistic' was changed from 'error' to 'logloss'. Explicitly set eval_metric if you'd like to restore the old behavior.\n",
      "Classifier trained.\n"
     ]
    }
   ],
   "source": [
    "synth_classmodel, y_pred = XGBoost_Classifier(X_augmented, y_augmented, X_test)"
   ]
  },
  {
   "cell_type": "code",
   "execution_count": 38,
   "metadata": {},
   "outputs": [
    {
     "name": "stdout",
     "output_type": "stream",
     "text": [
      "Overall accuracy score : 0.9995669627705019\n",
      "Classifier performance report: \n",
      "              precision    recall  f1-score   support\n",
      "\n",
      "      Normal       1.00      1.00      1.00     85296\n",
      "       Fraud       0.95      0.79      0.86       147\n",
      "\n",
      "    accuracy                           1.00     85443\n",
      "   macro avg       0.98      0.89      0.93     85443\n",
      "weighted avg       1.00      1.00      1.00     85443\n",
      "\n"
     ]
    }
   ],
   "source": [
    "# Print precision / recall report\n",
    "print('Overall accuracy score :',accuracy_score(y_test, y_pred))\n",
    "print('Classifier performance report: ')\n",
    "print(classification_report(y_test, y_pred, target_names=['Normal', 'Fraud']))"
   ]
  },
  {
   "cell_type": "code",
   "execution_count": 39,
   "metadata": {},
   "outputs": [
    {
     "data": {
      "image/png": "[encoded data removed]",
      "text/plain": [
       "<Figure size 1440x576 with 4 Axes>"
      ]
     },
     "metadata": {
      "needs_background": "light"
     },
     "output_type": "display_data"
    }
   ],
   "source": [
    "print_confusion_matrix(synth_classmodel, X_test, y_test)"
   ]
  },
  {
   "cell_type": "code",
   "execution_count": 40,
   "metadata": {},
   "outputs": [
    {
     "data": {
      "text/plain": [
       "XGBClassifier(base_score=0.5, booster='gbtree', colsample_bylevel=1,\n",
       "              colsample_bynode=1, colsample_bytree=1, gamma=0, gpu_id=-1,\n",
       "              importance_type='gain', interaction_constraints='',\n",
       "              learning_rate=0.300000012, max_delta_step=0, max_depth=6,\n",
       "              min_child_weight=1, missing=nan, monotone_constraints='()',\n",
       "              n_estimators=100, n_jobs=12, num_parallel_tree=1,\n",
       "              objective='binary:logistic', random_state=0, reg_alpha=0,\n",
       "              reg_lambda=1, scale_pos_weight=1, subsample=1,\n",
       "              tree_method='exact', use_label_encoder=True,\n",
       "              validate_parameters=1, verbosity=None)"
      ]
     },
     "execution_count": 40,
     "metadata": {},
     "output_type": "execute_result"
    }
   ],
   "source": [
    "synth_classmodel"
   ]
  },
  {
   "cell_type": "markdown",
   "metadata": {},
   "source": [
    "### Serialize the model with joblib"
   ]
  },
  {
   "cell_type": "code",
   "execution_count": 68,
   "metadata": {},
   "outputs": [
    {
     "data": {
      "text/plain": [
       "['xgb_with_synth.joblib']"
      ]
     },
     "execution_count": 68,
     "metadata": {},
     "output_type": "execute_result"
    }
   ],
   "source": [
    "import joblib\n",
    "joblib_model = \"xgb_with_synth.joblib\"\n",
    "joblib.dump(synth_classmodel, joblib_model)"
   ]
  },
  {
   "cell_type": "code",
   "execution_count": 69,
   "metadata": {},
   "outputs": [
    {
     "data": {
      "text/html": [
       "<div>\n",
       "<style scoped>\n",
       "    .dataframe tbody tr th:only-of-type {\n",
       "        vertical-align: middle;\n",
       "    }\n",
       "\n",
       "    .dataframe tbody tr th {\n",
       "        vertical-align: top;\n",
       "    }\n",
       "\n",
       "    .dataframe thead th {\n",
       "        text-align: right;\n",
       "    }\n",
       "</style>\n",
       "<table border=\"1\" class=\"dataframe\">\n",
       "  <thead>\n",
       "    <tr style=\"text-align: right;\">\n",
       "      <th></th>\n",
       "      <th>Time</th>\n",
       "      <th>V1</th>\n",
       "      <th>V2</th>\n",
       "      <th>V3</th>\n",
       "      <th>V4</th>\n",
       "      <th>V5</th>\n",
       "      <th>V6</th>\n",
       "      <th>V7</th>\n",
       "      <th>V8</th>\n",
       "      <th>V9</th>\n",
       "      <th>...</th>\n",
       "      <th>V22</th>\n",
       "      <th>V23</th>\n",
       "      <th>V24</th>\n",
       "      <th>V25</th>\n",
       "      <th>V26</th>\n",
       "      <th>V27</th>\n",
       "      <th>V28</th>\n",
       "      <th>Amount</th>\n",
       "      <th>Class</th>\n",
       "      <th>color</th>\n",
       "    </tr>\n",
       "  </thead>\n",
       "  <tbody>\n",
       "    <tr>\n",
       "      <th>0</th>\n",
       "      <td>0.343717</td>\n",
       "      <td>-0.132066</td>\n",
       "      <td>0.107044</td>\n",
       "      <td>-0.650588</td>\n",
       "      <td>-0.996032</td>\n",
       "      <td>1.814333</td>\n",
       "      <td>1.740740</td>\n",
       "      <td>0.496852</td>\n",
       "      <td>0.633016</td>\n",
       "      <td>0.017181</td>\n",
       "      <td>...</td>\n",
       "      <td>0.005292</td>\n",
       "      <td>0.251519</td>\n",
       "      <td>-2.466810</td>\n",
       "      <td>-0.889690</td>\n",
       "      <td>0.337462</td>\n",
       "      <td>0.306395</td>\n",
       "      <td>0.074817</td>\n",
       "      <td>-0.165692</td>\n",
       "      <td>0</td>\n",
       "      <td>1</td>\n",
       "    </tr>\n",
       "    <tr>\n",
       "      <th>1</th>\n",
       "      <td>0.594843</td>\n",
       "      <td>2.125994</td>\n",
       "      <td>0.014207</td>\n",
       "      <td>-1.514760</td>\n",
       "      <td>0.115021</td>\n",
       "      <td>0.598510</td>\n",
       "      <td>-0.333235</td>\n",
       "      <td>0.199289</td>\n",
       "      <td>-0.264353</td>\n",
       "      <td>0.384111</td>\n",
       "      <td>...</td>\n",
       "      <td>-0.788150</td>\n",
       "      <td>0.267730</td>\n",
       "      <td>0.066122</td>\n",
       "      <td>-0.135785</td>\n",
       "      <td>0.203841</td>\n",
       "      <td>-0.068267</td>\n",
       "      <td>-0.057678</td>\n",
       "      <td>-0.352239</td>\n",
       "      <td>0</td>\n",
       "      <td>1</td>\n",
       "    </tr>\n",
       "    <tr>\n",
       "      <th>2</th>\n",
       "      <td>0.479584</td>\n",
       "      <td>-0.086694</td>\n",
       "      <td>0.166240</td>\n",
       "      <td>1.573127</td>\n",
       "      <td>0.687266</td>\n",
       "      <td>0.222359</td>\n",
       "      <td>1.102606</td>\n",
       "      <td>1.575093</td>\n",
       "      <td>-1.098608</td>\n",
       "      <td>0.763887</td>\n",
       "      <td>...</td>\n",
       "      <td>1.063663</td>\n",
       "      <td>-0.410841</td>\n",
       "      <td>0.722723</td>\n",
       "      <td>-0.171733</td>\n",
       "      <td>-0.613543</td>\n",
       "      <td>-1.201571</td>\n",
       "      <td>-1.139931</td>\n",
       "      <td>0.330886</td>\n",
       "      <td>0</td>\n",
       "      <td>1</td>\n",
       "    </tr>\n",
       "    <tr>\n",
       "      <th>3</th>\n",
       "      <td>-0.599866</td>\n",
       "      <td>1.352339</td>\n",
       "      <td>-0.534984</td>\n",
       "      <td>0.555143</td>\n",
       "      <td>-0.629355</td>\n",
       "      <td>-1.144170</td>\n",
       "      <td>-0.852967</td>\n",
       "      <td>-0.642128</td>\n",
       "      <td>-0.032659</td>\n",
       "      <td>-0.654482</td>\n",
       "      <td>...</td>\n",
       "      <td>-0.180379</td>\n",
       "      <td>0.178112</td>\n",
       "      <td>0.347720</td>\n",
       "      <td>0.151810</td>\n",
       "      <td>-0.404361</td>\n",
       "      <td>0.013746</td>\n",
       "      <td>0.016152</td>\n",
       "      <td>-0.336067</td>\n",
       "      <td>0</td>\n",
       "      <td>1</td>\n",
       "    </tr>\n",
       "    <tr>\n",
       "      <th>4</th>\n",
       "      <td>0.710242</td>\n",
       "      <td>-1.526760</td>\n",
       "      <td>0.647782</td>\n",
       "      <td>0.615391</td>\n",
       "      <td>-0.561114</td>\n",
       "      <td>0.836950</td>\n",
       "      <td>-0.514251</td>\n",
       "      <td>0.984325</td>\n",
       "      <td>-0.097430</td>\n",
       "      <td>-0.062634</td>\n",
       "      <td>...</td>\n",
       "      <td>-0.393158</td>\n",
       "      <td>-0.214990</td>\n",
       "      <td>0.588447</td>\n",
       "      <td>0.679496</td>\n",
       "      <td>0.518434</td>\n",
       "      <td>0.065022</td>\n",
       "      <td>0.147294</td>\n",
       "      <td>0.005211</td>\n",
       "      <td>0</td>\n",
       "      <td>1</td>\n",
       "    </tr>\n",
       "  </tbody>\n",
       "</table>\n",
       "<p>5 rows × 32 columns</p>\n",
       "</div>"
      ],
      "text/plain": [
       "       Time        V1        V2        V3        V4        V5        V6  \\\n",
       "0  0.343717 -0.132066  0.107044 -0.650588 -0.996032  1.814333  1.740740   \n",
       "1  0.594843  2.125994  0.014207 -1.514760  0.115021  0.598510 -0.333235   \n",
       "2  0.479584 -0.086694  0.166240  1.573127  0.687266  0.222359  1.102606   \n",
       "3 -0.599866  1.352339 -0.534984  0.555143 -0.629355 -1.144170 -0.852967   \n",
       "4  0.710242 -1.526760  0.647782  0.615391 -0.561114  0.836950 -0.514251   \n",
       "\n",
       "         V7        V8        V9  ...       V22       V23       V24       V25  \\\n",
       "0  0.496852  0.633016  0.017181  ...  0.005292  0.251519 -2.466810 -0.889690   \n",
       "1  0.199289 -0.264353  0.384111  ... -0.788150  0.267730  0.066122 -0.135785   \n",
       "2  1.575093 -1.098608  0.763887  ...  1.063663 -0.410841  0.722723 -0.171733   \n",
       "3 -0.642128 -0.032659 -0.654482  ... -0.180379  0.178112  0.347720  0.151810   \n",
       "4  0.984325 -0.097430 -0.062634  ... -0.393158 -0.214990  0.588447  0.679496   \n",
       "\n",
       "        V26       V27       V28    Amount  Class  color  \n",
       "0  0.337462  0.306395  0.074817 -0.165692      0      1  \n",
       "1  0.203841 -0.068267 -0.057678 -0.352239      0      1  \n",
       "2 -0.613543 -1.201571 -1.139931  0.330886      0      1  \n",
       "3 -0.404361  0.013746  0.016152 -0.336067      0      1  \n",
       "4  0.518434  0.065022  0.147294  0.005211      0      1  \n",
       "\n",
       "[5 rows x 32 columns]"
      ]
     },
     "execution_count": 69,
     "metadata": {},
     "output_type": "execute_result"
    }
   ],
   "source": [
    "full_data.head()"
   ]
  },
  {
   "cell_type": "markdown",
   "metadata": {},
   "source": [
    "### Create sample inputs and test them\n"
   ]
  },
  {
   "cell_type": "code",
   "execution_count": 70,
   "metadata": {},
   "outputs": [],
   "source": [
    "#Create sample inputs for both \"Fraudulent\" and \"Genuine\" transactions\n",
    "\n",
    "sample_input = credit[credit[\"Class\"]==0].iloc[0:1].drop(\"Class\", axis=1)\n",
    "sample_input1 = credit[credit[\"Class\"]==1].iloc[0:1].drop(\"Class\", axis=1)\n",
    "\n",
    "sample_input.to_csv(\"sample_input.csv\", index=False)\n",
    "sample_input1.to_csv(\"sample_input1.csv\", index=False)"
   ]
  },
  {
   "cell_type": "code",
   "execution_count": 71,
   "metadata": {},
   "outputs": [
    {
     "data": {
      "text/plain": [
       "array([0])"
      ]
     },
     "execution_count": 71,
     "metadata": {},
     "output_type": "execute_result"
    }
   ],
   "source": [
    "import pandas as pd\n",
    "import numpy as np\n",
    "\n",
    "sample_input = pd.read_csv(\"sample_input.csv\")\n",
    "\n",
    "#Test sample prediction\n",
    "\n",
    "xgb_synth = joblib.load('xgb_with_synth.joblib')\n",
    "xgb_synth.predict(sample_input)"
   ]
  },
  {
   "cell_type": "code",
   "execution_count": 72,
   "metadata": {},
   "outputs": [
    {
     "data": {
      "text/plain": [
       "array([1])"
      ]
     },
     "execution_count": 72,
     "metadata": {},
     "output_type": "execute_result"
    }
   ],
   "source": [
    "sample_input1 = pd.read_csv(\"sample_input1.csv\")\n",
    "xgb_synth.predict(sample_input1)"
   ]
  },
  {
   "cell_type": "markdown",
   "metadata": {},
   "source": [
    "# Algorithmia\n",
    "\n",
    "This part of the notebook creates a Data Collection on Algorithmia for storing the Data .csv files and the model pickle files.\n",
    "Once the pickled model is uploaded, an Algorithm needs to be created from the Algorithmia Web IDE or your PC\n",
    "\n",
    "It requires that you have created a free Algorithmia account first, to run this code.\n",
    "\n",
    "Note your Username, Password and API key for the Algorithmia account"
   ]
  },
  {
   "cell_type": "code",
   "execution_count": 113,
   "metadata": {},
   "outputs": [
    {
     "name": "stdout",
     "output_type": "stream",
     "text": [
      "Collecting package metadata (current_repodata.json): done\n",
      "Solving environment: done\n",
      "\n",
      "# All requested packages already installed.\n",
      "\n",
      "Requirement already satisfied: algorithmia==1.7.8 in /opt/conda/lib/python3.7/site-packages (1.7.8)\n",
      "Requirement already satisfied: argparse in /opt/conda/lib/python3.7/site-packages (from algorithmia==1.7.8) (1.4.0)\n",
      "Requirement already satisfied: toml in /opt/conda/lib/python3.7/site-packages (from algorithmia==1.7.8) (0.10.2)\n",
      "Requirement already satisfied: enum-compat in /opt/conda/lib/python3.7/site-packages (from algorithmia==1.7.8) (0.0.3)\n",
      "Requirement already satisfied: requests in /opt/conda/lib/python3.7/site-packages (from algorithmia==1.7.8) (2.25.1)\n",
      "Requirement already satisfied: six in /opt/conda/lib/python3.7/site-packages (from algorithmia==1.7.8) (1.15.0)\n",
      "Requirement already satisfied: algorithmia-api-client==1.3.1 in /opt/conda/lib/python3.7/site-packages (from algorithmia==1.7.8) (1.3.1)\n",
      "Requirement already satisfied: idna<3,>=2.5 in /opt/conda/lib/python3.7/site-packages (from requests->algorithmia==1.7.8) (2.10)\n",
      "Requirement already satisfied: chardet<5,>=3.0.2 in /opt/conda/lib/python3.7/site-packages (from requests->algorithmia==1.7.8) (4.0.0)\n",
      "Requirement already satisfied: urllib3<1.27,>=1.21.1 in /opt/conda/lib/python3.7/site-packages (from requests->algorithmia==1.7.8) (1.25.11)\n",
      "Requirement already satisfied: certifi>=2017.4.17 in /opt/conda/lib/python3.7/site-packages (from requests->algorithmia==1.7.8) (2020.6.20)\n",
      "Requirement already satisfied: python-dateutil in /opt/conda/lib/python3.7/site-packages (from algorithmia-api-client==1.3.1->algorithmia==1.7.8) (2.8.1)\n"
     ]
    }
   ],
   "source": [
    "!conda install -y -c anaconda pip\n",
    "!pip install algorithmia==1.7.8"
   ]
  },
  {
   "cell_type": "code",
   "execution_count": 114,
   "metadata": {},
   "outputs": [],
   "source": [
    "### Setup Algorithmia Credentials\n",
    "\n",
    "# Enter Your Algorithmia API key\n",
    "api_key = \"simXXXXXXXXXXXXXXXXXXXXXXXXX-enter-your-api-key\"\n",
    "\n",
    "# Create an API key with BOTH \"Read & Write Data\" and \"Manage Algorithms\":\n",
    "# https://algorithmia.com/user#credentials\n",
    "\n",
    "# Define your username & algorithm name, this will be used later\n",
    "username = \"your-username\"   #Enter your username here\n",
    "algoname = \"xgboost_with_synthetic_data\"   #Enter your algorithm name here\n",
    "\n",
    "if username == \"username\":\n",
    "    raise Exception(\"Don't forget to provide your username!\")\n",
    "elif api_key == \"simXXXXXXXXXXXXXXXXXXXXXXXXX\":\n",
    "    raise Exception(\"Don't forget to provide your API key\")"
   ]
  },
  {
   "cell_type": "code",
   "execution_count": 115,
   "metadata": {},
   "outputs": [],
   "source": [
    "import Algorithmia\n",
    "from Algorithmia.errors import AlgorithmException\n",
    "\n",
    "data_path = \"data://.my/ydata_demo\"\n",
    "\n",
    "# Create a new algorithmia client\n",
    "client = Algorithmia.client(api_key)"
   ]
  },
  {
   "cell_type": "code",
   "execution_count": 116,
   "metadata": {},
   "outputs": [
    {
     "data": {
      "text/plain": [
       "True"
      ]
     },
     "execution_count": 116,
     "metadata": {},
     "output_type": "execute_result"
    }
   ],
   "source": [
    "# Create data collection if it doesn't exist\n",
    "if not client.dir(data_path).exists():\n",
    "    client.dir(data_path).create()\n",
    "\n",
    "from Algorithmia.acl import ReadAcl, AclType\n",
    "\n",
    "# Instantiate a DataDirectory object, set your data URI and call create\n",
    "data_dir = client.dir(data_path)\n",
    "\n",
    "# Change permissions on your data collection to public\n",
    "data_dir.update_permissions(ReadAcl.public)"
   ]
  },
  {
   "cell_type": "code",
   "execution_count": 117,
   "metadata": {},
   "outputs": [],
   "source": [
    "#Upload Model and Sample Inputs to Algorithmia Data Collection\n",
    "\n",
    "data_model_name = \"{}/{}\".format(data_path, joblib_model)\n",
    "_ = client.file(data_model_name).putFile(joblib_model)\n",
    "\n",
    "sample_input_path = \"{}/sample_input.csv\".format(data_path)\n",
    "_ = client.file(sample_input_path).putFile(\"./sample_input.csv\")\n",
    "\n",
    "sample_input_path1 = \"{}/sample_input1.csv\".format(data_path)\n",
    "_ = client.file(sample_input_path1).putFile(\"./sample_input1.csv\")\n"
   ]
  },
  {
   "cell_type": "code",
   "execution_count": 121,
   "metadata": {},
   "outputs": [],
   "source": [
    "#Create the Algorithm\n",
    "\n",
    "# Algorithms are refered with the following schema: username/algoname\n",
    "algo_namespace = \"{}/{}\".format(username, algoname)\n",
    "\n",
    "# Here are some details you can define for your algorithm\n",
    "details = {\n",
    "    \"summary\": \"Fraud Prediction with a synthetic data training boost\",\n",
    "    \"label\": \"Credit Card Fraud Prediction\",\n",
    "    \"tagline\": '[\"Synthetic Data\", \"YData\", \"Credit Card\", \"Fraud Prediction\", \"XGBoost\"]'\n",
    "}\n",
    "\n",
    "settings = {\n",
    "    \"source_visibility\": \"open\",\n",
    "    \"package_set\": \"tensorflow-gpu-1.13\",\n",
    "    \"license\": \"apl\",\n",
    "    \"network_access\": \"full\",\n",
    "    \"pipeline_enabled\": True\n",
    "}"
   ]
  },
  {
   "cell_type": "code",
   "execution_count": 122,
   "metadata": {},
   "outputs": [
    {
     "name": "stdout",
     "output_type": "stream",
     "text": [
      "Algorithm namepace: demoydata/xgboost_with_synthetic_data\n"
     ]
    }
   ],
   "source": [
    "# Let's also provide a sample input for our algorithm\n",
    "version_info = {\n",
    "    \"sample_input\": \"data://{}/ydata_demo/sample_input.csv\".format(username)\n",
    "}\n",
    "\n",
    "print(\"Algorithm namepace: {}\".format(algo_namespace))"
   ]
  },
  {
   "cell_type": "code",
   "execution_count": 123,
   "metadata": {},
   "outputs": [
    {
     "data": {
      "text/plain": [
       "{'details': {'label': '[\"Synthetic Data\", \"YData\", \"Credit Card\", \"Fraud '\n",
       "                      'Prediction\", \"XGBoost\"]',\n",
       "             'summary': 'Fraud Prediction with a synthetic data training boost',\n",
       "             'tagline': 'Credit Card Fraud Prediction'},\n",
       " 'id': '0ae390ee-b793-4aff-aae5-433b05e1619c',\n",
       " 'name': 'xgboost_with_synthetic_data',\n",
       " 'self_link': None,\n",
       " 'settings': {'algorithm_callability': 'private',\n",
       "              'algorithm_environment': '10e22c9d-2833-4b3b-b06d-a0d90a434a75',\n",
       "              'environment': None,\n",
       "              'language': None,\n",
       "              'license': 'apl',\n",
       "              'network_access': 'full',\n",
       "              'package_set': 'tensorflow-gpu-1.13',\n",
       "              'pipeline_enabled': True,\n",
       "              'royalty_microcredits': None,\n",
       "              'source_visibility': 'open'},\n",
       " 'source': {'repository_https_url': None,\n",
       "            'repository_name': None,\n",
       "            'repository_owner': None,\n",
       "            'repository_ssh_url': None,\n",
       "            'scm': {'default': True,\n",
       "                    'enabled': True,\n",
       "                    'id': 'internal',\n",
       "                    'oauth': None,\n",
       "                    'provider': 'internal',\n",
       "                    'urls': None}}}"
      ]
     },
     "execution_count": 123,
     "metadata": {},
     "output_type": "execute_result"
    }
   ],
   "source": [
    "# Create a new algorithm\n",
    "client.algo(algo_namespace).create(details, settings, version_info)"
   ]
  },
  {
   "cell_type": "markdown",
   "metadata": {},
   "source": [
    "## Further steps\n",
    "\n",
    "The files in the Algorithmia algorithm need to be modified for your algo to run properly\n",
    "Either the YData Labs Git extension, the Algorithmia IDE or the YData Labs terminal needs to be used.\n",
    "\n",
    "### Instructions for YData Labs Git\n",
    "\n",
    "- Click on the 'Git' tab in the left side-bar, and the click on 'Clone a Repository'\n",
    "- Enter the link for your algorithm Git repository, with the generic format\n",
    "\n",
    "https://git.algorithmia.com/git/username/algorithmname.git\n",
    "\n",
    "- Enter your Algorithmia username and password for authentication\n",
    "\n",
    "The Algorithm repository will be cloned inside your current directory\n",
    "\n",
    "### Instructions for YData Labs Terminal\n",
    "Clone the Algorithm repository (It'll ask for your algorithmia account username and password) -\n",
    "\n",
    "`$ git clone https://git.algorithmia.com/git/demoydata/xgboost_with_synthetic_data.git`\n",
    "\n",
    "or using the YData Labs Git extension\n",
    "\n",
    "Go inside the Repository directory\n",
    "\n",
    "Edit the following files -\n",
    "- requirements.txt\n",
    "- src/xgboost_with_synthetic_data.py\n",
    "- src/xgboost_with_synthetic_data_test.py"
   ]
  },
  {
   "cell_type": "code",
   "execution_count": 139,
   "metadata": {},
   "outputs": [
    {
     "name": "stdout",
     "output_type": "stream",
     "text": [
      "Overwriting ./xgboost_with_synthetic_data/requirements.txt\n"
     ]
    }
   ],
   "source": [
    "%%writefile \"./xgboost_with_synthetic_data/requirements.txt\"\n",
    "\n",
    "algorithmia==1.7.8\n",
    "numpy==1.19.2\n",
    "pandas==1.1.5\n",
    "xgboost==1.2.1\n",
    "fsspec==0.8.5\n",
    "joblib==1.0.0\n",
    "scikit-learn==0.23.0\n",
    "six==1.15.0"
   ]
  },
  {
   "cell_type": "code",
   "execution_count": 140,
   "metadata": {},
   "outputs": [
    {
     "name": "stdout",
     "output_type": "stream",
     "text": [
      "Overwriting ./xgboost_with_synthetic_data/src/xgboost_with_synthetic_data_test.py\n"
     ]
    }
   ],
   "source": [
    "%%writefile \"./xgboost_with_synthetic_data/src/xgboost_with_synthetic_data_test.py\"\n",
    "\n",
    "import Algorithmia\n",
    "import numpy as np\n",
    "import pandas as pd\n",
    "import joblib\n",
    "from xgboost import XGBClassifier\n",
    "\n",
    "\n",
    "client = Algorithmia.client()\n",
    "\n",
    "def load_model():\n",
    "    # Get file by name\n",
    "    # Open file and load model\n",
    "    file_path = 'data://demoydata/ydata_demo/xgb_with_synth.joblib'\n",
    "    model_path = client.file(file_path).getFile().name\n",
    "\n",
    "    # # Open file and load model\n",
    "\n",
    "    with open(model_path, 'rb') as f:\n",
    "         model = joblib.load(f)\n",
    "         print(\"model loaded\")\n",
    "\n",
    "    #model = joblib.load(model_path)\n",
    "    return model\n",
    "\n",
    "model = load_model()\n",
    "\n",
    "\n",
    "def process_input(input):\n",
    "    # Create numpy array from csv file passed as input in apply()\n",
    "\n",
    "    file_url=str(input)\n",
    "\n",
    "    if input.startswith('data:'):\n",
    "        file_url = client.file(input).getFile().name\n",
    "\n",
    "    return pd.read_csv(file_url)\n",
    "\n",
    "\n",
    "def apply(input):\n",
    "    data_sample = process_input(input)\n",
    "    prediction = model.predict(data_sample)\n",
    "\n",
    "    if(list(prediction)[0] == 1):\n",
    "        return \"Fraud\"\n",
    "\n",
    "    return \"Genuine\""
   ]
  },
  {
   "cell_type": "code",
   "execution_count": 141,
   "metadata": {},
   "outputs": [
    {
     "name": "stdout",
     "output_type": "stream",
     "text": [
      "Overwriting ./xgboost_with_synthetic_data/src/xgboost_with_synthetic_data_test.py\n"
     ]
    }
   ],
   "source": [
    "%%writefile \"./xgboost_with_synthetic_data/src/xgboost_with_synthetic_data_test.py\"\n",
    "\n",
    "from .xgboost_with_synthetic_data import apply\n",
    "\n",
    "def test_algorithm():\n",
    "    file_path = 'data://demoydata/ydata_demo/sample_input.csv'\n",
    "    input = client.file(file_path).getFile().name\n",
    "    result = apply(input)\n",
    "    assert result == \"Genuine\""
   ]
  },
  {
   "cell_type": "markdown",
   "metadata": {},
   "source": [
    "\n",
    "\n",
    "\n",
    "\n",
    "Push the repository files back to Algorithmia to build the algorithm -\n",
    "\n",
    "\n",
    "\n",
    "\n",
    "### Using YData Labs Git extension\n",
    "- Enter the repository directory (\"xgboost_with_syntetic_data\" for this demo)\n",
    "- Click on the 'Git' button in the left side-bar\n",
    "- It will display the tracked changes\n",
    "- Click on the \"+\" icon in the 'Changed' files section which you want to commit\n",
    "- Those files should now be visible in the 'Staged' files section\n",
    "- Enter the summary and description and click on \"Commit\"\n",
    "- Enter your Algorithmia username and password\n",
    "- Once the changes have been comitted, click on \"Push\" changes in the top left corner to Push them to algorithmia\n",
    "\n",
    "\n",
    "\n",
    "\n",
    "\n",
    "### Using the YData Labs Terminal\n",
    "\n",
    "Run the following commands to Push the changes to Algorithmia\n",
    "\n",
    "`$ git remote add algo https://git.algorithmia.com/git/rujual/xgboost_with_synthetic_data.git`\n",
    "\n",
    "`$ git commit -m \"Commit on: <Date>\"`\n",
    "\n",
    "`$ git push algo master`\n",
    "\n",
    "Algorithmia automatically executes a \"Build\" when changes are pushed into the repository\n",
    "\n"
   ]
  },
  {
   "cell_type": "markdown",
   "metadata": {},
   "source": [
    "\n",
    "\n",
    "### Instructions for Algorithmia IDE\n",
    "\n",
    "Enter the Algorithmia IDE for the algorithm by navigating to `https://algorithmia.com/algorithms/<username>/<algoname>/source`\n",
    "\n",
    "For this algorithm - https://algorithmia.com/algorithms/rujual/xgboost_with_synthetic_data/source\n",
    "\n",
    "\n",
    "Edit the following files (for this algorithm, just copy-paste the code for the same files in the Notebook cells above into your version) -\n",
    "- requirements.txt\n",
    "- src/xgboost_with_synthetic_data.py\n",
    "- src/xgboost_with_synthetic_data_test.py\n",
    "\n",
    "Edit the \"Dependencies\" file also same as the \"requirements.txt\" file\n",
    "\n",
    "Click on \"Build\""
   ]
  },
  {
   "cell_type": "markdown",
   "metadata": {},
   "source": [
    "# Test the Algorithm"
   ]
  },
  {
   "cell_type": "code",
   "execution_count": 7,
   "metadata": {},
   "outputs": [
    {
     "name": "stdout",
     "output_type": "stream",
     "text": [
      "Fraud\n"
     ]
    }
   ],
   "source": [
    "import Algorithmia\n",
    "\n",
    "username = \"rujual\"\n",
    "input = \"data://{}/ydata_demo/sample_input1.csv\".format(username)\n",
    "client = Algorithmia.client('simvxMn0MiL3T+AwwNPcR/xQL801')\n",
    "algo = client.algo('{}/xgboost_with_synthetic_data/1.0.0'.format(username))\n",
    "algo.set_options(timeout=300) # optional\n",
    "print(algo.pipe(input).result)"
   ]
  },
  {
   "cell_type": "code",
   "execution_count": 8,
   "metadata": {},
   "outputs": [
    {
     "name": "stdout",
     "output_type": "stream",
     "text": [
      "Genuine\n"
     ]
    }
   ],
   "source": [
    "import Algorithmia\n",
    "\n",
    "input = \"data://{}/ydata_demo/sample_input.csv\".format(username)\n",
    "client = Algorithmia.client('simvxMn0MiL3T+AwwNPcR/xQL801')\n",
    "algo = client.algo('{}/xgboost_with_synthetic_data/1.0.0'.format(username))\n",
    "algo.set_options(timeout=300) # optional\n",
    "print(algo.pipe(input).result)"
   ]
  }
 ],
 "metadata": {
  "kernelspec": {
   "display_name": "Python 3",
   "language": "python",
   "name": "python3"
  },
  "language_info": {
   "codemirror_mode": {
    "name": "ipython",
    "version": 3
   },
   "file_extension": ".py",
   "mimetype": "text/x-python",
   "name": "python",
   "nbconvert_exporter": "python",
   "pygments_lexer": "ipython3",
   "version": "3.8.8"
  }
 },
 "nbformat": 4,
 "nbformat_minor": 4
}
