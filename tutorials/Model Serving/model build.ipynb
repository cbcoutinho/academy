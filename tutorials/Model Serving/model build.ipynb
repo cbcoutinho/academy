{
 "cells": [
  {
   "cell_type": "code",
   "execution_count": 4,
   "metadata": {},
   "outputs": [
    {
     "name": "stdout",
     "output_type": "stream",
     "text": [
      "Collecting scikit-learn==0.20.3\n",
      "  Downloading scikit_learn-0.20.3-cp37-cp37m-manylinux1_x86_64.whl (5.4 MB)\n",
      "\u001b[K     |████████████████████████████████| 5.4 MB 8.4 MB/s eta 0:00:01\n",
      "\u001b[?25hRequirement already up-to-date: joblib==0.17.0 in /opt/conda/lib/python3.7/site-packages (0.17.0)\n",
      "Collecting numpy==1.19.4\n",
      "  Downloading numpy-1.19.4-cp37-cp37m-manylinux2010_x86_64.whl (14.5 MB)\n",
      "\u001b[K     |████████████████████████████████| 14.5 MB 74.5 MB/s eta 0:00:01\n",
      "\u001b[?25hRequirement already satisfied, skipping upgrade: scipy>=0.13.3 in /opt/conda/lib/python3.7/site-packages (from scikit-learn==0.20.3) (1.5.4)\n",
      "Installing collected packages: numpy, scikit-learn\n",
      "  Attempting uninstall: numpy\n",
      "    Found existing installation: numpy 1.18.5\n",
      "    Uninstalling numpy-1.18.5:\n",
      "      Successfully uninstalled numpy-1.18.5\n",
      "  Attempting uninstall: scikit-learn\n",
      "    Found existing installation: scikit-learn 0.23.2\n",
      "    Uninstalling scikit-learn-0.23.2:\n",
      "      Successfully uninstalled scikit-learn-0.23.2\n",
      "\u001b[31mERROR: After October 2020 you may experience errors when installing or updating packages. This is because pip will change the way that it resolves dependency conflicts.\n",
      "\n",
      "We recommend you use --use-feature=2020-resolver to test your packages with the new resolver before it becomes the default.\n",
      "\n",
      "tensorflow-cpu 2.3.1 requires numpy<1.19.0,>=1.16.0, but you'll have numpy 1.19.4 which is incompatible.\u001b[0m\n",
      "Successfully installed numpy-1.19.4 scikit-learn-0.20.3\n"
     ]
    }
   ],
   "source": [
    "#Package versions required for succesful model unpack inside the KFserving container\n",
    "\n",
    "!pip install --upgrade scikit-learn==0.20.3 joblib==0.17.0 numpy==1.19.4"
   ]
  },
  {
   "cell_type": "code",
   "execution_count": null,
   "metadata": {},
   "outputs": [],
   "source": [
    "import pickle\n",
    "#imported in randomforest\n",
    "import warnings\n",
    "warnings.filterwarnings(\"ignore\")\n",
    "import pandas as pd\n",
    "import numpy as np\n",
    "from sklearn.ensemble import RandomForestClassifier\n",
    "import joblib\n",
    "\n",
    "#Read Data\n",
    "data_path=('Data.csv')\n",
    "df_churn1 = pd.read_csv(data_path)\n",
    "\n",
    "#Data Encoding for Random Forest Model\n",
    "def convert_data(df_churn):\n",
    "    empty_cols=['customerID', 'gender', 'SeniorCitizen', 'Partner', 'Dependents',\n",
    "           'tenure', 'PhoneService', 'MultipleLines', 'InternetService',\n",
    "           'OnlineSecurity', 'OnlineBackup', 'DeviceProtection','TechSupport',\n",
    "           'StreamingTV', 'StreamingMovies', 'Contract', 'PaperlessBilling',\n",
    "           'PaymentMethod', 'MonthlyCharges', 'TotalCharges', 'Churn']\n",
    "    for i in empty_cols:\n",
    "        df_churn[i]=df_churn[i].replace(\" \",np.nan)\n",
    "\n",
    "    df_churn.drop('cluster_number', axis=1, inplace=True)\n",
    "    df_churn.drop('customerID', axis=1, inplace=True)\n",
    "    df_churn=df_churn.dropna()\n",
    "    \n",
    "    #Binary Encoding\n",
    "    binary_cols=['Partner','Dependents','PhoneService','PaperlessBilling']\n",
    "\n",
    "    for i in binary_cols:\n",
    "        df_churn[i]=df_churn[i].replace({\"Yes\":1,\"No\":0})\n",
    "\n",
    "    #Encoding column 'gender'\n",
    "    df_churn['gender']=df_churn['gender'].replace({\"Male\":1,\"Female\":0})\n",
    "\n",
    "    #Categorical Encoding\n",
    "    category_cols=['PaymentMethod','MultipleLines','InternetService','OnlineSecurity','OnlineBackup','DeviceProtection','TechSupport','StreamingTV','StreamingMovies','Contract']\n",
    "\n",
    "    for cc in category_cols:\n",
    "        dummies = pd.get_dummies(df_churn[cc], drop_first=False)\n",
    "        dummies = dummies.add_prefix(\"{}#\".format(cc))\n",
    "        df_churn.drop(cc, axis=1, inplace=True)\n",
    "        df_churn = df_churn.join(dummies)\n",
    "    df_churn['Churn']=df_churn['Churn'].replace({\"Yes\":1,\"No\":0})\n",
    "    return df_churn\n",
    "\n",
    "\n",
    "df_churn2 = convert_data(df_churn1)\n",
    "df_churn2.to_csv('Data_modified.csv', index=False)\n",
    "print('Converting done!')"
   ]
  },
  {
   "cell_type": "code",
   "execution_count": null,
   "metadata": {},
   "outputs": [],
   "source": [
    "#random forest code\n",
    "\n",
    "print('process started')\n",
    "\n",
    "data_path1 = ('Data_modified.csv')\n",
    "df = pd.read_csv(data_path1)\n",
    "\n",
    "X = df.loc[:, df.columns != 'Churn']\n",
    "y = df.loc[:, df.columns == 'Churn']\n",
    "\n",
    "rfc_best=RandomForestClassifier(random_state=42, max_features='auto', n_estimators= 50, max_depth=8,\n",
    "                                criterion='gini')\n",
    "\n",
    "rfc_best.fit(X, y)\n",
    "\n",
    "filename = 'finalized_model.sav'\n",
    "pickle.dump(rfc_best, open(filename, 'wb'))\n",
    "joblib.dump(rfc_best, open('model.joblib', 'wb'))\n",
    "print('dump complete')\n"
   ]
  }
 ],
 "metadata": {
  "kernelspec": {
   "display_name": "Python 3",
   "language": "python",
   "name": "python3"
  },
  "language_info": {
   "codemirror_mode": {
    "name": "ipython",
    "version": 3
   },
   "file_extension": ".py",
   "mimetype": "text/x-python",
   "name": "python",
   "nbconvert_exporter": "python",
   "pygments_lexer": "ipython3",
   "version": "3.7.4"
  }
 },
 "nbformat": 4,
 "nbformat_minor": 4
}
