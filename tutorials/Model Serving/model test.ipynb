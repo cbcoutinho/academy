{
 "cells": [
  {
   "cell_type": "code",
   "execution_count": 1,
   "metadata": {},
   "outputs": [
    {
     "name": "stdout",
     "output_type": "stream",
     "text": [
      "Churn Flag: 0\n",
      " \n",
      " Class Probabilities:\n",
      "'Churn=0'- 0.524548935073805\n",
      "'Churn=1' - 0.47545106492619493\n"
     ]
    },
    {
     "name": "stderr",
     "output_type": "stream",
     "text": [
      "/opt/conda/lib/python3.7/site-packages/sklearn/base.py:334: UserWarning: Trying to unpickle estimator DecisionTreeClassifier from version 0.22.1 when using version 0.23.2. This might lead to breaking code or invalid results. Use at your own risk.\n",
      "  UserWarning)\n",
      "/opt/conda/lib/python3.7/site-packages/sklearn/base.py:334: UserWarning: Trying to unpickle estimator RandomForestClassifier from version 0.22.1 when using version 0.23.2. This might lead to breaking code or invalid results. Use at your own risk.\n",
      "  UserWarning)\n"
     ]
    }
   ],
   "source": [
    "import numpy as np\n",
    "import pandas as pd\n",
    "import pickle\n",
    "from sklearn.preprocessing import LabelEncoder\n",
    "from sklearn.preprocessing import OneHotEncoder\n",
    "import joblib\n",
    "\n",
    "def read_data(data_path):\n",
    "    df1 = pd.read_csv(data_path)\n",
    "    df1.replace(' ', '0', inplace=True)\n",
    "    return df1\n",
    "\n",
    "\n",
    "df_original = read_data('Data.csv')\n",
    "\n",
    "rfc_best = joblib.load('./model.joblib')\n",
    "df_sear = pd.read_csv('Singleuser.csv')\n",
    "df_sear['Churn'] = 1\n",
    "df_sear['cluster_number'] = 5\n",
    "\n",
    "if ('customerID' in df_sear.columns):\n",
    "    l = [df_sear.iloc[0:1], df_original.iloc[0:1000]]\n",
    "\n",
    "else:\n",
    "    searched = df_sear\n",
    "    searched['customerID'] = 'Dummy'\n",
    "    searched = searched[df_original.columns]\n",
    "    l = [searched, df_original.iloc[0:1000]]\n",
    "\n",
    "df_for_oht = pd.concat(l)\n",
    "\n",
    "def convert_data(df_churn):\n",
    "    df_churn = df_churn.reset_index(drop=True)\n",
    "    empty_cols = ['customerID', 'gender', 'SeniorCitizen', 'Partner', 'Dependents',\n",
    "                  'tenure', 'PhoneService', 'MultipleLines', 'InternetService',\n",
    "                  'OnlineSecurity', 'OnlineBackup', 'DeviceProtection', 'TechSupport',\n",
    "                  'StreamingTV', 'StreamingMovies', 'Contract', 'PaperlessBilling',\n",
    "                  'PaymentMethod', 'MonthlyCharges', 'TotalCharges', 'Churn']\n",
    "\n",
    "    for i in empty_cols:\n",
    "        df_churn[i] = df_churn[i].replace(\" \", np.nan)\n",
    "\n",
    "    df_churn.drop(['customerID', 'cluster_number'], axis=1, inplace=True)\n",
    "    df_churn = df_churn.dropna()\n",
    "    binary_cols = ['Partner', 'Dependents', 'PhoneService', 'PaperlessBilling']\n",
    "\n",
    "    for i in binary_cols:\n",
    "        df_churn[i] = df_churn[i].replace({\"Yes\": 1, \"No\": 0})\n",
    "\n",
    "    # Encoding column 'gender'\n",
    "    df_churn['gender'] = df_churn['gender'].replace({\"Male\": 1, \"Female\": 0})\n",
    "    df_churn['Churn'] = df_churn['Churn'].replace({\"Yes\": 1, \"No\": 0})\n",
    "    df_churn['PaymentMethod'] = df_churn['PaymentMethod'].replace({\"Yes\": 1, \"No\": 0})\n",
    "\n",
    "    category_cols = ['PaymentMethod', 'MultipleLines', 'InternetService', 'OnlineSecurity', 'OnlineBackup',\n",
    "                     'DeviceProtection', 'TechSupport', 'StreamingTV', 'StreamingMovies', 'Contract']\n",
    "\n",
    "    for cc in category_cols:\n",
    "        dummies = pd.get_dummies(df_churn[cc], drop_first=False)\n",
    "        dummies = dummies.add_prefix(\"{}#\".format(cc))\n",
    "        df_churn.drop(cc, axis=1, inplace=True)\n",
    "        df_churn = df_churn.join(dummies)\n",
    "\n",
    "    return df_churn\n",
    "\n",
    "\n",
    "df4 = convert_data(df_for_oht)\n",
    "\n",
    "l = list(df4.columns)\n",
    "l = [l[-1]] + l[:-1]\n",
    "df4 = df4[l]\n",
    "to_pred = df4.iloc[0:1]\n",
    "\n",
    "X1 = to_pred.loc[:, df4.columns != 'Churn']\n",
    "y = to_pred.loc[:, df4.columns == 'Churn']\n",
    "y_pred_prob = rfc_best.predict_proba(X1)\n",
    "y_pred = rfc_best.predict(X1)\n",
    "print(\"Churn Flag: {}\\n \\n Class Probabilities:\\n'Churn=0'- {}\\n'Churn=1' - {}\".format(y_pred[0],y_pred_prob[0,0],y_pred_prob[0,1]))"
   ]
  },
  {
   "cell_type": "code",
   "execution_count": 2,
   "metadata": {},
   "outputs": [
    {
     "data": {
      "text/plain": [
       "array([0])"
      ]
     },
     "execution_count": 2,
     "metadata": {},
     "output_type": "execute_result"
    }
   ],
   "source": [
    "y_pred"
   ]
  },
  {
   "cell_type": "code",
   "execution_count": 3,
   "metadata": {},
   "outputs": [
    {
     "data": {
      "text/plain": [
       "array([[0.52454894, 0.47545106]])"
      ]
     },
     "execution_count": 3,
     "metadata": {},
     "output_type": "execute_result"
    }
   ],
   "source": [
    "y_pred_prob"
   ]
  }
 ],
 "metadata": {
  "kernelspec": {
   "display_name": "Python 3",
   "language": "python",
   "name": "python3"
  },
  "language_info": {
   "codemirror_mode": {
    "name": "ipython",
    "version": 3
   },
   "file_extension": ".py",
   "mimetype": "text/x-python",
   "name": "python",
   "nbconvert_exporter": "python",
   "pygments_lexer": "ipython3",
   "version": "3.7.4"
  }
 },
 "nbformat": 4,
 "nbformat_minor": 4
}
