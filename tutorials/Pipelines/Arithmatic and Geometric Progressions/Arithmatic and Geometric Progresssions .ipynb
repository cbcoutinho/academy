{
 "cells": [
  {
   "cell_type": "markdown",
   "metadata": {},
   "source": [
    "### Pipeline that Generates AP and GP and Calculates the Sum and 'r'th term"
   ]
  },
  {
   "cell_type": "code",
   "execution_count": null,
   "metadata": {},
   "outputs": [],
   "source": [
    "# The kfp-python package provides the Interface to Generate and Run Pipelines\n",
    "\n",
    "import kfp\n",
    "import typing"
   ]
  },
  {
   "cell_type": "markdown",
   "metadata": {},
   "source": [
    "#### Read Inputs for Arithmatic Progression"
   ]
  },
  {
   "cell_type": "code",
   "execution_count": null,
   "metadata": {},
   "outputs": [],
   "source": [
    "from typing import NamedTuple\n",
    "from kfp.components import *\n",
    "\n",
    "def read_inputs_ap(first_term: float, difference: float, number_of_terms: int, find_rth_term: int) -> NamedTuple('Outputs',\n",
    "                                                                                             [('a', float), \n",
    "                                                                                         ('d', float), \n",
    "                                                                                              ('n', int), ('r', int)]):\n",
    "    a = first_term\n",
    "    d = difference\n",
    "    n = number_of_terms\n",
    "    r = find_rth_term\n",
    "    return (a, d, n, r)\n"
   ]
  },
  {
   "cell_type": "code",
   "execution_count": null,
   "metadata": {},
   "outputs": [],
   "source": [
    "kfp_read_inputs_ap = kfp.components.func_to_container_op(func = read_inputs_ap, \n",
    "                                                          output_component_file = './read_inp_ap.yaml')\n"
   ]
  },
  {
   "cell_type": "markdown",
   "metadata": {},
   "source": [
    "#### Compute the AP Series Terms"
   ]
  },
  {
   "cell_type": "code",
   "execution_count": null,
   "metadata": {},
   "outputs": [],
   "source": [
    "def ap_series(a : float, d : float, n : int)-> NamedTuple('Outputs', [('a', float), ('d', float), ('n', int),\n",
    "                                                         ('ser', list)]):\n",
    "    l = []\n",
    "    for x in range(n):\n",
    "        l.append(a + x*d)\n",
    "    \n",
    "    print(\"First Term : {}\\nCommon Difference : {}\\nLength of Series : {}\\nLast Term : {}\".format(a,d,n,l[-1]))\n",
    "    print(\"Series :\")\n",
    "    for x in l:\n",
    "        print(\"{}  \".format(x), end =\" \")\n",
    "    \n",
    "    return (a, d, n, l)"
   ]
  },
  {
   "cell_type": "code",
   "execution_count": null,
   "metadata": {},
   "outputs": [],
   "source": [
    "kfp_ap_series = kfp.components.func_to_container_op(func = ap_series, \n",
    "                                                          output_component_file = './ap_series.yaml')\n"
   ]
  },
  {
   "cell_type": "markdown",
   "metadata": {},
   "source": [
    "#### Calculate the Sum of AP terms"
   ]
  },
  {
   "cell_type": "code",
   "execution_count": null,
   "metadata": {},
   "outputs": [],
   "source": [
    "def ap_sum(a : float, d : float, n : int, ser : list)-> float:\n",
    "    \n",
    "    sum_of_ap = n*(2*a + (n-1)*d)/2\n",
    "    print(\"Sum of the AP is: {}\".format(sum_of_ap))\n",
    "    return sum_of_ap"
   ]
  },
  {
   "cell_type": "code",
   "execution_count": null,
   "metadata": {},
   "outputs": [],
   "source": [
    "kfp_ap_sum = kfp.components.func_to_container_op(func = ap_sum, \n",
    "                                                          output_component_file = './ap_sum.yaml')\n"
   ]
  },
  {
   "cell_type": "markdown",
   "metadata": {},
   "source": [
    "#### Compute the 'r'th term"
   ]
  },
  {
   "cell_type": "code",
   "execution_count": null,
   "metadata": {},
   "outputs": [],
   "source": [
    "def ap_rth_term(a : float, d : float, r : int)-> float:\n",
    "    r_term = a + (r-1)*d\n",
    "    \n",
    "    if r>3:\n",
    "        print(\"{}th term of AP is : {}\".format(r, r_term))\n",
    "    elif r==2:\n",
    "        print(\"{}nd term of AP is : {}\".format(r, r_term))\n",
    "    elif r==1:\n",
    "        print(\"{}st term of AP is : {}\".format(r, r_term))\n",
    "    \n",
    "    return r_term"
   ]
  },
  {
   "cell_type": "code",
   "execution_count": null,
   "metadata": {},
   "outputs": [],
   "source": [
    "kfp_ap_rth_term = kfp.components.func_to_container_op(func = ap_rth_term, \n",
    "                                                          output_component_file = './ap_rth_term.yaml')\n"
   ]
  },
  {
   "cell_type": "markdown",
   "metadata": {},
   "source": [
    "#### Read Inputs for Geometric Progression"
   ]
  },
  {
   "cell_type": "code",
   "execution_count": null,
   "metadata": {},
   "outputs": [],
   "source": [
    "def read_inputs_gp(first_term: float, common_ratio: float, number_of_terms: int, find_rth_term: int) -> NamedTuple('Outputs',\n",
    "                                                                                             [('a', float), \n",
    "                                                                                         ('d', float), \n",
    "                                                                                              ('n', int), ('r', int)]):\n",
    "    \n",
    "    a = first_term\n",
    "    d = common_ratio\n",
    "    n = number_of_terms\n",
    "    r = find_rth_term\n",
    "    return (a, d, n, r)\n"
   ]
  },
  {
   "cell_type": "code",
   "execution_count": null,
   "metadata": {},
   "outputs": [],
   "source": [
    "kfp_read_inputs_gp = kfp.components.func_to_container_op(func = read_inputs_gp, \n",
    "                                                          output_component_file = './read_inp_gp.yaml')\n"
   ]
  },
  {
   "cell_type": "markdown",
   "metadata": {},
   "source": [
    "#### Compute the GP Series Terms"
   ]
  },
  {
   "cell_type": "code",
   "execution_count": null,
   "metadata": {},
   "outputs": [],
   "source": [
    "def gp_series(a : float, d : float, n : int)-> NamedTuple('Outputs', [('a', float), ('d', float), ('n', int),\n",
    "                                                         ('ser', list)]):\n",
    "    l = []\n",
    "    for x in range(n):\n",
    "        l.append(a*pow(d,x))\n",
    "    \n",
    "    print(\"First Term : {}\\nCommon Ratio : {}\\nLength of Series : {}\\nLast Term : {}\".format(a,d,n,l[-1]))\n",
    "    print(\"Series :\")\n",
    "    \n",
    "    for x in l:\n",
    "        print(\"{}  \".format(x), end =\" \")\n",
    "    \n",
    "    return (a, d, n, l)"
   ]
  },
  {
   "cell_type": "code",
   "execution_count": null,
   "metadata": {},
   "outputs": [],
   "source": [
    "kfp_gp_series = kfp.components.func_to_container_op(func = gp_series, \n",
    "                                                          output_component_file = './gp_series.yaml')\n"
   ]
  },
  {
   "cell_type": "markdown",
   "metadata": {},
   "source": [
    "#### Calculate the Sum of GP terms"
   ]
  },
  {
   "cell_type": "code",
   "execution_count": null,
   "metadata": {},
   "outputs": [],
   "source": [
    "#### Calculate the Sum of AP terms\n",
    "def gp_sum(a : float, d : float, n : int, ser : list)-> float:\n",
    "    \n",
    "    sum_of_gp = a*(1-pow(d,n))/(1-d)\n",
    "    print(\"Sum of the GP is : {}\".format(sum_of_gp))\n",
    "    return sum_of_gp"
   ]
  },
  {
   "cell_type": "code",
   "execution_count": null,
   "metadata": {},
   "outputs": [],
   "source": [
    "kfp_gp_sum = kfp.components.func_to_container_op(func = gp_sum, \n",
    "                                                          output_component_file = './gp_sum.yaml')\n"
   ]
  },
  {
   "cell_type": "markdown",
   "metadata": {},
   "source": [
    "#### Compute the 'r'th term"
   ]
  },
  {
   "cell_type": "code",
   "execution_count": null,
   "metadata": {},
   "outputs": [],
   "source": [
    "def gp_rth_term(a : float, d : float, r : int)-> float:\n",
    "    r_term = a*pow(d,(r-1))\n",
    "    \n",
    "    if r>3:\n",
    "        print(\"{}th term of GP is : {}\".format(r, r_term))\n",
    "    elif r==2:\n",
    "        print(\"{}nd term of GP is : {}\".format(r, r_term))\n",
    "    elif r==1:\n",
    "        print(\"{}st term of GP is : {}\".format(r, r_term))\n",
    "\n",
    "    return r_term"
   ]
  },
  {
   "cell_type": "code",
   "execution_count": null,
   "metadata": {},
   "outputs": [],
   "source": [
    "kfp_gp_rth_term = kfp.components.func_to_container_op(func = gp_rth_term, \n",
    "                                                          output_component_file = './gp_rth_term.yaml')\n"
   ]
  },
  {
   "cell_type": "markdown",
   "metadata": {},
   "source": [
    "#### Defining the Pipeline Execution Sequence and Input-Output scheme"
   ]
  },
  {
   "cell_type": "code",
   "execution_count": null,
   "metadata": {},
   "outputs": [],
   "source": [
    "import kfp.dsl as dsl\n",
    "\n",
    "@dsl.pipeline(name='AP-GP Pipeline',description='Calculates Simple and Compund Interest')\n",
    "def Apgp_func(first_term_ap: float, common_difference_ap: float, total_terms_ap : int, rth_term_ap : int, \n",
    "              first_term_gp: float, common_ratio_gp: float, total_terms_gp : int, rth_term_gp : int):\n",
    "    \n",
    "    #Passing pipeline parameter and a constant value as operation arguments\n",
    "    kfp_read_inputs_ap_task = kfp_read_inputs_ap(first_term_ap, common_difference_ap, total_terms_ap, rth_term_ap) \n",
    "    kfp_ap_series_task = kfp_ap_series(kfp_read_inputs_ap_task.outputs['a'], kfp_read_inputs_ap_task.outputs['d'],\n",
    "                                      kfp_read_inputs_ap_task.outputs['n'])\n",
    "    kfp_ap_sum_task = kfp_ap_sum(kfp_read_inputs_ap_task.outputs['a'], kfp_read_inputs_ap_task.outputs['d'],\n",
    "                                      kfp_read_inputs_ap_task.outputs['n'], kfp_ap_series_task.outputs['ser'])\n",
    "    kfp_ap_rth_term_task = kfp_ap_rth_term(kfp_read_inputs_ap_task.outputs['a'], kfp_read_inputs_ap_task.outputs['d'],\n",
    "                                      kfp_read_inputs_ap_task.outputs['r'])\n",
    "    \n",
    "    kfp_read_inputs_gp_task = kfp_read_inputs_gp(first_term_gp, common_ratio_gp, total_terms_gp, rth_term_gp) \n",
    "    kfp_gp_series_task = kfp_gp_series(kfp_read_inputs_gp_task.outputs['a'], kfp_read_inputs_gp_task.outputs['d'],\n",
    "                                      kfp_read_inputs_gp_task.outputs['n'])\n",
    "    kfp_gp_sum_task = kfp_gp_sum(kfp_read_inputs_gp_task.outputs['a'], kfp_read_inputs_gp_task.outputs['d'],\n",
    "                                      kfp_read_inputs_gp_task.outputs['n'], kfp_gp_series_task.outputs['ser'])\n",
    "    kfp_gp_rth_term_task = kfp_gp_rth_term(kfp_read_inputs_gp_task.outputs['a'], kfp_read_inputs_gp_task.outputs['d'],\n",
    "                                      kfp_read_inputs_gp_task.outputs['r'])\n",
    "    \n",
    "#For an operation with a single return value, the output reference can be accessed using `task.output` or `task.outputs['output_name']` syntax\n",
    "#For an operation with a multiple return values, the output references can be accessed using `task.outputs['output_name']` syntax"
   ]
  },
  {
   "cell_type": "markdown",
   "metadata": {},
   "source": [
    "#### Compiling the Pipeline"
   ]
  },
  {
   "cell_type": "code",
   "execution_count": null,
   "metadata": {},
   "outputs": [],
   "source": [
    "pipeline_func = Apgp_func\n",
    "pipeline_filename = pipeline_func.__name__+'.pipeline.tar.gz'\n",
    "\n",
    "import kfp.compiler as comp\n",
    "comp.Compiler().compile(pipeline_func, pipeline_filename)"
   ]
  }
 ],
 "metadata": {
  "kernelspec": {
   "display_name": "Python 3",
   "language": "python",
   "name": "python3"
  },
  "language_info": {
   "codemirror_mode": {
    "name": "ipython",
    "version": 3
   },
   "file_extension": ".py",
   "mimetype": "text/x-python",
   "name": "python",
   "nbconvert_exporter": "python",
   "pygments_lexer": "ipython3",
   "version": "3.7.8"
  }
 },
 "nbformat": 4,
 "nbformat_minor": 4
}
