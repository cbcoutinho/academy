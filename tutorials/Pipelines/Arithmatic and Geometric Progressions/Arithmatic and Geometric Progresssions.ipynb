{
 "cells": [
  {
   "cell_type": "markdown",
   "metadata": {},
   "source": [
    "### Pipeline that Generates AP and GP and Calculates the Sum and 'r'th term"
   ]
  },
  {
   "cell_type": "markdown",
   "metadata": {},
   "source": [
    "You can find the full README at:\n",
    "\n",
    "https://github.com/ydataai/academy/blob/master/tutorials/Pipelines/README.md\n"
   ]
  },
  {
   "cell_type": "markdown",
   "metadata": {},
   "source": [
    "### Input variables"
   ]
  },
  {
   "cell_type": "code",
   "execution_count": null,
   "metadata": {},
   "outputs": [],
   "source": [
    "# Kfp\n",
    "pipeline_name = \"Generates AP and GP and Calculates the Sum and rth term\"\n",
    "pipeline_description = \"Generates AP and GP and Calculates the Sum and 'r'th term\"\n",
    "experiment_name = \"APGP experiment\"\n",
    "run_name = \"Sample Run\"\n",
    "\n",
    "# APGP parameters\n",
    "first_term_ap = 5\n",
    "common_difference_ap = 3\n",
    "total_terms_ap = 10\n",
    "rth_term_ap = 7\n",
    "first_term_gp = 5\n",
    "common_ratio_gp = 2\n",
    "total_terms_gp = 10\n",
    "rth_term_gp = 8\n"
   ]
  },
  {
   "cell_type": "code",
   "execution_count": null,
   "metadata": {},
   "outputs": [],
   "source": [
    "import kfp\n",
    "import typing\n"
   ]
  },
  {
   "cell_type": "markdown",
   "metadata": {},
   "source": [
    "#### Read Inputs for Arithmatic Progression"
   ]
  },
  {
   "cell_type": "code",
   "execution_count": null,
   "metadata": {},
   "outputs": [],
   "source": [
    "from typing import NamedTuple\n",
    "from kfp.components import *\n",
    "\n",
    "\n",
    "def read_inputs_ap(\n",
    "    first_term: float, difference: float, number_of_terms: int, find_rth_term: int\n",
    ") -> NamedTuple(\"Outputs\", [(\"a\", float), (\"d\", float), (\"n\", int), (\"r\", int)]):\n",
    "    a = first_term\n",
    "    d = difference\n",
    "    n = number_of_terms\n",
    "    r = find_rth_term\n",
    "    return (a, d, n, r)\n"
   ]
  },
  {
   "cell_type": "code",
   "execution_count": null,
   "metadata": {},
   "outputs": [],
   "source": [
    "kfp_read_inputs_ap = kfp.components.func_to_container_op(\n",
    "    func=read_inputs_ap, output_component_file=\"./read_inp_ap.yaml\"\n",
    ")\n"
   ]
  },
  {
   "cell_type": "markdown",
   "metadata": {},
   "source": [
    "#### Compute the AP Series Terms"
   ]
  },
  {
   "cell_type": "code",
   "execution_count": null,
   "metadata": {},
   "outputs": [],
   "source": [
    "def ap_series(\n",
    "    a: float, d: float, n: int\n",
    ") -> NamedTuple(\"Outputs\", [(\"a\", float), (\"d\", float), (\"n\", int), (\"ser\", list)]):\n",
    "    l = []\n",
    "    for x in range(n):\n",
    "        l.append(a + x * d)\n",
    "\n",
    "    print(\n",
    "        \"First Term : {}\\nCommon Difference : {}\\nLength of Series : {}\\nLast Term : {}\".format(\n",
    "            a, d, n, l[-1]\n",
    "        )\n",
    "    )\n",
    "    print(\"Series :\")\n",
    "    for x in l:\n",
    "        print(\"{}  \".format(x), end=\" \")\n",
    "\n",
    "    return (a, d, n, l)\n"
   ]
  },
  {
   "cell_type": "code",
   "execution_count": null,
   "metadata": {},
   "outputs": [],
   "source": [
    "kfp_ap_series = kfp.components.func_to_container_op(\n",
    "    func=ap_series, output_component_file=\"./ap_series.yaml\"\n",
    ")\n"
   ]
  },
  {
   "cell_type": "markdown",
   "metadata": {},
   "source": [
    "#### Calculate the Sum of AP terms"
   ]
  },
  {
   "cell_type": "code",
   "execution_count": null,
   "metadata": {},
   "outputs": [],
   "source": [
    "def ap_sum(a: float, d: float, n: int, ser: list) -> float:\n",
    "\n",
    "    sum_of_ap = n * (2 * a + (n - 1) * d) / 2\n",
    "    print(\"Sum of the AP is: {}\".format(sum_of_ap))\n",
    "    return sum_of_ap\n"
   ]
  },
  {
   "cell_type": "code",
   "execution_count": null,
   "metadata": {},
   "outputs": [],
   "source": [
    "kfp_ap_sum = kfp.components.func_to_container_op(\n",
    "    func=ap_sum, output_component_file=\"./ap_sum.yaml\"\n",
    ")\n"
   ]
  },
  {
   "cell_type": "markdown",
   "metadata": {},
   "source": [
    "#### Compute the 'r'th term"
   ]
  },
  {
   "cell_type": "code",
   "execution_count": null,
   "metadata": {},
   "outputs": [],
   "source": [
    "def ap_rth_term(a: float, d: float, r: int) -> float:\n",
    "    r_term = a + (r - 1) * d\n",
    "\n",
    "    if r > 3:\n",
    "        print(\"{}th term of AP is : {}\".format(r, r_term))\n",
    "    elif r == 2:\n",
    "        print(\"{}nd term of AP is : {}\".format(r, r_term))\n",
    "    elif r == 1:\n",
    "        print(\"{}st term of AP is : {}\".format(r, r_term))\n",
    "\n",
    "    return r_term\n"
   ]
  },
  {
   "cell_type": "code",
   "execution_count": null,
   "metadata": {},
   "outputs": [],
   "source": [
    "kfp_ap_rth_term = kfp.components.func_to_container_op(\n",
    "    func=ap_rth_term, output_component_file=\"./ap_rth_term.yaml\"\n",
    ")\n"
   ]
  },
  {
   "cell_type": "markdown",
   "metadata": {},
   "source": [
    "#### Read Inputs for Geometric Progression"
   ]
  },
  {
   "cell_type": "code",
   "execution_count": null,
   "metadata": {},
   "outputs": [],
   "source": [
    "def read_inputs_gp(\n",
    "    first_term: float, common_ratio: float, number_of_terms: int, find_rth_term: int\n",
    ") -> NamedTuple(\"Outputs\", [(\"a\", float), (\"d\", float), (\"n\", int), (\"r\", int)]):\n",
    "\n",
    "    a = first_term\n",
    "    d = common_ratio\n",
    "    n = number_of_terms\n",
    "    r = find_rth_term\n",
    "    return (a, d, n, r)\n"
   ]
  },
  {
   "cell_type": "code",
   "execution_count": null,
   "metadata": {},
   "outputs": [],
   "source": [
    "kfp_read_inputs_gp = kfp.components.func_to_container_op(\n",
    "    func=read_inputs_gp, output_component_file=\"./read_inp_gp.yaml\"\n",
    ")\n"
   ]
  },
  {
   "cell_type": "markdown",
   "metadata": {},
   "source": [
    "#### Compute the GP Series Terms"
   ]
  },
  {
   "cell_type": "code",
   "execution_count": null,
   "metadata": {},
   "outputs": [],
   "source": [
    "def gp_series(\n",
    "    a: float, d: float, n: int\n",
    ") -> NamedTuple(\"Outputs\", [(\"a\", float), (\"d\", float), (\"n\", int), (\"ser\", list)]):\n",
    "    l = []\n",
    "    for x in range(n):\n",
    "        l.append(a * pow(d, x))\n",
    "\n",
    "    print(\n",
    "        \"First Term : {}\\nCommon Ratio : {}\\nLength of Series : {}\\nLast Term : {}\".format(\n",
    "            a, d, n, l[-1]\n",
    "        )\n",
    "    )\n",
    "    print(\"Series :\")\n",
    "\n",
    "    for x in l:\n",
    "        print(\"{}  \".format(x), end=\" \")\n",
    "\n",
    "    return (a, d, n, l)\n"
   ]
  },
  {
   "cell_type": "code",
   "execution_count": null,
   "metadata": {},
   "outputs": [],
   "source": [
    "kfp_gp_series = kfp.components.func_to_container_op(\n",
    "    func=gp_series, output_component_file=\"./gp_series.yaml\"\n",
    ")\n"
   ]
  },
  {
   "cell_type": "markdown",
   "metadata": {},
   "source": [
    "#### Calculate the Sum of GP terms"
   ]
  },
  {
   "cell_type": "code",
   "execution_count": null,
   "metadata": {},
   "outputs": [],
   "source": [
    "#### Calculate the Sum of AP terms\n",
    "def gp_sum(a: float, d: float, n: int, ser: list) -> float:\n",
    "\n",
    "    sum_of_gp = a * (1 - pow(d, n)) / (1 - d)\n",
    "    print(\"Sum of the GP is : {}\".format(sum_of_gp))\n",
    "    return sum_of_gp\n"
   ]
  },
  {
   "cell_type": "code",
   "execution_count": null,
   "metadata": {},
   "outputs": [],
   "source": [
    "kfp_gp_sum = kfp.components.func_to_container_op(\n",
    "    func=gp_sum, output_component_file=\"./gp_sum.yaml\"\n",
    ")\n"
   ]
  },
  {
   "cell_type": "markdown",
   "metadata": {},
   "source": [
    "#### Compute the 'r'th term"
   ]
  },
  {
   "cell_type": "code",
   "execution_count": null,
   "metadata": {},
   "outputs": [],
   "source": [
    "def gp_rth_term(a: float, d: float, r: int) -> float:\n",
    "    r_term = a * pow(d, (r - 1))\n",
    "\n",
    "    if r > 3:\n",
    "        print(\"{}th term of GP is : {}\".format(r, r_term))\n",
    "    elif r == 2:\n",
    "        print(\"{}nd term of GP is : {}\".format(r, r_term))\n",
    "    elif r == 1:\n",
    "        print(\"{}st term of GP is : {}\".format(r, r_term))\n",
    "\n",
    "    return r_term\n"
   ]
  },
  {
   "cell_type": "code",
   "execution_count": null,
   "metadata": {},
   "outputs": [],
   "source": [
    "kfp_gp_rth_term = kfp.components.func_to_container_op(\n",
    "    func=gp_rth_term, output_component_file=\"./gp_rth_term.yaml\"\n",
    ")\n"
   ]
  },
  {
   "cell_type": "markdown",
   "metadata": {},
   "source": [
    "#### Defining the Pipeline Execution Sequence and Input-Output scheme"
   ]
  },
  {
   "cell_type": "code",
   "execution_count": null,
   "metadata": {},
   "outputs": [],
   "source": [
    "import kfp.dsl as dsl\n",
    "\n",
    "@dsl.pipeline(\n",
    "    name=pipeline_name,\n",
    "    description=pipeline_description,\n",
    ")\n",
    "\n",
    "def Apgp_func(\n",
    "    in_first_term_ap: float = first_term_ap,\n",
    "    in_common_difference_ap: float = common_difference_ap,\n",
    "    in_total_terms_ap: int = total_terms_ap,\n",
    "    in_rth_term_ap: int = rth_term_ap,\n",
    "    in_first_term_gp: float = first_term_gp,\n",
    "    in_common_ratio_gp: float = common_ratio_gp,\n",
    "    in_total_terms_gp: int = total_terms_gp,\n",
    "    in_rth_term_gp: int = rth_term_gp,\n",
    "):\n",
    "\n",
    "    # Passing pipeline parameter and a constant value as operation arguments\n",
    "    kfp_read_inputs_ap_task = kfp_read_inputs_ap(\n",
    "        first_term_ap, common_difference_ap, total_terms_ap, rth_term_ap\n",
    "    )\n",
    "    kfp_ap_series_task = kfp_ap_series(\n",
    "        kfp_read_inputs_ap_task.outputs[\"a\"],\n",
    "        kfp_read_inputs_ap_task.outputs[\"d\"],\n",
    "        kfp_read_inputs_ap_task.outputs[\"n\"],\n",
    "    )\n",
    "    kfp_ap_sum_task = kfp_ap_sum(\n",
    "        kfp_read_inputs_ap_task.outputs[\"a\"],\n",
    "        kfp_read_inputs_ap_task.outputs[\"d\"],\n",
    "        kfp_read_inputs_ap_task.outputs[\"n\"],\n",
    "        kfp_ap_series_task.outputs[\"ser\"],\n",
    "    )\n",
    "    kfp_ap_rth_term_task = kfp_ap_rth_term(\n",
    "        kfp_read_inputs_ap_task.outputs[\"a\"],\n",
    "        kfp_read_inputs_ap_task.outputs[\"d\"],\n",
    "        kfp_read_inputs_ap_task.outputs[\"r\"],\n",
    "    )\n",
    "\n",
    "    kfp_read_inputs_gp_task = kfp_read_inputs_gp(\n",
    "        first_term_gp, common_ratio_gp, total_terms_gp, rth_term_gp\n",
    "    )\n",
    "    kfp_gp_series_task = kfp_gp_series(\n",
    "        kfp_read_inputs_gp_task.outputs[\"a\"],\n",
    "        kfp_read_inputs_gp_task.outputs[\"d\"],\n",
    "        kfp_read_inputs_gp_task.outputs[\"n\"],\n",
    "    )\n",
    "    kfp_gp_sum_task = kfp_gp_sum(\n",
    "        kfp_read_inputs_gp_task.outputs[\"a\"],\n",
    "        kfp_read_inputs_gp_task.outputs[\"d\"],\n",
    "        kfp_read_inputs_gp_task.outputs[\"n\"],\n",
    "        kfp_gp_series_task.outputs[\"ser\"],\n",
    "    )\n",
    "    kfp_gp_rth_term_task = kfp_gp_rth_term(\n",
    "        kfp_read_inputs_gp_task.outputs[\"a\"],\n",
    "        kfp_read_inputs_gp_task.outputs[\"d\"],\n",
    "        kfp_read_inputs_gp_task.outputs[\"r\"],\n",
    "    )\n",
    "\n",
    "\n",
    "# For an operation with a single return value, the output reference can be accessed using `task.output` or `task.outputs['output_name']` syntax\n",
    "# For an operation with a multiple return values, the output references can be accessed using `task.outputs['output_name']` syntax\n"
   ]
  },
  {
   "cell_type": "markdown",
   "metadata": {},
   "source": [
    "#### Compiling the Pipeline"
   ]
  },
  {
   "cell_type": "code",
   "execution_count": null,
   "metadata": {},
   "outputs": [],
   "source": [
    "pipeline_func = Apgp_func\n",
    "pipeline_filename = pipeline_func.__name__ + \".pipeline.tar.gz\"\n",
    "\n",
    "import kfp.compiler as comp\n",
    "\n",
    "comp.Compiler().compile(pipeline_func, pipeline_filename)\n"
   ]
  },
  {
   "cell_type": "markdown",
   "metadata": {},
   "source": [
    "#### Running the Pipeline"
   ]
  },
  {
   "cell_type": "code",
   "execution_count": null,
   "metadata": {},
   "outputs": [],
   "source": [
    "import json\n",
    "import uuid\n",
    "from random import randrange\n",
    "\n",
    "client = kfp.Client()\n",
    "\n",
    "# check if pipeline already exists -> if not, create a new one\n",
    "filter = json.dumps(\n",
    "    {\n",
    "        \"predicates\": [\n",
    "            {\"key\": \"name\", \"op\": 1, \"string_value\": \"{}\".format(pipeline_name)}\n",
    "        ]\n",
    "    }\n",
    ")\n",
    "pipeline = client.pipelines.list_pipelines(filter=filter)\n",
    "\n",
    "if pipeline.pipelines is None:\n",
    "    print(\"Creating a new pipeline: \" + pipeline_name)\n",
    "    pipeline = client.pipeline_uploads.upload_pipeline(\n",
    "        pipeline_filename, name=pipeline_name, description=pipeline_description\n",
    "    )\n",
    "else:\n",
    "    print(\"Pipeline already exists: \" + pipeline_name)\n",
    "    pipeline = pipeline.pipelines[0]\n",
    "    \n",
    "pipeline_version = str(uuid.uuid4())\n",
    "\n",
    "print(\"Creating a new pipeline version: \" + pipeline_name + str(\" [\" + pipeline_version + \"]\"))\n",
    "client.pipeline_uploads.upload_pipeline_version(\n",
    "    pipeline_filename,\n",
    "    name=pipeline_name + str(\" [\" + pipeline_version + \"]\"),\n",
    "    pipelineid=pipeline.id,\n",
    ")\n",
    "\n",
    "# create a new experiment or use an existing one\n",
    "print(\"Creating a new experiment or use an existing one: \" + experiment_name)\n",
    "experiment = client.create_experiment(name=experiment_name)\n",
    "\n",
    "# create a new run with a random identifier\n",
    "run_random_id = str(randrange(1000))\n",
    "print(\"Creating a new run: \" + run_name + \" [\" + run_random_id + \"]\")\n",
    "new_run = client.run_pipeline(\n",
    "    experiment.id, run_name + \" [\" + run_random_id + \"]\", pipeline_id=pipeline.id\n",
    ")\n"
   ]
  }
 ],
 "metadata": {
  "kernelspec": {
   "display_name": "Python 3",
   "language": "python",
   "name": "python3"
  },
  "language_info": {
   "codemirror_mode": {
    "name": "ipython",
    "version": 3
   },
   "file_extension": ".py",
   "mimetype": "text/x-python",
   "name": "python",
   "nbconvert_exporter": "python",
   "pygments_lexer": "ipython3",
   "version": "3.7.9"
  }
 },
 "nbformat": 4,
 "nbformat_minor": 4
}