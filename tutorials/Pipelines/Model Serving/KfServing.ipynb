{
 "cells": [
  {
   "cell_type": "markdown",
   "metadata": {},
   "source": [
    "## KFServing Example "
   ]
  },
  {
   "cell_type": "code",
   "execution_count": 4,
   "metadata": {},
   "outputs": [],
   "source": [
    "#Use subprocess to upgrade the kfserving python package via the Linux terminal\n",
    "\n",
    "import subprocess\n",
    "data = subprocess.Popen(['pip', 'install','--upgrade', 'kfserving'], stdout = subprocess.PIPE)"
   ]
  },
  {
   "cell_type": "code",
   "execution_count": 16,
   "metadata": {},
   "outputs": [],
   "source": [
    "#Import gcsfs to access any files from the GCS bucket\n",
    "\n",
    "import gcsfs\n",
    "fs = gcsfs.GCSFileSystem(project='YDataSynthetic', token = 'cloud')"
   ]
  },
  {
   "cell_type": "code",
   "execution_count": 10,
   "metadata": {},
   "outputs": [],
   "source": [
    "#The Kfserving python sdk interfaces with the Kubernetes cluster to create the \n",
    "\n",
    "import kfserving\n",
    "from kubernetes import client\n",
    "from kfserving import KFServingClient\n",
    "from kfserving import constants\n",
    "from kfserving import utils\n",
    "from kfserving import V1alpha2EndpointSpec\n",
    "from kfserving import V1alpha2PredictorSpec\n",
    "from kfserving import V1alpha2TransformerSpec\n",
    "from kfserving import V1alpha2SKLearnSpec, V1alpha2PyTorchSpec\n",
    "from kfserving import V1alpha2CustomSpec\n",
    "from kfserving import V1alpha2InferenceServiceSpec\n",
    "from kfserving import V1alpha2InferenceService\n",
    "from kubernetes.client import V1Container\n",
    "from kubernetes.client import V1ResourceRequirements\n",
    "import kubernetes.client\n",
    "import os\n",
    "import requests \n",
    "import json\n",
    "import numpy as np"
   ]
  },
  {
   "cell_type": "code",
   "execution_count": 11,
   "metadata": {},
   "outputs": [
    {
     "name": "stdout",
     "output_type": "stream",
     "text": [
      "serving.kubeflow.org/v1alpha2 ruju-demo-work InferenceService\n",
      "NAME                 READY      DEFAULT_TRAFFIC CANARY_TRAFFIC  URL                                               \n",
      "randomforest         Unknown                                                                                      \n",
      "randomforest         False                                                                                        \n",
      "randomforest         False                                                                                        \n",
      "randomforest         False                                                                                        \n",
      "randomforest         False                                                                                        \n",
      "randomforest         True       100                             http://randomforest.ruju-demo-work.example.com    \n"
     ]
    }
   ],
   "source": [
    "namespace = utils.get_default_target_namespace()\n",
    "\n",
    "api_version = constants.KFSERVING_GROUP + '/' + constants.KFSERVING_VERSION\n",
    "print(api_version, namespace, constants.KFSERVING_KIND)\n",
    "\n",
    "#enter the specifications for your kfserving model and endpoints\n",
    "default_endpoint_spec = V1alpha2EndpointSpec(\n",
    "                          predictor=V1alpha2PredictorSpec(\n",
    "                            min_replicas=1,\n",
    "                            sklearn=V1alpha2SKLearnSpec(\n",
    "\n",
    "                                #Store your model with the name model.joblib and provide the file location \n",
    "                                # to the storage_uri variable\n",
    "                                \n",
    "                              storage_uri='gs://pipelines_artifacts/kfserving/sklearn/randomforest',\n",
    "                              resources=V1ResourceRequirements(\n",
    "                                  \n",
    "                                  #This model requires higher cpu and memory allocation than usual\n",
    "                                  \n",
    "                                  requests={'cpu':'500m','memory':'4Gi'},\n",
    "                                  limits={'cpu':'500m', 'memory':'4Gi'}))))\n",
    "\n",
    "#Go to Chrome Settings -> Cookies and Other site Data -> See all Cookies -> <Your YData Instance link>\n",
    "#Copy the key in the 'content' under \"authservice_session\" cookie into the 'session' variable\n",
    "\n",
    "session = \"MTYwNzI1MDgxNXxOd3dBTkZneVJrdEVORVJhVGpZMFZUVTBVVlpSVDFCRFRsQlFWMHN5VEZZM1NEZEJORlZVVVVkWlZVcEtVa2N5V2t0VFRsVlFXVUU9fMRsPNyuFCYAukl02nmr8bJj5IJvY2_MtyZBMTNucv33\"\n",
    "headers = { 'Host': 'randomforest.' + namespace + '.example.com', 'Cookie': 'authservice_session=' + session }\n",
    "\n",
    "isvc = V1alpha2InferenceService(api_version=api_version,\n",
    "                          kind=constants.KFSERVING_KIND,\n",
    "                          metadata=client.V1ObjectMeta(\n",
    "                              name='randomforest', namespace=namespace),\n",
    "                          spec=V1alpha2InferenceServiceSpec(default=default_endpoint_spec))\n",
    "\n",
    "KFServing = KFServingClient()\n",
    "KFServing.create(isvc)\n",
    "KFServing.get('randomforest', namespace=namespace, watch=True, timeout_seconds=120)"
   ]
  },
  {
   "cell_type": "code",
   "execution_count": 13,
   "metadata": {},
   "outputs": [
    {
     "name": "stdout",
     "output_type": "stream",
     "text": [
      "NAME                 READY      DEFAULT_TRAFFIC CANARY_TRAFFIC  URL                                               \n",
      "randomforest         True                   100                 http://randomforest.ruju-demo-work.example.com    \n"
     ]
    }
   ],
   "source": [
    "KFServing.get('randomforest', namespace=namespace, watch=True, timeout_seconds=120)"
   ]
  },
  {
   "cell_type": "code",
   "execution_count": 19,
   "metadata": {},
   "outputs": [
    {
     "name": "stdout",
     "output_type": "stream",
     "text": [
      "https://ruju.dev.google.ydata.ai/v1/models/randomforest:predict\n",
      "\n",
      "\n",
      "{'Host': 'randomforest.ruju-demo-work.example.com', 'Cookie': 'authservice_session=MTYwNzMzNzI1NHxOd3dBTkRSQlJVWkVSVmhhUVZnMVNEWk1TVFpDUTFwRlVWUXpRVkJFUXpJMVR6UkdORXhWV2tOSFV6ZFNORk0xUVZsSFNESTFUVUU9fDYNLTvscaPyK_tkOYWKTMKrLFU2AaU57-bqvL3AuVeI'}\n"
     ]
    }
   ],
   "source": [
    "session = \"MTYwNzMzNzI1NHxOd3dBTkRSQlJVWkVSVmhhUVZnMVNEWk1TVFpDUTFwRlVWUXpRVkJFUXpJMVR6UkdORXhWV2tOSFV6ZFNORk0xUVZsSFNESTFUVUU9fDYNLTvscaPyK_tkOYWKTMKrLFU2AaU57-bqvL3AuVeI\"\n",
    "url = \"https://ruju.dev.google.ydata.ai/v1/models/randomforest:predict\"\n",
    "headers = { 'Host': 'randomforest.' + namespace + '.example.com', 'Cookie': 'authservice_session=' + session }\n",
    "print(url)\n",
    "print(\"\\n\")\n",
    "print(headers)"
   ]
  },
  {
   "cell_type": "code",
   "execution_count": 18,
   "metadata": {},
   "outputs": [
    {
     "name": "stdout",
     "output_type": "stream",
     "text": [
      "https://ruju.dev.google.ydata.ai/v1/models/randomforest:predict {'Host': 'randomforest.ruju-demo-work.example.com', 'Cookie': 'authservice_session=MTYwNzMzNzI1NHxOd3dBTkRSQlJVWkVSVmhhUVZnMVNEWk1TVFpDUTFwRlVWUXpRVkJFUXpJMVR6UkdORXhWV2tOSFV6ZFNORk0xUVZsSFNESTFUVUU9fDYNLTvscaPyK_tkOYWKTMKrLFU2AaU57-bqvL3AuVeI'}\n",
      "\n",
      "\n",
      "{\"instances\": [[0.0, 1.0, 0.0, 0.0, 0.0, 49.0, 1.0, 1.0, 103.7, 5036.3, 1.0, 0.0, 0.0, 0.0, 0.0, 0.0, 1.0, 0.0, 1.0, 0.0, 1.0, 0.0, 0.0, 0.0, 0.0, 1.0, 0.0, 0.0, 1.0, 1.0, 0.0, 0.0, 0.0, 0.0, 1.0, 0.0, 0.0, 1.0, 1.0, 0.0]]}\n",
      "\n",
      "\n",
      "<Response [200]>\n",
      "---\n",
      "\n",
      "{'predictions': [0]}\n",
      "Predicted Churn Flag: 0\n"
     ]
    }
   ],
   "source": [
    "with open('./input.json') as json_file:\n",
    "    data = json.load(json_file)\n",
    "    print(url, headers)\n",
    "    response = requests.post(url, json.dumps(data), headers=headers)\n",
    "    print(\"\\n\")\n",
    "    print(json.dumps(data))\n",
    "    print(\"\\n\")\n",
    "    print(response)\n",
    "    print(\"---\\n\")\n",
    "    probs = json.loads(response.content.decode('utf-8'))\n",
    "    print(probs)\n",
    "    print(\"Predicted Churn Flag: {}\".format(np.argmax(probs)))"
   ]
  },
  {
   "cell_type": "code",
   "execution_count": 20,
   "metadata": {},
   "outputs": [
    {
     "data": {
      "text/plain": [
       "{'kind': 'Status',\n",
       " 'apiVersion': 'v1',\n",
       " 'metadata': {},\n",
       " 'status': 'Success',\n",
       " 'details': {'name': 'randomforest',\n",
       "  'group': 'serving.kubeflow.org',\n",
       "  'kind': 'inferenceservices',\n",
       "  'uid': '7309da6a-6762-4579-ab6e-634239c283cb'}}"
      ]
     },
     "execution_count": 20,
     "metadata": {},
     "output_type": "execute_result"
    }
   ],
   "source": [
    "#Finally, it is a good practice to delete the inferenceservice, which clears up all the pods, \n",
    "#services and other resources used up by it\n",
    "\n",
    "KFServing.delete('randomforest', namespace=namespace)"
   ]
  }
 ],
 "metadata": {
  "kernelspec": {
   "display_name": "Python 3",
   "language": "python",
   "name": "python3"
  },
  "kubeflow_notebook": {
   "docker_image": "",
   "experiment": {
    "id": "",
    "name": ""
   },
   "experiment_name": "",
   "pipeline_description": "",
   "pipeline_name": "",
   "volumes": []
  },
  "language_info": {
   "codemirror_mode": {
    "name": "ipython",
    "version": 3
   },
   "file_extension": ".py",
   "mimetype": "text/x-python",
   "name": "python",
   "nbconvert_exporter": "python",
   "pygments_lexer": "ipython3",
   "version": "3.7.4"
  }
 },
 "nbformat": 4,
 "nbformat_minor": 4
}
