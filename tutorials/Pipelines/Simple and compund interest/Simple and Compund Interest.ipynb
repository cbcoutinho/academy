{
 "cells": [
  {
   "cell_type": "markdown",
   "metadata": {},
   "source": [
    "### Pipeline to Calculate Simple and Compound Interest"
   ]
  },
  {
   "cell_type": "code",
   "execution_count": 1,
   "metadata": {},
   "outputs": [],
   "source": [
    "# The kfp-python package provides the Interface to Generate and Run Pipelines\n",
    "\n",
    "import kfp\n",
    "import typing"
   ]
  },
  {
   "cell_type": "markdown",
   "metadata": {},
   "source": [
    "#### Read the Inputs and Pass it to the next Pipeline Block"
   ]
  },
  {
   "cell_type": "code",
   "execution_count": 2,
   "metadata": {},
   "outputs": [],
   "source": [
    "# Named Tuple is used to Generate Pipeline Blocks with Multiple Output Parameters\n",
    "\n",
    "from typing import NamedTuple\n",
    "from kfp.components import *\n",
    "\n",
    "def read_inputs(principal_amt: float, simple_interest_rate: float, compound_interest_rate: float, \n",
    "                freq_in_months: int, duration_in_months : int) -> NamedTuple('Outputs', [('principal', float), \n",
    "                                                                                         ('si', float), \n",
    "                                                               ('ci', float), ('freq', int), ('duration',int)]):\n",
    "    \n",
    "    return (principal_amt, simple_interest_rate, compound_interest_rate, freq_in_months, duration_in_months)\n"
   ]
  },
  {
   "cell_type": "code",
   "execution_count": 3,
   "metadata": {},
   "outputs": [],
   "source": [
    "kfp_read_inputs = kfp.components.func_to_container_op(func = read_inputs, \n",
    "                                                          output_component_file = './read_inp.yaml')\n"
   ]
  },
  {
   "cell_type": "markdown",
   "metadata": {},
   "source": [
    "#### Calculate Simple Interest"
   ]
  },
  {
   "cell_type": "code",
   "execution_count": 4,
   "metadata": {},
   "outputs": [],
   "source": [
    "def si_calc(p : float, si_r : float, fr : int, dur: int)-> NamedTuple('S_outs', [('pr', float), ('si_r', float), \n",
    "                                                               ('freq', int), ('dur',int), ('amt', float)]):\n",
    "    amt = p + (p*(si_r/100)*(int(dur/fr)))\n",
    "    amt = \"{:.2f}\".format(amt)\n",
    "    return (p, si_r, fr, dur, amt)"
   ]
  },
  {
   "cell_type": "code",
   "execution_count": 5,
   "metadata": {},
   "outputs": [],
   "source": [
    "kfp_si = kfp.components.func_to_container_op(func = si_calc, \n",
    "                                                          output_component_file = './si_calc.yaml')\n"
   ]
  },
  {
   "cell_type": "markdown",
   "metadata": {},
   "source": [
    "#### Print and Display"
   ]
  },
  {
   "cell_type": "code",
   "execution_count": 6,
   "metadata": {},
   "outputs": [],
   "source": [
    "def si_disp(p : float, si_r : float, fr : int, dur: int, amt: float)-> str:\n",
    "    s_out = \"Principal Amount : {pr}    \\nSimple Interest Rate : {si}% for every {frq} months   \\nTotal Time Duration : {durn} months  \\nFinal Amount : {amount}\".format(pr = p,\n",
    "    si = si_r, frq = fr, durn = dur, amount = amt)\n",
    "    print(s_out)\n",
    "    return s_out\n",
    "    "
   ]
  },
  {
   "cell_type": "code",
   "execution_count": 7,
   "metadata": {},
   "outputs": [],
   "source": [
    "kfp_si_disp = kfp.components.func_to_container_op(func = si_disp, \n",
    "                                                          output_component_file = './si_disp.yaml')\n"
   ]
  },
  {
   "cell_type": "markdown",
   "metadata": {},
   "source": [
    "#### Calculate Compund Interest"
   ]
  },
  {
   "cell_type": "code",
   "execution_count": 8,
   "metadata": {},
   "outputs": [],
   "source": [
    "def ci_calc(p : float, ci_r : float, fr : int, dur: int)-> NamedTuple('S_outs', [('pr', float), ('ci_r', float), \n",
    "                                                               ('freq', int), ('dur',int), ('amt_c', float)]):\n",
    "    amt_c = p*(pow((1+ci_r/100), int(dur/fr)))\n",
    "    amt_c = \"{:.2f}\".format(amt_c)\n",
    "    return (p, ci_r, fr, dur, amt_c)"
   ]
  },
  {
   "cell_type": "code",
   "execution_count": 9,
   "metadata": {},
   "outputs": [],
   "source": [
    "kfp_ci = kfp.components.func_to_container_op(func = ci_calc, \n",
    "                                                          output_component_file = './ci_calc.yaml')\n"
   ]
  },
  {
   "cell_type": "markdown",
   "metadata": {},
   "source": [
    "#### Display"
   ]
  },
  {
   "cell_type": "code",
   "execution_count": 10,
   "metadata": {},
   "outputs": [],
   "source": [
    "def ci_disp(p : float, ci_r : float, fr : int, dur: int, amt_c: float)-> str:\n",
    "    s_out = \"Principal Amount : {pr}\\t\\t   \\nCompound Interest Rate : {si}% compounded every {frq} months   \\nTotal Time Duration : {durn} months  \\nFinal Amount : {amount}\".format(pr = p,\n",
    "    si = ci_r, frq = fr, durn = dur, amount = amt_c)\n",
    "    print(s_out)\n",
    "    return s_out\n",
    "    "
   ]
  },
  {
   "cell_type": "code",
   "execution_count": 11,
   "metadata": {},
   "outputs": [],
   "source": [
    "kfp_ci_disp = kfp.components.func_to_container_op(func = ci_disp, \n",
    "                                                          output_component_file = './si_disp.yaml')\n"
   ]
  },
  {
   "cell_type": "markdown",
   "metadata": {},
   "source": [
    "#### Defining the Pipeline Execution Sequence and Input-Output scheme"
   ]
  },
  {
   "cell_type": "code",
   "execution_count": 12,
   "metadata": {},
   "outputs": [],
   "source": [
    "import kfp.dsl as dsl\n",
    "\n",
    "@dsl.pipeline(name='SI-CI Pipeline',description='Calculates Simple and Compund Interest')\n",
    "def Interest_func(principal_amt: float, simple_interest_rate: float, compound_interest_rate: float, \n",
    "                freq_in_months: int, duration_in_months : int):\n",
    "    \n",
    "    #Passing pipeline parameter and a constant value as operation arguments\n",
    "    read_input_task = kfp_read_inputs(principal_amt, simple_interest_rate, compound_interest_rate, \n",
    "                freq_in_months, duration_in_months) \n",
    "    si_calc_task = kfp_si(read_input_task.outputs['principal'], read_input_task.outputs['si'], \n",
    "                          read_input_task.outputs['freq'], read_input_task.outputs['duration'])\n",
    "    si_disp_task = kfp_si_disp(si_calc_task.outputs['pr'], si_calc_task.outputs['si_r'], \n",
    "                          si_calc_task.outputs['freq'], si_calc_task.outputs['dur'], si_calc_task.outputs['amt'])\n",
    "    ci_calc_task = kfp_ci(read_input_task.outputs['principal'], read_input_task.outputs['ci'], \n",
    "                          read_input_task.outputs['freq'], read_input_task.outputs['duration'])\n",
    "    ci_disp_task = kfp_ci_disp(ci_calc_task.outputs['pr'], ci_calc_task.outputs['ci_r'], \n",
    "                          ci_calc_task.outputs['freq'], ci_calc_task.outputs['dur'], ci_calc_task.outputs['amt_c'])\n",
    "    \n",
    "\n",
    "#For an operation with a single return value, the output reference can be accessed using `task.output` or `task.outputs['output_name']` syntax\n",
    "#For an operation with a multiple return values, the output references can be accessed using `task.outputs['output_name']` syntax"
   ]
  },
  {
   "cell_type": "markdown",
   "metadata": {},
   "source": [
    "#### Compiling the Pipeline"
   ]
  },
  {
   "cell_type": "code",
   "execution_count": 13,
   "metadata": {},
   "outputs": [],
   "source": [
    "pipeline_func = Interest_func\n",
    "pipeline_filename = pipeline_func.__name__+'.pipeline.tar.gz'\n",
    "\n",
    "import kfp.compiler as comp\n",
    "comp.Compiler().compile(pipeline_func, pipeline_filename)"
   ]
  }
 ],
 "metadata": {
  "kernelspec": {
   "display_name": "Python 3",
   "language": "python",
   "name": "python3"
  },
  "language_info": {
   "codemirror_mode": {
    "name": "ipython",
    "version": 3
   },
   "file_extension": ".py",
   "mimetype": "text/x-python",
   "name": "python",
   "nbconvert_exporter": "python",
   "pygments_lexer": "ipython3",
   "version": "3.7.4"
  }
 },
 "nbformat": 4,
 "nbformat_minor": 4
}
