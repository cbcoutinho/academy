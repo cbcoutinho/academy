{
 "cells": [
  {
   "cell_type": "markdown",
   "metadata": {},
   "source": [
    "### Pipeline to Calculate Simple and Compound Interest"
   ]
  },
  {
   "cell_type": "markdown",
   "metadata": {},
   "source": [
    "You can find the full README at:\n",
    "\n",
    "https://github.com/ydataai/academy/blob/master/tutorials/Pipelines/README.md\n"
   ]
  },
  {
   "cell_type": "markdown",
   "metadata": {},
   "source": [
    "### Input variables"
   ]
  },
  {
   "cell_type": "code",
   "execution_count": null,
   "metadata": {},
   "outputs": [],
   "source": [
    "# Pipeline params\n",
    "principal_amt = 10\n",
    "simple_interest_rate = 20\n",
    "compound_interest_rate = 30\n",
    "freq_in_months = 10\n",
    "duration_in_months = 34\n",
    "\n",
    "# Kfp\n",
    "pipeline_name = \"Calculate Simple and Compound Interest\"\n",
    "pipeline_description = \"Calculate Simple and Compound Interest\"\n",
    "experiment_name = \"Simple and Compound Interest experiment\"\n",
    "run_name = \"Sample Run\"\n"
   ]
  },
  {
   "cell_type": "code",
   "execution_count": null,
   "metadata": {},
   "outputs": [],
   "source": [
    "import kfp\n",
    "import typing\n"
   ]
  },
  {
   "cell_type": "markdown",
   "metadata": {},
   "source": [
    "#### Read the Inputs and Pass it to the next Pipeline Block"
   ]
  },
  {
   "cell_type": "code",
   "execution_count": null,
   "metadata": {},
   "outputs": [],
   "source": [
    "# Named Tuple is used to Generate Pipeline Blocks with Multiple Output Parameters\n",
    "\n",
    "from typing import NamedTuple\n",
    "from kfp.components import *\n",
    "\n",
    "def read_inputs(\n",
    "    principal_amt: float,\n",
    "    simple_interest_rate: float,\n",
    "    compound_interest_rate: float,\n",
    "    freq_in_months: int,\n",
    "    duration_in_months: int,\n",
    ") -> NamedTuple(\n",
    "    \"Outputs\",\n",
    "    [\n",
    "        (\"principal\", float),\n",
    "        (\"si\", float),\n",
    "        (\"ci\", float),\n",
    "        (\"freq\", int),\n",
    "        (\"duration\", int),\n",
    "    ],\n",
    "):\n",
    "\n",
    "    return (\n",
    "        principal_amt,\n",
    "        simple_interest_rate,\n",
    "        compound_interest_rate,\n",
    "        freq_in_months,\n",
    "        duration_in_months,\n",
    "    )\n"
   ]
  },
  {
   "cell_type": "code",
   "execution_count": null,
   "metadata": {},
   "outputs": [],
   "source": [
    "kfp_read_inputs = kfp.components.func_to_container_op(\n",
    "    func=read_inputs, output_component_file=\"./read_inp.yaml\"\n",
    ")\n"
   ]
  },
  {
   "cell_type": "markdown",
   "metadata": {},
   "source": [
    "#### Calculate Simple Interest"
   ]
  },
  {
   "cell_type": "code",
   "execution_count": null,
   "metadata": {},
   "outputs": [],
   "source": [
    "def si_calc(\n",
    "    p: float, si_r: float, fr: int, dur: int\n",
    ") -> NamedTuple(\n",
    "    \"S_outs\",\n",
    "    [(\"pr\", float), (\"si_r\", float), (\"freq\", int), (\"dur\", int), (\"amt\", float)],\n",
    "):\n",
    "    amt = p + (p * (si_r / 100) * (int(dur / fr)))\n",
    "    amt = \"{:.2f}\".format(amt)\n",
    "    return (p, si_r, fr, dur, amt)\n"
   ]
  },
  {
   "cell_type": "code",
   "execution_count": null,
   "metadata": {},
   "outputs": [],
   "source": [
    "kfp_si = kfp.components.func_to_container_op(\n",
    "    func=si_calc, output_component_file=\"./si_calc.yaml\"\n",
    ")\n"
   ]
  },
  {
   "cell_type": "markdown",
   "metadata": {},
   "source": [
    "#### Print and Display"
   ]
  },
  {
   "cell_type": "code",
   "execution_count": null,
   "metadata": {},
   "outputs": [],
   "source": [
    "def si_disp(p: float, si_r: float, fr: int, dur: int, amt: float) -> str:\n",
    "    s_out = \"Principal Amount : {pr}    \\nSimple Interest Rate : {si}% for every {frq} months   \\nTotal Time Duration : {durn} months  \\nFinal Amount : {amount}\".format(\n",
    "        pr=p, si=si_r, frq=fr, durn=dur, amount=amt\n",
    "    )\n",
    "    print(s_out)\n",
    "    return s_out\n"
   ]
  },
  {
   "cell_type": "code",
   "execution_count": null,
   "metadata": {},
   "outputs": [],
   "source": [
    "kfp_si_disp = kfp.components.func_to_container_op(\n",
    "    func=si_disp, output_component_file=\"./si_disp.yaml\"\n",
    ")\n"
   ]
  },
  {
   "cell_type": "markdown",
   "metadata": {},
   "source": [
    "#### Calculate Compund Interest"
   ]
  },
  {
   "cell_type": "code",
   "execution_count": null,
   "metadata": {},
   "outputs": [],
   "source": [
    "def ci_calc(\n",
    "    p: float, ci_r: float, fr: int, dur: int\n",
    ") -> NamedTuple(\n",
    "    \"S_outs\",\n",
    "    [(\"pr\", float), (\"ci_r\", float), (\"freq\", int), (\"dur\", int), (\"amt_c\", float)],\n",
    "):\n",
    "    amt_c = p * (pow((1 + ci_r / 100), int(dur / fr)))\n",
    "    amt_c = \"{:.2f}\".format(amt_c)\n",
    "    return (p, ci_r, fr, dur, amt_c)"
   ]
  },
  {
   "cell_type": "code",
   "execution_count": null,
   "metadata": {},
   "outputs": [],
   "source": [
    "kfp_ci = kfp.components.func_to_container_op(\n",
    "    func=ci_calc, output_component_file=\"./ci_calc.yaml\"\n",
    ")\n"
   ]
  },
  {
   "cell_type": "markdown",
   "metadata": {},
   "source": [
    "#### Display"
   ]
  },
  {
   "cell_type": "code",
   "execution_count": null,
   "metadata": {},
   "outputs": [],
   "source": [
    "def ci_disp(p: float, ci_r: float, fr: int, dur: int, amt_c: float) -> str:\n",
    "    s_out = \"Principal Amount : {pr}\\t\\t   \\nCompound Interest Rate : {si}% compounded every {frq} months   \\nTotal Time Duration : {durn} months  \\nFinal Amount : {amount}\".format(\n",
    "        pr=p, si=ci_r, frq=fr, durn=dur, amount=amt_c\n",
    "    )\n",
    "    print(s_out)\n",
    "    return s_out\n"
   ]
  },
  {
   "cell_type": "code",
   "execution_count": null,
   "metadata": {},
   "outputs": [],
   "source": [
    "kfp_ci_disp = kfp.components.func_to_container_op(\n",
    "    func=ci_disp, output_component_file=\"./si_disp.yaml\"\n",
    ")\n"
   ]
  },
  {
   "cell_type": "markdown",
   "metadata": {},
   "source": [
    "#### Defining the Pipeline Execution Sequence and Input-Output scheme"
   ]
  },
  {
   "cell_type": "code",
   "execution_count": null,
   "metadata": {},
   "outputs": [],
   "source": [
    "import kfp.dsl as dsl\n",
    "\n",
    "@dsl.pipeline(\n",
    "    name=pipeline_name,\n",
    "    description=pipeline_description,\n",
    ")\n",
    "def Interest_func(\n",
    "    in_principal_amt: float = principal_amt,\n",
    "    in_simple_interest_rate: float = simple_interest_rate,\n",
    "    in_compound_interest_rate: float = compound_interest_rate,\n",
    "    in_freq_in_months: int = freq_in_months,\n",
    "    in_duration_in_months: int = duration_in_months,\n",
    "):\n",
    "\n",
    "    # Passing pipeline parameter and a constant value as operation arguments\n",
    "    read_input_task = kfp_read_inputs(\n",
    "        in_principal_amt,\n",
    "        in_simple_interest_rate,\n",
    "        in_compound_interest_rate,\n",
    "        in_freq_in_months,\n",
    "        in_duration_in_months,\n",
    "    )\n",
    "    si_calc_task = kfp_si(\n",
    "        read_input_task.outputs[\"principal\"],\n",
    "        read_input_task.outputs[\"si\"],\n",
    "        read_input_task.outputs[\"freq\"],\n",
    "        read_input_task.outputs[\"duration\"],\n",
    "    )\n",
    "    si_disp_task = kfp_si_disp(\n",
    "        si_calc_task.outputs[\"pr\"],\n",
    "        si_calc_task.outputs[\"si_r\"],\n",
    "        si_calc_task.outputs[\"freq\"],\n",
    "        si_calc_task.outputs[\"dur\"],\n",
    "        si_calc_task.outputs[\"amt\"],\n",
    "    )\n",
    "    ci_calc_task = kfp_ci(\n",
    "        read_input_task.outputs[\"principal\"],\n",
    "        read_input_task.outputs[\"ci\"],\n",
    "        read_input_task.outputs[\"freq\"],\n",
    "        read_input_task.outputs[\"duration\"],\n",
    "    )\n",
    "    ci_disp_task = kfp_ci_disp(\n",
    "        ci_calc_task.outputs[\"pr\"],\n",
    "        ci_calc_task.outputs[\"ci_r\"],\n",
    "        ci_calc_task.outputs[\"freq\"],\n",
    "        ci_calc_task.outputs[\"dur\"],\n",
    "        ci_calc_task.outputs[\"amt_c\"],\n",
    "    )\n",
    "\n",
    "# For an operation with a single return value, the output reference can be accessed using `task.output` or `task.outputs['output_name']` syntax\n",
    "# For an operation with a multiple return values, the output references can be accessed using `task.outputs['output_name']` syntax\n"
   ]
  },
  {
   "cell_type": "markdown",
   "metadata": {},
   "source": [
    "#### Compiling the Pipeline"
   ]
  },
  {
   "cell_type": "code",
   "execution_count": null,
   "metadata": {},
   "outputs": [],
   "source": [
    "pipeline_func = Interest_func\n",
    "pipeline_filename = pipeline_func.__name__ + \".pipeline.tar.gz\"\n",
    "\n",
    "import kfp.compiler as comp\n",
    "\n",
    "comp.Compiler().compile(pipeline_func, pipeline_filename)\n"
   ]
  },
  {
   "cell_type": "markdown",
   "metadata": {},
   "source": [
    "#### Running the Pipeline"
   ]
  },
  {
   "cell_type": "code",
   "execution_count": null,
   "metadata": {},
   "outputs": [],
   "source": [
    "import json\n",
    "import uuid\n",
    "from random import randrange\n",
    "\n",
    "client = kfp.Client()\n",
    "\n",
    "# check if pipeline already exists -> if not, create a new one\n",
    "filter = json.dumps(\n",
    "    {\n",
    "        \"predicates\": [\n",
    "            {\"key\": \"name\", \"op\": 1, \"string_value\": \"{}\".format(pipeline_name)}\n",
    "        ]\n",
    "    }\n",
    ")\n",
    "pipeline = client.pipelines.list_pipelines(filter=filter)\n",
    "\n",
    "if pipeline.pipelines is None:\n",
    "    print(\"Creating a new pipeline: \" + pipeline_name)\n",
    "    pipeline = client.pipeline_uploads.upload_pipeline(\n",
    "        pipeline_filename, name=pipeline_name, description=pipeline_description\n",
    "    )\n",
    "else:\n",
    "    print(\"Pipeline already exists: \" + pipeline_name)\n",
    "    pipeline = pipeline.pipelines[0]\n",
    "    \n",
    "pipeline_version = str(uuid.uuid4())\n",
    "\n",
    "print(\"Creating a new pipeline version: \" + pipeline_name + str(\" [\" + pipeline_version + \"]\"))\n",
    "client.pipeline_uploads.upload_pipeline_version(\n",
    "    pipeline_filename,\n",
    "    name=pipeline_name + str(\" [\" + pipeline_version + \"]\"),\n",
    "    pipelineid=pipeline.id,\n",
    ")\n",
    "\n",
    "# create a new experiment or use an existing one\n",
    "print(\"Creating a new experiment or use an existing one: \" + experiment_name)\n",
    "experiment = client.create_experiment(name=experiment_name)\n",
    "\n",
    "# create a new run with a random identifier\n",
    "run_random_id = str(randrange(1000))\n",
    "print(\"Creating a new run: \" + run_name + \" [\" + run_random_id + \"]\")\n",
    "new_run = client.run_pipeline(\n",
    "    experiment.id, run_name + \" [\" + run_random_id + \"]\", pipeline_id=pipeline.id\n",
    ")\n"
   ]
  }
 ],
 "metadata": {
  "kernelspec": {
   "display_name": "Python 3",
   "language": "python",
   "name": "python3"
  },
  "language_info": {
   "codemirror_mode": {
    "name": "ipython",
    "version": 3
   },
   "file_extension": ".py",
   "mimetype": "text/x-python",
   "name": "python",
   "nbconvert_exporter": "python",
   "pygments_lexer": "ipython3",
   "version": "3.7.9"
  }
 },
 "nbformat": 4,
 "nbformat_minor": 4
}