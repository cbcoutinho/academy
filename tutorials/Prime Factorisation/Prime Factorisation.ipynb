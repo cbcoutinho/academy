{
 "cells": [
  {
   "cell_type": "markdown",
   "metadata": {},
   "source": [
    "### Pipeline that checks if a number is Non-Prime and Outputs the Prime Factors"
   ]
  },
  {
   "cell_type": "markdown",
   "metadata": {},
   "source": [
    "##### Process Flow in Creating a YData Pipeline  -\n",
    "\n",
    "- Define the Function to Execute inside your Pipeline block \n",
    "- Create the Pipeline Block component(s)\n",
    "- Create the component task (Multiple tasks with different input Parameters can be created from the same Pipeline    component\n",
    "- Create the Pipeline definition with the Execution sequence\n",
    "- Compile the Pipeline \n",
    "- Upload the Generated .tar.gz file to your YData Pipelines and Run!"
   ]
  },
  {
   "cell_type": "code",
   "execution_count": null,
   "metadata": {},
   "outputs": [],
   "source": [
    "# The kfp-python package provides the Interface to Generate and Run Pipelines\n",
    "\n",
    "import kfp\n",
    "import typing"
   ]
  },
  {
   "cell_type": "markdown",
   "metadata": {},
   "source": [
    "#### Read the Number Input and Pass it to the next Pipeline Block"
   ]
  },
  {
   "cell_type": "code",
   "execution_count": null,
   "metadata": {},
   "outputs": [],
   "source": [
    "from kfp.components import *\n",
    "\n",
    "# This is the Function definition which will run inside your first Pipeline block\n",
    "#Input Parameters are defined just like a normal Python function definition\n",
    "\n",
    "def import_number(numb: int) -> int: #Single Output Parameters are defined as shown\n",
    "    num = numb\n",
    "    return num      #return the output Parameter"
   ]
  },
  {
   "cell_type": "code",
   "execution_count": null,
   "metadata": {},
   "outputs": [],
   "source": [
    "#kfp.components subclass is used to create Pipeline components from Python definitions/functions \n",
    "#func_to_container_op packages the python function into a Pipeline Block which runs as a Kubernetes Pod\n",
    "\n",
    "kfp_import_number = kfp.components.func_to_container_op(func = import_number, \n",
    "                                                          output_component_file = './imp_num.yaml',  \n",
    "                             #this yaml component file is the Kubernetes pod definition for your Pipeline block \n",
    "                                                       packages_to_install = ['sympy==1.5.1'])\n",
    "                                #kfp uses a Docker Tensorflow container image\n",
    "                                #list the packages that are not inherently installed into that container\n",
    "                                #image over here, so that they are installed at the time of \n",
    "                                #container creation. Be sure to also include the correct package version if it \n",
    "                                #is not the most recent one."
   ]
  },
  {
   "cell_type": "markdown",
   "metadata": {},
   "source": [
    "#### Check if Number is a Prime or a Consonant"
   ]
  },
  {
   "cell_type": "code",
   "execution_count": null,
   "metadata": {},
   "outputs": [],
   "source": [
    "from typing import NamedTuple\n",
    "\n",
    "#Named Tuple is used for declaring Multiple Parameter Outputs\n",
    "\n",
    "from kfp.components import *\n",
    "\n",
    "def is_prime(numb: int) -> NamedTuple('S_outs', [('num', int), ('result', bool)]): \n",
    "                            #Multiple Output Parameters are defined using Named Tuple\n",
    "    \n",
    "    #Note that it is also necessary to import the packages in addition to listing them in the\n",
    "    #func_to_container_op definition\n",
    "    \n",
    "    import sympy\n",
    "    \n",
    "    num = numb\n",
    "    if(sympy.isprime(num)):\n",
    "        str_isprime = \"{} is a Prime Number\".format(num)\n",
    "    else:\n",
    "        str_isprime = \"{} is a Consonant\".format(num)\n",
    "    \n",
    "    print(str_isprime)   #Printed Outputs can be viewed in the Pipeline Block's 'Logs' tab\n",
    "    \n",
    "    return (num, sympy.isprime(num))  #Return the Multiple Parameters as a Tuple"
   ]
  },
  {
   "cell_type": "code",
   "execution_count": null,
   "metadata": {},
   "outputs": [],
   "source": [
    "kfp_is_prime = kfp.components.func_to_container_op(func = is_prime, \n",
    "                                                          output_component_file = './is_prime.yaml',\n",
    "                                                       packages_to_install = ['sympy'])\n"
   ]
  },
  {
   "cell_type": "markdown",
   "metadata": {},
   "source": [
    "#### Conditional Block - Only executed if the Number is Prime"
   ]
  },
  {
   "cell_type": "code",
   "execution_count": null,
   "metadata": {},
   "outputs": [],
   "source": [
    "def prime_print(numb: int) -> str:\n",
    "    s = \"{} is Prime\".format(numb)\n",
    "    print(s)\n",
    "    return s"
   ]
  },
  {
   "cell_type": "code",
   "execution_count": null,
   "metadata": {},
   "outputs": [],
   "source": [
    "kfp_prime_print = kfp.components.func_to_container_op(func = prime_print, \n",
    "                                                          output_component_file = './prime_print.yaml')\n"
   ]
  },
  {
   "cell_type": "markdown",
   "metadata": {},
   "source": [
    "#### Consonant Number's Prime Factors are Returned"
   ]
  },
  {
   "cell_type": "code",
   "execution_count": null,
   "metadata": {},
   "outputs": [],
   "source": [
    "from typing import NamedTuple\n",
    "from kfp.components import *\n",
    "\n",
    "def prime_fact(numb: int) -> NamedTuple('S_outs', [('num', int), ('prime_factors', list)]):\n",
    "    import sympy\n",
    "    num = numb\n",
    "    l_prime = sympy.primefactors(num)\n",
    "    print(\"Factors of {} are: \".format(num))\n",
    "    for x in l_prime:\n",
    "        print(\"{} \".format(x), end=\" \")\n",
    "    return (num, l_prime)"
   ]
  },
  {
   "cell_type": "code",
   "execution_count": null,
   "metadata": {},
   "outputs": [],
   "source": [
    "kfp_prime_fact = kfp.components.func_to_container_op(func = prime_fact, \n",
    "                                                          output_component_file = './prime_fact.yaml',\n",
    "                                                  packages_to_install = ['sympy'])\n"
   ]
  },
  {
   "cell_type": "markdown",
   "metadata": {},
   "source": [
    "#### Exit Handler"
   ]
  },
  {
   "cell_type": "code",
   "execution_count": null,
   "metadata": {},
   "outputs": [],
   "source": [
    "#The exit Handler function is the Pipeline-block that will execute regardless of successful or failed execution \n",
    "#of the Pipeline\n",
    "\n",
    "def exit_handle(msg: str):\n",
    "    print(msg)"
   ]
  },
  {
   "cell_type": "code",
   "execution_count": null,
   "metadata": {},
   "outputs": [],
   "source": [
    "kfp_exit_handle = kfp.components.func_to_container_op(func = exit_handle, \n",
    "                                                      output_component_file = \"./ext_hdle.yaml\")"
   ]
  },
  {
   "cell_type": "markdown",
   "metadata": {},
   "source": [
    "#### Defining the Pipeline Execution Sequence and Input-Output scheme"
   ]
  },
  {
   "cell_type": "code",
   "execution_count": null,
   "metadata": {},
   "outputs": [],
   "source": [
    "#kfp.dsl is used to create the Pipeline Definition and the Sequence of Execution for the Pipeline Blocks\n",
    "\n",
    "import kfp.dsl as dsl\n",
    "\n",
    "#@dsl decorator can also be used\n",
    "\n",
    "@dsl.pipeline(name='Prime Factorisation',description='Prime Factorizes if given number is a Consonant')\n",
    "def Primefact_func(enter_number: int):  #The input parameter(s) defined here will be accessible to the User running\n",
    "                                        #the pipeline from the YData Pipelines Dashboard\n",
    "    \n",
    "    exit_task = kfp_exit_handle('Operation completed')  #Exit task is defined first - this is the task \n",
    "    \n",
    "    #It is important to follow the correct sequence in defining the Operational sequence of the Pipeline Blocks\n",
    "    #Keeping in mind their relative Input-Output schemes\n",
    "    #dsl.ExitHandler is used to create an Unconditionally Executable Block - with the \n",
    "    \n",
    "    with dsl.ExitHandler(exit_task):\n",
    "        imp_num_task = kfp_import_number(enter_number)\n",
    "        is_prime_task = kfp_is_prime(imp_num_task.output)\n",
    "        \n",
    "        #dsl.Condition is used to create conditional execution of a Pipeline Block\n",
    "        #If Number is Prime, only this block will execute, and Print output 'Prime'\n",
    "        with dsl.Condition(is_prime_task.outputs['result']==True):\n",
    "            prime_print_task = kfp_prime_print(is_prime_task.outputs['num'])\n",
    "        \n",
    "        #If Number is non-Prime, this block will execute, and return the Prime Factors of the Number\n",
    "        with dsl.Condition(is_prime_task.outputs['result']==False):\n",
    "            prime_fact_task = kfp_prime_fact(is_prime_task.outputs['num'])\n",
    "\n",
    "#For an operation with a single return value, the output reference can be accessed using `task.output` or `task.outputs['output_name']` syntax\n",
    "#For an operation with a multiple return values, the output references can be accessed using `task.outputs['output_name']` syntax"
   ]
  },
  {
   "cell_type": "markdown",
   "metadata": {},
   "source": [
    "#### Compiling the Pipeline"
   ]
  },
  {
   "cell_type": "code",
   "execution_count": null,
   "metadata": {},
   "outputs": [],
   "source": [
    "#pipeline_func should be the same as the Pipeline definition name above\n",
    "\n",
    "pipeline_func = Primefact_func\n",
    "pipeline_filename = pipeline_func.__name__+'.pipeline.tar.gz'   #Filename can be different if you want\n",
    "\n",
    "import kfp.compiler as comp\n",
    "comp.Compiler().compile(pipeline_func, pipeline_filename)\n",
    "\n",
    "#This will generate the .tar.gz file for the Pipeline, which should be uploaded to the YData Pipelines Dashboard\n",
    "#using the procedure as in the Tutorial document"
   ]
  }
 ],
 "metadata": {
  "kernelspec": {
   "display_name": "Python 3",
   "language": "python",
   "name": "python3"
  },
  "language_info": {
   "codemirror_mode": {
    "name": "ipython",
    "version": 3
   },
   "file_extension": ".py",
   "mimetype": "text/x-python",
   "name": "python",
   "nbconvert_exporter": "python",
   "pygments_lexer": "ipython3",
   "version": "3.7.4"
  }
 },
 "nbformat": 4,
 "nbformat_minor": 4
}
